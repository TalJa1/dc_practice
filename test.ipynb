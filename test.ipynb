{
 "cells": [
  {
   "cell_type": "code",
   "execution_count": 7,
   "metadata": {},
   "outputs": [],
   "source": [
    "# import np, pd and matplotlib and seaborn\n",
    "import numpy as np  # type: ignore\n",
    "import pandas as pd  # type: ignore\n",
    "import matplotlib.pyplot as plt  # type: ignore\n",
    "import seaborn as sns  # type: ignore"
   ]
  },
  {
   "cell_type": "code",
   "execution_count": 19,
   "metadata": {},
   "outputs": [
    {
     "name": "stdout",
     "output_type": "stream",
     "text": [
      "  col1  col2   new\n",
      "0    a     1  b, c\n",
      "1    d     2  e, f\n",
      "2    g     3  h, i\n"
     ]
    }
   ],
   "source": [
    "# df with string with lot of commas seperated by spaces\n",
    "df = pd.DataFrame({\n",
    "    'col1': ['a, b, c', 'd, e, f', 'g, h, i'],\n",
    "    'col2': [1, 2, 3]\n",
    "})\n",
    "\n",
    "# split the string in col1 by comma and space and explode the dataframe\n",
    "df[['col1', 'new']] = df['col1'].str.split(', ', n=1, expand=True)\n",
    "\n",
    "print(df)"
   ]
  },
  {
   "cell_type": "code",
   "execution_count": null,
   "metadata": {},
   "outputs": [],
   "source": []
  }
 ],
 "metadata": {
  "kernelspec": {
   "display_name": "Python 3",
   "language": "python",
   "name": "python3"
  },
  "language_info": {
   "codemirror_mode": {
    "name": "ipython",
    "version": 3
   },
   "file_extension": ".py",
   "mimetype": "text/x-python",
   "name": "python",
   "nbconvert_exporter": "python",
   "pygments_lexer": "ipython3",
   "version": "3.13.3"
  }
 },
 "nbformat": 4,
 "nbformat_minor": 2
}
