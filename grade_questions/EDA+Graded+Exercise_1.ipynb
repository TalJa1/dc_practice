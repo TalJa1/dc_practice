{
 "cells": [
  {
   "cell_type": "code",
   "execution_count": null,
   "metadata": {},
   "outputs": [],
   "source": [
    "# import np, pd and matplotlib and seaborn\n",
    "import numpy as np  # type: ignore\n",
    "import pandas as pd  # type: ignore\n",
    "import matplotlib.pyplot as plt  # type: ignore\n",
    "import seaborn as sns  # type: ignore"
   ]
  },
  {
   "cell_type": "markdown",
   "metadata": {},
   "source": [
    "## Data Cleaning\n"
   ]
  },
  {
   "cell_type": "markdown",
   "metadata": {},
   "source": [
    "### Data Reading & Data Types\n"
   ]
  },
  {
   "cell_type": "code",
   "execution_count": 46,
   "metadata": {},
   "outputs": [],
   "source": [
    "# Read the data in pandas\n",
    "inp0 = pd.read_csv(\n",
    "    r\"C:\\ZTalJaZ\\Storage\\MasterOfDataScience\\Data-Sources\\Data_Toolkits\\Graded_DressAttribute.csv\"\n",
    ")\n",
    "inp1 = pd.read_csv(\n",
    "    r\"C:\\ZTalJaZ\\Storage\\MasterOfDataScience\\Data-Sources\\Data_Toolkits\\Graded_DressSales.csv\"\n",
    ")"
   ]
  },
  {
   "cell_type": "markdown",
   "metadata": {},
   "source": [
    "You have “Attribute DataSet” which contains a column named “Price”. Choose the correct statement from the following about its data type and variable type.\n",
    "\n",
    "- Integer type and numerical variable\n",
    "- Object type and categorical ordinal variable\n",
    "- Object type and categorical nominal variable\n",
    "- Float type and categorical variable.\n"
   ]
  },
  {
   "cell_type": "markdown",
   "metadata": {},
   "source": [
    "There is another column in “Attribute DataSet” named as “Recommendation”, choose the correct statement about its data type and variable type.\n",
    "\n",
    "- Integer type and categorical\n",
    "- Object type and categorical\n",
    "- Integer type and continuous numerical\n",
    "- Object type only.\n"
   ]
  },
  {
   "cell_type": "markdown",
   "metadata": {},
   "source": [
    "Which of the following column do you think are of no use in “Attribute DataSet”.\n",
    "\n",
    "- Dress_ID\n",
    "- Price\n",
    "- Size and material\n",
    "- NeckLine\n",
    "- None of the above\n"
   ]
  },
  {
   "cell_type": "code",
   "execution_count": null,
   "metadata": {},
   "outputs": [],
   "source": [
    "# Print the information about the attributes of inp0 and inp1.\n",
    "display(inp0.info())\n",
    "display(inp1.info())"
   ]
  },
  {
   "cell_type": "markdown",
   "metadata": {},
   "source": [
    "### Fixing the Rows and Columns\n"
   ]
  },
  {
   "cell_type": "markdown",
   "metadata": {},
   "source": [
    "As you can see, there is a column in “Attribute Dataset” named as ‘Size’. This column contains the values in abbreviation format. Write a code in Python to convert the followings:\n",
    "\n",
    "- M into “Medium”\n",
    "- L into “Large”\n",
    "- XL into “Extra large”\n",
    "- free into “Free”\n",
    "- S, s & small into “Small”.\n",
    "\n",
    "Now once you are done with changes in the dataset, what is the value of the lowest percentage, the highest percentage and the percentage of Small size categories in the column named “Size”?\n"
   ]
  },
  {
   "cell_type": "code",
   "execution_count": 47,
   "metadata": {},
   "outputs": [
    {
     "data": {
      "text/plain": [
       "Size\n",
       "Medium         35.699374\n",
       "Free           34.446764\n",
       "Large          19.415449\n",
       "Small           7.515658\n",
       "Extra Large     2.922756\n",
       "Name: proportion, dtype: float64"
      ]
     },
     "execution_count": 47,
     "metadata": {},
     "output_type": "execute_result"
    }
   ],
   "source": [
    "# Column fixing, correcting size abbreviation. count the percentage of each size category in \"Size\" column.\n",
    "inp0[\"Size\"] = inp0[\"Size\"].replace(\n",
    "    {\n",
    "        \"free\": \"Free\",\n",
    "        \"S\": \"Small\",\n",
    "        \"M\": \"Medium\",\n",
    "        \"L\": \"Large\",\n",
    "        \"XL\": \"Extra Large\",\n",
    "        \"s\": \"Small\",\n",
    "        'small': \"Small\",\n",
    "    }\n",
    ")\n",
    "\n",
    "# Count the percentage of each size category in \"Size\" column.\n",
    "inp0[\"Size\"].value_counts(normalize=True) * 100"
   ]
  },
  {
   "cell_type": "code",
   "execution_count": null,
   "metadata": {},
   "outputs": [],
   "source": [
    "# Print the value counts of each category in \"Size\" column.\n",
    "inp0[\"Size\"].value_counts()"
   ]
  },
  {
   "cell_type": "markdown",
   "metadata": {},
   "source": [
    "### Impute/Remove Missing values\n"
   ]
  },
  {
   "cell_type": "code",
   "execution_count": null,
   "metadata": {},
   "outputs": [],
   "source": [
    "# Print the null count of each variables of inp0 and inp1.\n",
    "\n",
    "display(inp0.isnull().sum())\n",
    "display(inp1.isnull().sum())"
   ]
  },
  {
   "cell_type": "markdown",
   "metadata": {},
   "source": [
    "You are given another dataset named “Dress Sales”. Now if you observe the datatypes of the columns using ‘inp1.info()’ command, you can identify that there are certain columns defined as object data type though they primarily consist of numeric data.\n",
    "\n",
    "Now if you try and convert these object data type columns into numeric data type(float), you will come across an error message. Try to correct this error.\n"
   ]
  },
  {
   "cell_type": "code",
   "execution_count": null,
   "metadata": {},
   "outputs": [],
   "source": [
    "# Print the data types information of inp1 i.e. \"Dress Sales\" data.\n",
    "inp1.info()"
   ]
  },
  {
   "cell_type": "code",
   "execution_count": null,
   "metadata": {},
   "outputs": [],
   "source": [
    "# Try to convert the object type into float type of data. YOU GET ERROR MESSAGE.\n",
    "# inp1['09-12-2013'] = inp1['09-12-2013'].astype(float)"
   ]
  },
  {
   "cell_type": "code",
   "execution_count": null,
   "metadata": {},
   "outputs": [],
   "source": [
    "# Do the required changes in the \"Dress Sales\".csv data set to get null values on string values.\n",
    "inp1 = inp1.replace(\" \", np.nan)"
   ]
  },
  {
   "cell_type": "code",
   "execution_count": null,
   "metadata": {},
   "outputs": [],
   "source": [
    "# Convert the object type columns in \"Dress Sales\".csv into float type of data type.\n",
    "object_columns = inp1.select_dtypes(include=[\"object\"]).columns\n",
    "\n",
    "# Loop through the identified object columns\n",
    "for col in object_columns:\n",
    "    # Attempt to convert the column to numeric, coercing errors\n",
    "    # 'coerce' will replace values that cannot be converted (like '', 'Orders', 'Removed') with NaN\n",
    "    # This automatically handles missing values represented as empty strings and specific non-numeric strings\n",
    "    inp1[col] = pd.to_numeric(inp1[col], errors=\"coerce\")\n",
    "\n",
    "print(inp1.info())"
   ]
  },
  {
   "cell_type": "markdown",
   "metadata": {},
   "source": [
    "When you see the null counts in “Dress Sales” dataset after performing all the operations that have been mentioned in jupyter notebook, you will find that there are some columns in “Dress Sales” data where there are more than 40% of missing values. Based on your understanding of dealing with missing values do the following steps.\n"
   ]
  },
  {
   "cell_type": "code",
   "execution_count": null,
   "metadata": {},
   "outputs": [],
   "source": [
    "# Print the null percetange of each column of inp1.\n",
    "display(inp1.isnull().sum() / inp1.shape[0] * 100)"
   ]
  },
  {
   "cell_type": "code",
   "execution_count": null,
   "metadata": {},
   "outputs": [],
   "source": [
    "# Drop the columns in \"Dress Sales\" which have more than 40% of missing values.\n",
    "inp1 = inp1.dropna(thresh=0.6 * inp1.shape[0], axis=1)\n",
    "\n",
    "print(inp1.info())"
   ]
  },
  {
   "cell_type": "markdown",
   "metadata": {},
   "source": [
    "You should categorise the dates into seasons in “Dress Sales” data to simplify the analysis according to the following criteria:\n",
    "\n",
    "- June, July and August: Summer.\n",
    "- September, October and November: Autumn.\n",
    "- December, January and February: WInter.\n",
    "- March, April and May: Spring.\n"
   ]
  },
  {
   "cell_type": "code",
   "execution_count": 48,
   "metadata": {},
   "outputs": [],
   "source": [
    "# Create the four seasons columns in inp1, according to the above criteria.\n",
    "object_columns = inp1.select_dtypes(include=[\"object\"]).columns\n",
    "if \"Dress_ID\" in object_columns:\n",
    "    object_columns = object_columns.drop(\"Dress_ID\")  # Exclude Dress_ID if it's object\n",
    "\n",
    "# Loop through the identified object columns and convert\n",
    "for col in object_columns:\n",
    "    inp1[col] = pd.to_numeric(inp1[col], errors=\"coerce\")\n",
    "\n",
    "# --- End: Code from previous step ---\n",
    "\n",
    "\n",
    "# Function to map month number to season\n",
    "def get_season(month):\n",
    "    if month in [6, 7, 8]:\n",
    "        return \"Summer\"\n",
    "    elif month in [9, 10, 11]:\n",
    "        return \"Autumn\"\n",
    "    elif month in [12, 1, 2]:\n",
    "        return \"Winter\"\n",
    "    elif month in [3, 4, 5]:\n",
    "        return \"Spring\"\n",
    "    else:\n",
    "        return \"Unknown\"  # Should not happen with valid dates\n",
    "\n",
    "\n",
    "# Get all column names except 'Dress_ID'\n",
    "date_columns = [col for col in inp1.columns if col != \"Dress_ID\"]\n",
    "\n",
    "# Create dictionaries to store columns for each season\n",
    "season_columns = {\"Spring\": [], \"Summer\": [], \"Autumn\": [], \"Winter\": []}\n",
    "\n",
    "# Categorize columns by season\n",
    "for col in date_columns:\n",
    "    try:\n",
    "        # Extract month from column name (assuming DD-MM-YYYY format)\n",
    "        date_obj = pd.to_datetime(col, format=\"%d-%m-%Y\")\n",
    "        month = date_obj.month\n",
    "        season = get_season(month)\n",
    "        if season != \"Unknown\":\n",
    "            season_columns[season].append(col)\n",
    "    except ValueError:\n",
    "        print(f\"Warning: Could not parse date from column name: {col}. Skipping.\")\n",
    "\n",
    "# Calculate total sales for each season and add as new columns\n",
    "# Use fillna(0) before summing if you want NaN to definitively count as 0 sales\n",
    "# Otherwise, sum() handles NaN by skipping them (sum of NaNs is NaN unless skipna=False)\n",
    "for season, cols in season_columns.items():\n",
    "    if cols:  # Check if there are any columns for this season\n",
    "        inp1[f\"{season}_Sales\"] = inp1[cols].sum(axis=1, skipna=True)\n",
    "    else:\n",
    "        inp1[f\"{season}_Sales\"] = 0  # Assign 0 if no columns found for a season\n",
    "\n",
    "# Select and display the Dress_ID and the new seasonal sales columns\n",
    "seasonal_summary = inp1[\n",
    "    [\"Dress_ID\", \"Spring_Sales\", \"Summer_Sales\", \"Autumn_Sales\", \"Winter_Sales\"]\n",
    "]"
   ]
  },
  {
   "cell_type": "code",
   "execution_count": 49,
   "metadata": {},
   "outputs": [
    {
     "name": "stdout",
     "output_type": "stream",
     "text": [
      "         Season  Total_Sales\n",
      "0  Spring_Sales     199084.0\n",
      "1  Summer_Sales     749797.0\n",
      "2  Autumn_Sales    1551540.0\n",
      "3  Winter_Sales     529149.0\n"
     ]
    }
   ],
   "source": [
    "# calculate the sum of sales in each seasons in inp1 i.e. \"Dress Sales\".\n",
    "\n",
    "# print sum all sales in each seasons in inp1 i.e. \"Dress Sales\".\n",
    "seasonal_summary_sum = seasonal_summary[\n",
    "    [\"Spring_Sales\", \"Summer_Sales\", \"Autumn_Sales\", \"Winter_Sales\"]\n",
    "].sum()\n",
    "\n",
    "seasonal_summary_sum = seasonal_summary_sum.reset_index()\n",
    "seasonal_summary_sum.columns = [\"Season\", \"Total_Sales\"]\n",
    "seasonal_summary_sum[\"Total_Sales\"] = seasonal_summary_sum[\"Total_Sales\"].astype(float)\n",
    "\n",
    "print(seasonal_summary_sum)"
   ]
  },
  {
   "cell_type": "markdown",
   "metadata": {},
   "source": [
    "Now let's merge inp1 with inp0 with left join manner, so that the information of inp0 should remain intact.\n"
   ]
  },
  {
   "cell_type": "code",
   "execution_count": null,
   "metadata": {},
   "outputs": [],
   "source": [
    "# Merge inp0 with inp1 into inp0. this is also called left merge.\n",
    "inp0 = pd.merge(\n",
    "    left=inp0, right=inp1, how=\"left\", left_on=\"Dress_ID\", right_on=\"Dress_ID\"\n",
    ")\n",
    "inp0.head()"
   ]
  },
  {
   "cell_type": "code",
   "execution_count": null,
   "metadata": {},
   "outputs": [],
   "source": [
    "# Now Drop the Date columns from inp0 as it is already combined into four seasons.\n",
    "inp0.drop(inp0.loc[:, \"29-08-2013\":\"10-12-2013\"].columns, axis=1, inplace=True)\n",
    "inp0.isnull().sum()"
   ]
  },
  {
   "cell_type": "markdown",
   "metadata": {},
   "source": [
    "Print the null count of inp0 to get the idea about the missing values in data set.\n"
   ]
  },
  {
   "cell_type": "code",
   "execution_count": null,
   "metadata": {},
   "outputs": [],
   "source": [
    "# Print the null count of each columns in inp0 dataframe i.e. combined data frame of inp0 and inp1 without date columns.\n",
    "display(inp0.isnull().sum())"
   ]
  },
  {
   "cell_type": "markdown",
   "metadata": {},
   "source": [
    "You can see that there are two types of variables one with a large number of missing values and another is very less number of missing values. These two columns can be categorized as:\n",
    "\n",
    "Type-1: Missing values are very less (around 2 or 3 missing values): Price, Season, NeckLine, SleeveLength, Winter and Autumn.\n",
    "\n",
    "Type-2: Missing values are large in numbers (more than 15%): Material, FabricType, Decoration and Pattern Type.\n"
   ]
  },
  {
   "cell_type": "code",
   "execution_count": null,
   "metadata": {},
   "outputs": [],
   "source": [
    "# Deal with the missing values of Type-1 columns: Price, Season, NeckLine, SleeveLength, Winter and Autumn.\n",
    "# Price is Low, Average, High values. So, we can fill the missing values with the mode of the column.\n",
    "inp0[\"Price\"].fillna(inp0[\"Price\"].mode()[0], inplace=True)\n",
    "# Season is Summer, Autumn, Winter, Spring. So, we can fill the missing values with the mode of the column.\n",
    "inp0[\"Season\"].fillna(inp0[\"Season\"].mode()[0], inplace=True)\n",
    "# So, we can fill the missing values with the mode of the column.\n",
    "inp0[\"NeckLine\"].fillna(inp0[\"NeckLine\"].mode()[0], inplace=True)\n",
    "# SleeveLength is Full, Half, Sleeveless. So, we can fill the missing values with the mode of the column.\n",
    "inp0[\"SleeveLength\"].fillna(inp0[\"SleeveLength\"].mode()[0], inplace=True)\n",
    "# Winter is 0, 1. So, we can fill the missing values with the mode of the column.\n",
    "inp0[\"Winter_Sales\"].fillna(inp0[\"Winter_Sales\"].mode()[0], inplace=True)\n",
    "# Autumn is 0, 1. So, we can fill the missing values with the mode of the column.\n",
    "inp0[\"Autumn_Sales\"].fillna(inp0[\"Autumn_Sales\"].mode()[0], inplace=True)"
   ]
  },
  {
   "cell_type": "code",
   "execution_count": null,
   "metadata": {},
   "outputs": [],
   "source": [
    "# Deal with the missing values for Type-2 columns: Material, FabricType, Decoration and Pattern Type.\n",
    "# drop values in Material, FabricType, Decoration and Pattern Type columns.\n",
    "inp0.dropna(subset=[\"Material\", \"FabricType\", \"Decoration\", \"Pattern Type\"], inplace=True)"
   ]
  },
  {
   "cell_type": "markdown",
   "metadata": {},
   "source": [
    "### Standardise value\n"
   ]
  },
  {
   "cell_type": "markdown",
   "metadata": {},
   "source": [
    "In the given dataset, there are certain discrepancies with the categorical names such as irregular spellings. Choose the correct option of columns with irregular categories and update them.\n",
    "\n",
    "- Season, NeckLine\n",
    "- Price, Material\n",
    "- fabricType, Decoration\n",
    "- Season, SleeveLength\n"
   ]
  },
  {
   "cell_type": "code",
   "execution_count": null,
   "metadata": {},
   "outputs": [],
   "source": [
    "display(inp0[\"Season\"].value_counts().index.tolist())"
   ]
  },
  {
   "cell_type": "code",
   "execution_count": null,
   "metadata": {},
   "outputs": [],
   "source": [
    "# correcting the spellings.\n",
    "inp0[\"NeckLine\"] = inp0[\"NeckLine\"].replace(\n",
    "    {\n",
    "        \"o-neck\": \"O-Neck\",\n",
    "        \"v-neck\": \"V-Neck\",\n",
    "        \"slash-neck\": \"Slash-Neck\",\n",
    "        \"boat-neck\": \"Boat-Neck\",\n",
    "        \"Sweetheart\": \"Sweet Heart\",\n",
    "        \"turndowncollor\": \"Turndown Collar\",\n",
    "        \"bowneck\": \"Bow Neck\",\n",
    "        \"peterpan-collor\": \"Peter Pan Collar\",\n",
    "        \"sqare-collor\": \"Square Collar\",\n",
    "        \"open\": \"Open Neck\",\n",
    "        \"Scoop\": \"Scoop Neck\",\n",
    "        \"ruffled\": \"Ruffled Neck\",\n",
    "        \"mandarin-collor\": \"Mandarin Collar\",\n",
    "        \"sweetheart\": \"Sweet Heart\",\n",
    "        \"halter\": \"Halter Neck\",\n",
    "        \"backless\": \"Backless Neck\",\n",
    "    }\n",
    ")\n",
    "\n",
    "inp0[\"Season\"] = inp0[\"Season\"].replace(\n",
    "    {\n",
    "        \"Spring\": \"Spring\",\n",
    "        \"Autumn\": \"Autumn\",\n",
    "        \"Summer\": \"Summer\",\n",
    "        \"Winter\": \"Winter\",\n",
    "        \"spring\": \"Spring\",\n",
    "        \"autumn\": \"Autumn\",\n",
    "        \"summer\": \"Summer\",\n",
    "        \"winter\": \"Winter\",\n",
    "    }\n",
    ")\n",
    "inp0[\"FabricType\"] = inp0[\"FabricType\"].replace(\n",
    "    {\n",
    "        \"chiffon\": \"Chiffon\",\n",
    "        \"tulle\": \"Tulle\",\n",
    "        \"satin\": \"Satin\",\n",
    "        \"jersey\": \"Jersey\",\n",
    "        \"denim\": \"Denim\",\n",
    "        \"cotton\": \"Cotton\",\n",
    "        \"rayon\": \"Rayon\",\n",
    "        \"polyester\": \"Polyester\",\n",
    "        \"lace\": \"Lace\",\n",
    "        \"silk\": \"Silk\",\n",
    "        # 'other': 'Other',\n",
    "    }\n",
    ")\n",
    "\n",
    "inp0[\"Decoration\"] = inp0[\"Decoration\"].replace(\n",
    "    {\n",
    "        \"beading\": \"Beading\",\n",
    "        \"embroidery\": \"Embroidery\",\n",
    "        \"ruffles\": \"Ruffles\",\n",
    "        \"lace\": \"Lace\",\n",
    "        \"appliques\": \"Appliques\",\n",
    "        \"bow\": \"Bow\",\n",
    "        \"button\": \"Button\",\n",
    "        # 'other': 'Other',\n",
    "    }\n",
    ")\n",
    "inp0[\"Pattern Type\"] = inp0[\"Pattern Type\"].replace(\n",
    "    {\n",
    "        \"solid\": \"Solid\",\n",
    "        \"striped\": \"Striped\",\n",
    "        \"floral\": \"Floral\",\n",
    "        \"polka dot\": \"Polka Dot\",\n",
    "        \"animal\": \"Animal\",\n",
    "        \"geometric\": \"Geometric\",\n",
    "        # 'other': 'Other',\n",
    "    }\n",
    ")"
   ]
  },
  {
   "cell_type": "code",
   "execution_count": null,
   "metadata": {},
   "outputs": [],
   "source": [
    "# correcting the Spellings."
   ]
  },
  {
   "cell_type": "markdown",
   "metadata": {},
   "source": [
    "## Univariate Analysis\n"
   ]
  },
  {
   "cell_type": "markdown",
   "metadata": {},
   "source": [
    "### Categorical Unordered Univariate Analysis\n"
   ]
  },
  {
   "cell_type": "markdown",
   "metadata": {},
   "source": [
    "There is a column named ‘Style’ in ‘Attribute Dataset’ which consists of the different style categories of the women apparels. Certain categories whose total sale is less than 50000 across all the seasons is considered under one single category as ‘Others’.\n"
   ]
  },
  {
   "cell_type": "markdown",
   "metadata": {},
   "source": [
    "Which of the following categories in ‘Style’ column can be grouped into ‘Others’ category? and perform the grouping operation in the notebook for further analysis.\n",
    "\n",
    "- Flare, fashion\n",
    "- Novelty, bohemian\n",
    "- OL, fashion, work\n",
    "- Novelty, fashion, Flare\n"
   ]
  },
  {
   "cell_type": "code",
   "execution_count": null,
   "metadata": {},
   "outputs": [],
   "source": [
    "# Group \"Style\" categories into \"Others\" which have less than 50000 sales across all the seasons.\n",
    "# # Total sales\n",
    "inp0[\"Total_Sales\"] = (\n",
    "    inp0[\"Spring_Sales\"]\n",
    "    + inp0[\"Summer_Sales\"]\n",
    "    + inp0[\"Autumn_Sales\"]\n",
    "    + inp0[\"Winter_Sales\"]\n",
    ")\n",
    "\n",
    "# Replace categories with less than 50000 sales with \"Others\"\n",
    "inp0.loc[inp0[\"Total_Sales\"] < 50000, \"Style\"] = \"Others\"\n",
    "\n",
    "# # Grpup by \"Style\" and sum the sales\n",
    "inp0_grouped = inp0.groupby(\"Style\").sum(numeric_only=True).reset_index()\n",
    "\n",
    "display(inp0_grouped.head(10))"
   ]
  },
  {
   "cell_type": "markdown",
   "metadata": {},
   "source": [
    "What is the percentage of “cute” and “Others” category in “Style” column in “Attribute DataSet” respectively?\n",
    "\n",
    "- 46%, 5%\n",
    "- 9%, 2.1%\n",
    "- 2.1%, 5%\n",
    "- 13.8%, 9%\n"
   ]
  },
  {
   "cell_type": "code",
   "execution_count": null,
   "metadata": {},
   "outputs": [],
   "source": [
    "# Calculate the percentage of each categories in the \"Style\" variable.\n",
    "inp0[\"Style\"].value_counts(normalize=True) * 100"
   ]
  },
  {
   "cell_type": "markdown",
   "metadata": {},
   "source": [
    "Similarly Club Neckline, SLeeve length categories into \"Others\" which have less than 50000 sales across all the seasons.\n"
   ]
  },
  {
   "cell_type": "code",
   "execution_count": null,
   "metadata": {},
   "outputs": [],
   "source": [
    "# Group \"Neckline\" categories into \"Others\" which have less than 50000 sales across all the seasons.\n",
    "\n",
    "inp0[\"NeckLine\"] = inp0.loc[inp0[\"Total_Sales\"] < 50000, \"NeckLine\"] = \"Others\"\n",
    "\n",
    "inp0[\"NeckLine\"].value_counts()"
   ]
  },
  {
   "cell_type": "code",
   "execution_count": null,
   "metadata": {},
   "outputs": [],
   "source": [
    "# Group \"Sleeve length\" categories into \"Others\" which have less than 50000 sales across all the seasons.\n",
    "inp0[\"SleeveLength\"] = inp0.loc[inp0[\"Total_Sales\"] < 50000, \"SleeveLength\"] = \"Others\"\n",
    "inp0[\"SleeveLength\"].value_counts()"
   ]
  },
  {
   "cell_type": "markdown",
   "metadata": {},
   "source": [
    "Club material, fabrictype, patterntype and decoration categories into \"Others\" which have less than 25000 sales across all the seasons\n"
   ]
  },
  {
   "cell_type": "code",
   "execution_count": null,
   "metadata": {},
   "outputs": [],
   "source": [
    "# Group \"material\" categories into \"Others\" which have less than 25000 sales across all the seasons.\n",
    "inp0[\"Material\"] = inp0.loc[inp0[\"Total_Sales\"] < 25000, \"Material\"] = \"Others\"\n",
    "inp0[\"Material\"].value_counts()"
   ]
  },
  {
   "cell_type": "code",
   "execution_count": null,
   "metadata": {},
   "outputs": [],
   "source": [
    "# Group \"fabric type\" categories into \"Others\" which have less than 25000 sales across all the seasons.\n",
    "inp0[\"FabricType\"] = inp0.loc[inp0[\"Total_Sales\"] < 25000, \"FabricType\"] = \"Others\"\n",
    "inp0[\"FabricType\"].value_counts()"
   ]
  },
  {
   "cell_type": "code",
   "execution_count": null,
   "metadata": {},
   "outputs": [],
   "source": [
    "# Group \"patern type\" categories into \"Others\" which have less than 25000 sales across all the seasons.\n",
    "inp0[\"Pattern Type\"] = inp0.loc[inp0[\"Total_Sales\"] < 25000, \"Pattern Type\"] = \"Others\"\n",
    "inp0[\"Pattern Type\"].value_counts()"
   ]
  },
  {
   "cell_type": "code",
   "execution_count": null,
   "metadata": {},
   "outputs": [],
   "source": [
    "# Group \"decoration\" categories into \"Others\" which have less than 25000 sales across all the seasons.\n",
    "\n",
    "inp0[\"Decoration\"] = inp0.loc[inp0[\"Total_Sales\"] < 25000, \"Decoration\"] = \"Others\"\n",
    "inp0[\"Decoration\"].value_counts()"
   ]
  },
  {
   "cell_type": "markdown",
   "metadata": {},
   "source": [
    "### Caregorical Ordered Univariate Analysis\n"
   ]
  },
  {
   "cell_type": "markdown",
   "metadata": {},
   "source": [
    "Which of the following is an unordered variable in “Attribute DataSet”.\n",
    "\n",
    "- Style\n",
    "- Price\n",
    "- Season\n",
    "- Size\n"
   ]
  },
  {
   "cell_type": "markdown",
   "metadata": {},
   "source": [
    "### Numerical variable Univariate analysis:\n"
   ]
  },
  {
   "cell_type": "markdown",
   "metadata": {},
   "source": [
    "What is the approximate difference between the maximum value and 75th percentile in “Autumn” column.\n",
    "\n",
    "- Approx 54000\n",
    "- Approx 55000\n",
    "- Approx 52000\n",
    "- Approx 50000\n"
   ]
  },
  {
   "cell_type": "code",
   "execution_count": null,
   "metadata": {},
   "outputs": [],
   "source": [
    "# Describe the numerical variale: \"Autumn\".\n",
    "inp0[\"Autumn_Sales\"].describe().loc['max'] - inp0[\"Autumn_Sales\"].describe().loc['75%']"
   ]
  },
  {
   "cell_type": "code",
   "execution_count": null,
   "metadata": {},
   "outputs": [],
   "source": [
    "# plot the boxplot of \"Autumn\" column.\n",
    "plt.figure(figsize=(10, 6))\n",
    "sns.boxplot(x=inp0[\"Autumn_Sales\"])\n",
    "plt.title(\"Boxplot of Autumn Sales\")\n",
    "plt.xlabel(\"Autumn Sales\")\n",
    "plt.show()"
   ]
  },
  {
   "cell_type": "markdown",
   "metadata": {},
   "source": [
    "Which of the following season has the highest difference between the maximum value and 99th quantile of sales?\n",
    "\n",
    "- Winter\n",
    "- Summer\n",
    "- Spring\n",
    "- Autumn\n"
   ]
  },
  {
   "cell_type": "code",
   "execution_count": null,
   "metadata": {},
   "outputs": [],
   "source": [
    "# Find the maximum and 99th percentile of Winter season.\n",
    "inp0[\"Winter_Sales\"].max(), inp0[\"Winter_Sales\"].quantile(0.99)"
   ]
  },
  {
   "cell_type": "code",
   "execution_count": null,
   "metadata": {},
   "outputs": [],
   "source": [
    "# Find the maximum and 99th percentile of Summer season.\n",
    "inp0[\"Summer_Sales\"].max(), inp0[\"Summer_Sales\"].quantile(0.99)"
   ]
  },
  {
   "cell_type": "code",
   "execution_count": null,
   "metadata": {},
   "outputs": [],
   "source": [
    "# Find the maximum and 99th percentile of Spring season.\n",
    "inp0[\"Spring_Sales\"].max(), inp0[\"Spring_Sales\"].quantile(0.99)"
   ]
  },
  {
   "cell_type": "code",
   "execution_count": null,
   "metadata": {},
   "outputs": [],
   "source": [
    "# Find the maximum and 99th percentile of Autumn season.\n",
    "inp0[\"Autumn_Sales\"].max(), inp0[\"Autumn_Sales\"].quantile(0.99)"
   ]
  },
  {
   "cell_type": "markdown",
   "metadata": {},
   "source": [
    "## Bivariate Analysis\n"
   ]
  },
  {
   "cell_type": "markdown",
   "metadata": {},
   "source": [
    "### Numerical- Categorical analysis\n"
   ]
  },
  {
   "cell_type": "markdown",
   "metadata": {},
   "source": [
    "Which of the following “Price” category has the lowest average value of rating?\n",
    "\n",
    "- very-high\n",
    "- Medium\n",
    "- Low\n",
    "- High\n"
   ]
  },
  {
   "cell_type": "code",
   "execution_count": null,
   "metadata": {},
   "outputs": [],
   "source": [
    "# Find the Mean of Ratings for each Price category.\n",
    "inp0.groupby(\"Price\")[\"Rating\"].mean().reset_index().sort_values(\n",
    "    by=\"Rating\", ascending=False\n",
    ")"
   ]
  },
  {
   "cell_type": "markdown",
   "metadata": {},
   "source": [
    "What is the median of the rating of “vintage” category in Style column?\n",
    "\n",
    "- 4.6\n",
    "- 4.7\n",
    "- 4.55\n",
    "- 0.00\n"
   ]
  },
  {
   "cell_type": "code",
   "execution_count": null,
   "metadata": {},
   "outputs": [],
   "source": [
    "# Find the median of Ratings for each Style category.\n",
    "inp0.groupby(\"Style\")[\"Rating\"].median().reset_index().sort_values(\n",
    "    by=\"Rating\", ascending=False\n",
    ")"
   ]
  },
  {
   "cell_type": "markdown",
   "metadata": {},
   "source": [
    "Which of the following season has the highest average value of sale for “Recommendation” value equals to 1.\n",
    "\n",
    "- Summer\n",
    "- Spring\n",
    "- Autumn\n",
    "- Winter\n"
   ]
  },
  {
   "cell_type": "code",
   "execution_count": null,
   "metadata": {},
   "outputs": [],
   "source": [
    "# Summer sale vs Recommendation.\n",
    "inp0.groupby(\"Recommendation\")[\"Summer_Sales\"].mean().reset_index().sort_values(\n",
    "    by=\"Summer_Sales\", ascending=False\n",
    ")"
   ]
  },
  {
   "cell_type": "code",
   "execution_count": null,
   "metadata": {},
   "outputs": [],
   "source": [
    "# Spring sale vs Recommendation.\n",
    "inp0.groupby(\"Recommendation\")[\"Spring_Sales\"].mean().reset_index().sort_values(\n",
    "    by=\"Spring_Sales\", ascending=False\n",
    ")"
   ]
  },
  {
   "cell_type": "code",
   "execution_count": null,
   "metadata": {},
   "outputs": [],
   "source": [
    "# Autumn sale vs Recommendation.\n",
    "inp0.groupby(\"Recommendation\")[\"Autumn_Sales\"].mean().reset_index().sort_values(\n",
    "    by=\"Autumn_Sales\", ascending=False\n",
    ")"
   ]
  },
  {
   "cell_type": "code",
   "execution_count": null,
   "metadata": {},
   "outputs": [],
   "source": [
    "# Winter sale vs Recommendation.\n",
    "inp0.groupby(\"Recommendation\")[\"Winter_Sales\"].mean().reset_index().sort_values(\n",
    "    by=\"Winter_Sales\", ascending=False\n",
    ")"
   ]
  },
  {
   "cell_type": "markdown",
   "metadata": {},
   "source": [
    "### Categorical categorical bivariate analysis\n"
   ]
  },
  {
   "cell_type": "markdown",
   "metadata": {},
   "source": [
    "Which of the following size categories has the highest positive recommendations?\n",
    "\n",
    "- Medium and extra large\n",
    "- Extra large and small\n",
    "- Free and small\n",
    "- Free and medium\n"
   ]
  },
  {
   "cell_type": "code",
   "execution_count": null,
   "metadata": {},
   "outputs": [],
   "source": [
    "# Size vs Recommendation.\n",
    "inp0.groupby(\"Size\")[\"Recommendation\"].mean().reset_index().sort_values(\n",
    "    by=\"Recommendation\", ascending=False\n",
    ")"
   ]
  },
  {
   "cell_type": "markdown",
   "metadata": {},
   "source": [
    "### Multivariate analysis\n"
   ]
  },
  {
   "cell_type": "markdown",
   "metadata": {},
   "source": [
    "Which of the following pair of “Style” and “Price” category has the highest average of positive recommendations?\n",
    "\n",
    "- Price: medium and style: vintage\n",
    "- Price: medium and style: cute\n",
    "- Price: very high and style: party\n",
    "- Price: low and style: sexy\n"
   ]
  },
  {
   "cell_type": "code",
   "execution_count": null,
   "metadata": {},
   "outputs": [],
   "source": [
    "# plot the heat map of Style, price and Recommendation.\n",
    "# Which of the following pair of “Style” and “Price” category has the highest average of positive recommendations?\n",
    "plt.figure(figsize=(12, 8))\n",
    "sns.heatmap(\n",
    "    inp0.pivot_table(\n",
    "        index=\"Style\",\n",
    "        columns=\"Price\",\n",
    "        values=\"Recommendation\",\n",
    "        aggfunc=\"mean\",\n",
    "    ),\n",
    "    annot=True,\n",
    "    cmap=\"coolwarm\",\n",
    "    fmt=\".2f\",\n",
    ")\n",
    "plt.title(\"Heatmap of Style and Price vs Recommendation\")\n",
    "plt.xlabel(\"Price\")\n",
    "plt.ylabel(\"Style\")\n",
    "plt.show()\n"
   ]
  },
  {
   "cell_type": "markdown",
   "metadata": {},
   "source": [
    "Which of the following material type has no recommendation in summer and winter seasons?\n",
    "\n",
    "- Mix and Milksilk\n",
    "- Nylon and Rayon\n",
    "- Microfiber and Silk\n",
    "- Milksilk and Microfiber\n"
   ]
  },
  {
   "cell_type": "code",
   "execution_count": 50,
   "metadata": {},
   "outputs": [
    {
     "data": {
      "image/png": "[encoded data removed]",
      "text/plain": [
       "<Figure size 1200x800 with 2 Axes>"
      ]
     },
     "metadata": {},
     "output_type": "display_data"
    }
   ],
   "source": [
    "# plot the heat map of Season, material and Recommendation.\n",
    "# Which of the following material type has no recommendation in summer and winter seasons?\n",
    "plt.figure(figsize=(12, 8))\n",
    "sns.heatmap(\n",
    "    inp0.pivot_table(\n",
    "        index=\"Material\",\n",
    "        columns=\"Season\",\n",
    "        values=\"Recommendation\",\n",
    "        aggfunc=\"mean\",\n",
    "    ),\n",
    "    annot=True,\n",
    "    cmap=\"coolwarm\",\n",
    "    fmt=\".2f\",\n",
    ")\n",
    "plt.title(\"Heatmap of Material vs Season vs Recommendation\")\n",
    "plt.xlabel(\"Season\")\n",
    "plt.ylabel(\"Material\")\n",
    "plt.show()"
   ]
  },
  {
   "cell_type": "code",
   "execution_count": null,
   "metadata": {},
   "outputs": [],
   "source": []
  }
 ],
 "metadata": {
  "kernelspec": {
   "display_name": "Python 3",
   "language": "python",
   "name": "python3"
  },
  "language_info": {
   "codemirror_mode": {
    "name": "ipython",
    "version": 3
   },
   "file_extension": ".py",
   "mimetype": "text/x-python",
   "name": "python",
   "nbconvert_exporter": "python",
   "pygments_lexer": "ipython3",
   "version": "3.13.3"
  }
 },
 "nbformat": 4,
 "nbformat_minor": 2
}
