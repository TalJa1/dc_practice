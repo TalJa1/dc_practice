{
 "cells": [
  {
   "cell_type": "code",
   "execution_count": 1,
   "id": "fb4e1c8f",
   "metadata": {},
   "outputs": [],
   "source": [
    "# import np, pd and matplotlib and seaborn\n",
    "import numpy as np  # type: ignore\n",
    "import pandas as pd  # type: ignore\n",
    "import matplotlib.pyplot as plt  # type: ignore\n",
    "import seaborn as sns  # type: ignore\n",
    "\n",
    "# pd.set_option('')"
   ]
  },
  {
   "cell_type": "code",
   "execution_count": 2,
   "id": "dc25cdc1",
   "metadata": {},
   "outputs": [
    {
     "data": {
      "text/html": [
       "<div>\n",
       "<style scoped>\n",
       "    .dataframe tbody tr th:only-of-type {\n",
       "        vertical-align: middle;\n",
       "    }\n",
       "\n",
       "    .dataframe tbody tr th {\n",
       "        vertical-align: top;\n",
       "    }\n",
       "\n",
       "    .dataframe thead th {\n",
       "        text-align: right;\n",
       "    }\n",
       "</style>\n",
       "<table border=\"1\" class=\"dataframe\">\n",
       "  <thead>\n",
       "    <tr style=\"text-align: right;\">\n",
       "      <th></th>\n",
       "      <th>Customer No.</th>\n",
       "      <th>Exposure at Default (in lakh Rs.)</th>\n",
       "      <th>Recovery (%)</th>\n",
       "      <th>Probability of Default</th>\n",
       "    </tr>\n",
       "  </thead>\n",
       "  <tbody>\n",
       "    <tr>\n",
       "      <th>0</th>\n",
       "      <td>1</td>\n",
       "      <td>11.50</td>\n",
       "      <td>20.00%</td>\n",
       "      <td>0.0070</td>\n",
       "    </tr>\n",
       "    <tr>\n",
       "      <th>1</th>\n",
       "      <td>2</td>\n",
       "      <td>0.24</td>\n",
       "      <td>5.10%</td>\n",
       "      <td>0.0033</td>\n",
       "    </tr>\n",
       "    <tr>\n",
       "      <th>2</th>\n",
       "      <td>3</td>\n",
       "      <td>0.04</td>\n",
       "      <td>24.86%</td>\n",
       "      <td>0.0022</td>\n",
       "    </tr>\n",
       "  </tbody>\n",
       "</table>\n",
       "</div>"
      ],
      "text/plain": [
       "   Customer No.  Exposure at Default (in lakh Rs.) Recovery (%)  \\\n",
       "0             1                              11.50       20.00%   \n",
       "1             2                               0.24        5.10%   \n",
       "2             3                               0.04       24.86%   \n",
       "\n",
       "   Probability of Default  \n",
       "0                  0.0070  \n",
       "1                  0.0033  \n",
       "2                  0.0022  "
      ]
     },
     "execution_count": 2,
     "metadata": {},
     "output_type": "execute_result"
    }
   ],
   "source": [
    "df = pd.read_csv(\n",
    "    r\"C:\\ZTalJaZ\\Storage\\MasterOfDataScience\\Python\\Code\\Practice\\Inferential_Statistic\\data\\Inferential Statistics - Student Loan (1).csv\"\n",
    ")\n",
    "\n",
    "df = df.iloc[:, :4]\n",
    "\n",
    "df.head(3)"
   ]
  },
  {
   "cell_type": "code",
   "execution_count": 3,
   "id": "9d15272b",
   "metadata": {},
   "outputs": [
    {
     "name": "stdout",
     "output_type": "stream",
     "text": [
      "Total Expected Loss: 493.39131440619997\n"
     ]
    }
   ],
   "source": [
    "df['Recovery (%)'] = df['Recovery (%)'].str.replace('%', '').astype(float)\n",
    "LGD = 1 - df['Recovery (%)'].values / 100\n",
    "df['LGD'] = LGD\n",
    "\n",
    "df['Exported Loss'] = df['Exposure at Default (in lakh Rs.)'] * df['LGD'] * df['Probability of Default']\n",
    "\n",
    "total_expected_loss = df['Exported Loss'].sum()\n",
    "print(f'Total Expected Loss: {total_expected_loss}')"
   ]
  },
  {
   "cell_type": "code",
   "execution_count": null,
   "id": "dc086feb",
   "metadata": {},
   "outputs": [],
   "source": []
  }
 ],
 "metadata": {
  "kernelspec": {
   "display_name": "Python 3",
   "language": "python",
   "name": "python3"
  },
  "language_info": {
   "codemirror_mode": {
    "name": "ipython",
    "version": 3
   },
   "file_extension": ".py",
   "mimetype": "text/x-python",
   "name": "python",
   "nbconvert_exporter": "python",
   "pygments_lexer": "ipython3",
   "version": "3.13.3"
  }
 },
 "nbformat": 4,
 "nbformat_minor": 5
}
