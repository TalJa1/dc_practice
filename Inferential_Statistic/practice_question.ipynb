{
 "cells": [
  {
   "cell_type": "code",
   "execution_count": 1,
   "id": "fb4e1c8f",
   "metadata": {},
   "outputs": [],
   "source": [
    "# import np, pd and matplotlib and seaborn\n",
    "import numpy as np  # type: ignore\n",
    "import pandas as pd  # type: ignore\n",
    "import matplotlib.pyplot as plt  # type: ignore\n",
    "import seaborn as sns  # type: ignore\n",
    "\n",
    "# pd.set_option('')"
   ]
  },
  {
   "cell_type": "code",
   "execution_count": 2,
   "id": "bce789f1",
   "metadata": {},
   "outputs": [
    {
     "data": {
      "text/html": [
       "<div>\n",
       "<style scoped>\n",
       "    .dataframe tbody tr th:only-of-type {\n",
       "        vertical-align: middle;\n",
       "    }\n",
       "\n",
       "    .dataframe tbody tr th {\n",
       "        vertical-align: top;\n",
       "    }\n",
       "\n",
       "    .dataframe thead th {\n",
       "        text-align: right;\n",
       "    }\n",
       "</style>\n",
       "<table border=\"1\" class=\"dataframe\">\n",
       "  <thead>\n",
       "    <tr style=\"text-align: right;\">\n",
       "      <th></th>\n",
       "      <th>Customer ID</th>\n",
       "      <th>Why did you purchase Hotstar Premium?</th>\n",
       "    </tr>\n",
       "  </thead>\n",
       "  <tbody>\n",
       "    <tr>\n",
       "      <th>0</th>\n",
       "      <td>84934</td>\n",
       "      <td>0</td>\n",
       "    </tr>\n",
       "    <tr>\n",
       "      <th>1</th>\n",
       "      <td>63836</td>\n",
       "      <td>1</td>\n",
       "    </tr>\n",
       "    <tr>\n",
       "      <th>2</th>\n",
       "      <td>92939</td>\n",
       "      <td>1</td>\n",
       "    </tr>\n",
       "    <tr>\n",
       "      <th>3</th>\n",
       "      <td>40079</td>\n",
       "      <td>0</td>\n",
       "    </tr>\n",
       "    <tr>\n",
       "      <th>4</th>\n",
       "      <td>46264</td>\n",
       "      <td>1</td>\n",
       "    </tr>\n",
       "  </tbody>\n",
       "</table>\n",
       "</div>"
      ],
      "text/plain": [
       "   Customer ID  Why did you purchase Hotstar Premium?\n",
       "0        84934                                      0\n",
       "1        63836                                      1\n",
       "2        92939                                      1\n",
       "3        40079                                      0\n",
       "4        46264                                      1"
      ]
     },
     "execution_count": 2,
     "metadata": {},
     "output_type": "execute_result"
    }
   ],
   "source": [
    "df = pd.read_excel(\n",
    "  r\"C:\\ZTalJaZ\\Storage\\MasterOfDataScience\\Python\\Code\\Practice\\Inferential_Statistic\\data\\Hotstar+Data.xlsx\"\n",
    ")\n",
    "\n",
    "df.head()"
   ]
  },
  {
   "cell_type": "code",
   "execution_count": 4,
   "id": "d1f9cccf",
   "metadata": {},
   "outputs": [
    {
     "name": "stdout",
     "output_type": "stream",
     "text": [
      "Sample Proportion (p̂): 0.5207\n",
      "Hypothesized Proportion (P0): 0.6\n",
      "Sample Size (n): 121\n",
      "Standard Error: 0.0445\n",
      "Z-score: -1.7814\n"
     ]
    }
   ],
   "source": [
    "p_hat = df['Why did you purchase Hotstar Premium?'].mean()\n",
    "\n",
    "# Hypothesized population proportion (P0) under the null hypothesis\n",
    "P0 = 0.60\n",
    "\n",
    "# Sample size (n)\n",
    "n = len(df)\n",
    "\n",
    "# Z-score calculation\n",
    "# Z = (p_hat - P0) / sqrt(P0 * (1 - P0) / n)\n",
    "standard_error = np.sqrt((P0 * (1 - P0)) / n)\n",
    "z_score = (p_hat - P0) / standard_error\n",
    "\n",
    "print(f\"Sample Proportion (p̂): {p_hat:.4f}\")\n",
    "print(f\"Hypothesized Proportion (P0): {P0}\")\n",
    "print(f\"Sample Size (n): {n}\")\n",
    "print(f\"Standard Error: {standard_error:.4f}\")\n",
    "print(f\"Z-score: {z_score:.4f}\")"
   ]
  },
  {
   "cell_type": "code",
   "execution_count": null,
   "id": "d49d7819",
   "metadata": {},
   "outputs": [],
   "source": []
  }
 ],
 "metadata": {
  "kernelspec": {
   "display_name": "Python 3",
   "language": "python",
   "name": "python3"
  },
  "language_info": {
   "codemirror_mode": {
    "name": "ipython",
    "version": 3
   },
   "file_extension": ".py",
   "mimetype": "text/x-python",
   "name": "python",
   "nbconvert_exporter": "python",
   "pygments_lexer": "ipython3",
   "version": "3.13.3"
  }
 },
 "nbformat": 4,
 "nbformat_minor": 5
}
