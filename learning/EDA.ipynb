{
 "cells": [
  {
   "cell_type": "code",
   "execution_count": 158,
   "id": "abd31c8a",
   "metadata": {},
   "outputs": [],
   "source": [
    "# import np, pd and matplotlib and seaborn\n",
    "import numpy as np  # type: ignore\n",
    "import pandas as pd  # type: ignore\n",
    "import matplotlib.pyplot as plt  # type: ignore\n",
    "import seaborn as sns  # type: ignore"
   ]
  },
  {
   "cell_type": "code",
   "execution_count": 159,
   "id": "965f242e",
   "metadata": {},
   "outputs": [
    {
     "data": {
      "text/html": [
       "<div>\n",
       "<style scoped>\n",
       "    .dataframe tbody tr th:only-of-type {\n",
       "        vertical-align: middle;\n",
       "    }\n",
       "\n",
       "    .dataframe tbody tr th {\n",
       "        vertical-align: top;\n",
       "    }\n",
       "\n",
       "    .dataframe thead th {\n",
       "        text-align: right;\n",
       "    }\n",
       "</style>\n",
       "<table border=\"1\" class=\"dataframe\">\n",
       "  <thead>\n",
       "    <tr style=\"text-align: right;\">\n",
       "      <th></th>\n",
       "      <th>property_name</th>\n",
       "      <th>areaWithType</th>\n",
       "      <th>square_feet</th>\n",
       "      <th>transaction</th>\n",
       "      <th>status</th>\n",
       "      <th>floor</th>\n",
       "      <th>furnishing</th>\n",
       "      <th>facing</th>\n",
       "      <th>description</th>\n",
       "      <th>price_per_sqft</th>\n",
       "      <th>price</th>\n",
       "    </tr>\n",
       "  </thead>\n",
       "  <tbody>\n",
       "    <tr>\n",
       "      <th>0</th>\n",
       "      <td>2 BHK Apartment for Sale in Dindoli Surat</td>\n",
       "      <td>Carpet Area</td>\n",
       "      <td>644 sqft</td>\n",
       "      <td>New Property</td>\n",
       "      <td>Poss. by Oct '24</td>\n",
       "      <td>5 out of 10</td>\n",
       "      <td>Unfurnished</td>\n",
       "      <td>West</td>\n",
       "      <td>Luxury project with basement parking, Solar ro...</td>\n",
       "      <td>₹2,891 per sqft</td>\n",
       "      <td>₹33.8 Lac</td>\n",
       "    </tr>\n",
       "    <tr>\n",
       "      <th>1</th>\n",
       "      <td>2 BHK Apartment for Sale in Althan Surat</td>\n",
       "      <td>Super Area</td>\n",
       "      <td>1278 sqft</td>\n",
       "      <td>New Property</td>\n",
       "      <td>Poss. by Jan '26</td>\n",
       "      <td>6 out of 14</td>\n",
       "      <td>Unfurnished</td>\n",
       "      <td>South -West</td>\n",
       "      <td>2 And 3 BHK Luxurious Flat for Sell In New Alt...</td>\n",
       "      <td>₹3,551 per sqft</td>\n",
       "      <td>₹45.4 Lac</td>\n",
       "    </tr>\n",
       "  </tbody>\n",
       "</table>\n",
       "</div>"
      ],
      "text/plain": [
       "                               property_name areaWithType square_feet  \\\n",
       "0  2 BHK Apartment for Sale in Dindoli Surat  Carpet Area    644 sqft   \n",
       "1   2 BHK Apartment for Sale in Althan Surat   Super Area   1278 sqft   \n",
       "\n",
       "    transaction            status        floor   furnishing       facing  \\\n",
       "0  New Property  Poss. by Oct '24  5 out of 10  Unfurnished         West   \n",
       "1  New Property  Poss. by Jan '26  6 out of 14  Unfurnished  South -West   \n",
       "\n",
       "                                         description    price_per_sqft  \\\n",
       "0  Luxury project with basement parking, Solar ro...  ₹2,891 per sqft    \n",
       "1  2 And 3 BHK Luxurious Flat for Sell In New Alt...  ₹3,551 per sqft    \n",
       "\n",
       "        price  \n",
       "0  ₹33.8 Lac   \n",
       "1  ₹45.4 Lac   "
      ]
     },
     "execution_count": 159,
     "metadata": {},
     "output_type": "execute_result"
    }
   ],
   "source": [
    "df = pd.read_csv(r\"C:\\ZTalJaZ\\Storage\\MasterOfDataScience\\Data-Sources\\EDA\\surat_uncleaned.csv\")\n",
    "\n",
    "df.head(2)"
   ]
  },
  {
   "cell_type": "markdown",
   "id": "c77e8c56",
   "metadata": {},
   "source": [
    "# Load and Explore dataset"
   ]
  },
  {
   "cell_type": "code",
   "execution_count": 160,
   "id": "5ce5fdb9",
   "metadata": {},
   "outputs": [
    {
     "name": "stdout",
     "output_type": "stream",
     "text": [
      "<class 'pandas.core.frame.DataFrame'>\n",
      "RangeIndex: 4525 entries, 0 to 4524\n",
      "Data columns (total 11 columns):\n",
      " #   Column          Non-Null Count  Dtype \n",
      "---  ------          --------------  ----- \n",
      " 0   property_name   4525 non-null   object\n",
      " 1   areaWithType    4525 non-null   object\n",
      " 2   square_feet     4525 non-null   object\n",
      " 3   transaction     4421 non-null   object\n",
      " 4   status          4524 non-null   object\n",
      " 5   floor           4480 non-null   object\n",
      " 6   furnishing      4185 non-null   object\n",
      " 7   facing          3936 non-null   object\n",
      " 8   description     3154 non-null   object\n",
      " 9   price_per_sqft  4157 non-null   object\n",
      " 10  price           4525 non-null   object\n",
      "dtypes: object(11)\n",
      "memory usage: 389.0+ KB\n"
     ]
    }
   ],
   "source": [
    "df.info()"
   ]
  },
  {
   "cell_type": "code",
   "execution_count": 161,
   "id": "f16daeec",
   "metadata": {},
   "outputs": [
    {
     "data": {
      "text/html": [
       "<div>\n",
       "<style scoped>\n",
       "    .dataframe tbody tr th:only-of-type {\n",
       "        vertical-align: middle;\n",
       "    }\n",
       "\n",
       "    .dataframe tbody tr th {\n",
       "        vertical-align: top;\n",
       "    }\n",
       "\n",
       "    .dataframe thead th {\n",
       "        text-align: right;\n",
       "    }\n",
       "</style>\n",
       "<table border=\"1\" class=\"dataframe\">\n",
       "  <thead>\n",
       "    <tr style=\"text-align: right;\">\n",
       "      <th></th>\n",
       "      <th>property_name</th>\n",
       "      <th>areaWithType</th>\n",
       "      <th>square_feet</th>\n",
       "      <th>transaction</th>\n",
       "      <th>status</th>\n",
       "      <th>floor</th>\n",
       "      <th>furnishing</th>\n",
       "      <th>facing</th>\n",
       "      <th>description</th>\n",
       "      <th>price_per_sqft</th>\n",
       "      <th>price</th>\n",
       "    </tr>\n",
       "  </thead>\n",
       "  <tbody>\n",
       "    <tr>\n",
       "      <th>count</th>\n",
       "      <td>4525</td>\n",
       "      <td>4525</td>\n",
       "      <td>4525</td>\n",
       "      <td>4421</td>\n",
       "      <td>4524</td>\n",
       "      <td>4480</td>\n",
       "      <td>4185</td>\n",
       "      <td>3936</td>\n",
       "      <td>3154</td>\n",
       "      <td>4157</td>\n",
       "      <td>4525</td>\n",
       "    </tr>\n",
       "    <tr>\n",
       "      <th>unique</th>\n",
       "      <td>1992</td>\n",
       "      <td>6</td>\n",
       "      <td>1399</td>\n",
       "      <td>38</td>\n",
       "      <td>138</td>\n",
       "      <td>222</td>\n",
       "      <td>78</td>\n",
       "      <td>176</td>\n",
       "      <td>2588</td>\n",
       "      <td>2134</td>\n",
       "      <td>841</td>\n",
       "    </tr>\n",
       "    <tr>\n",
       "      <th>top</th>\n",
       "      <td>3 BHK Apartment for Sale in Vesu Surat</td>\n",
       "      <td>Super Area</td>\n",
       "      <td>1000 sqft</td>\n",
       "      <td>Resale</td>\n",
       "      <td>Ready to Move</td>\n",
       "      <td>Resale</td>\n",
       "      <td>Unfurnished</td>\n",
       "      <td>East</td>\n",
       "      <td>Multistorey apartment is available for sale. I...</td>\n",
       "      <td>₹5,000 per sqft</td>\n",
       "      <td>Call for Price</td>\n",
       "    </tr>\n",
       "    <tr>\n",
       "      <th>freq</th>\n",
       "      <td>93</td>\n",
       "      <td>2599</td>\n",
       "      <td>77</td>\n",
       "      <td>2197</td>\n",
       "      <td>3078</td>\n",
       "      <td>431</td>\n",
       "      <td>2322</td>\n",
       "      <td>1487</td>\n",
       "      <td>35</td>\n",
       "      <td>64</td>\n",
       "      <td>173</td>\n",
       "    </tr>\n",
       "  </tbody>\n",
       "</table>\n",
       "</div>"
      ],
      "text/plain": [
       "                                 property_name areaWithType square_feet  \\\n",
       "count                                     4525         4525        4525   \n",
       "unique                                    1992            6        1399   \n",
       "top     3 BHK Apartment for Sale in Vesu Surat   Super Area   1000 sqft   \n",
       "freq                                        93         2599          77   \n",
       "\n",
       "       transaction         status   floor   furnishing facing  \\\n",
       "count         4421           4524    4480         4185   3936   \n",
       "unique          38            138     222           78    176   \n",
       "top         Resale  Ready to Move  Resale  Unfurnished   East   \n",
       "freq          2197           3078     431         2322   1487   \n",
       "\n",
       "                                              description    price_per_sqft  \\\n",
       "count                                                3154              4157   \n",
       "unique                                               2588              2134   \n",
       "top     Multistorey apartment is available for sale. I...  ₹5,000 per sqft    \n",
       "freq                                                   35                64   \n",
       "\n",
       "                 price  \n",
       "count             4525  \n",
       "unique             841  \n",
       "top     Call for Price  \n",
       "freq               173  "
      ]
     },
     "execution_count": 161,
     "metadata": {},
     "output_type": "execute_result"
    }
   ],
   "source": [
    "df.describe()"
   ]
  },
  {
   "cell_type": "markdown",
   "id": "1bc29469",
   "metadata": {},
   "source": [
    "# Fix the data types of the columns in the dataset"
   ]
  },
  {
   "cell_type": "code",
   "execution_count": 162,
   "id": "37e91c29",
   "metadata": {},
   "outputs": [
    {
     "data": {
      "text/plain": [
       "property_name     object\n",
       "areaWithType      object\n",
       "square_feet       object\n",
       "transaction       object\n",
       "status            object\n",
       "floor             object\n",
       "furnishing        object\n",
       "facing            object\n",
       "description       object\n",
       "price_per_sqft    object\n",
       "price             object\n",
       "dtype: object"
      ]
     },
     "execution_count": 162,
     "metadata": {},
     "output_type": "execute_result"
    }
   ],
   "source": [
    "# Check types of columns\n",
    "df.dtypes"
   ]
  },
  {
   "cell_type": "code",
   "execution_count": 163,
   "id": "a8566a00",
   "metadata": {},
   "outputs": [
    {
     "data": {
      "text/plain": [
       "38"
      ]
     },
     "execution_count": 163,
     "metadata": {},
     "output_type": "execute_result"
    }
   ],
   "source": [
    "# Check for the number of unique values in the 'transaction' column\n",
    "df['transaction'].nunique()"
   ]
  },
  {
   "cell_type": "code",
   "execution_count": 164,
   "id": "0566e935",
   "metadata": {},
   "outputs": [
    {
     "data": {
      "text/plain": [
       "description       30.298343\n",
       "facing            13.016575\n",
       "price_per_sqft     8.132597\n",
       "furnishing         7.513812\n",
       "transaction        2.298343\n",
       "floor              0.994475\n",
       "status             0.022099\n",
       "square_feet        0.000000\n",
       "areaWithType       0.000000\n",
       "property_name      0.000000\n",
       "price              0.000000\n",
       "dtype: float64"
      ]
     },
     "execution_count": 164,
     "metadata": {},
     "output_type": "execute_result"
    }
   ],
   "source": [
    "# DF for percentage of missing values\n",
    "percentage = df.isnull().mean() * 100\n",
    "\n",
    "percentage.sort_values(ascending=False)"
   ]
  },
  {
   "cell_type": "code",
   "execution_count": 165,
   "id": "6e24353b",
   "metadata": {},
   "outputs": [
    {
     "data": {
      "text/html": [
       "<div>\n",
       "<style scoped>\n",
       "    .dataframe tbody tr th:only-of-type {\n",
       "        vertical-align: middle;\n",
       "    }\n",
       "\n",
       "    .dataframe tbody tr th {\n",
       "        vertical-align: top;\n",
       "    }\n",
       "\n",
       "    .dataframe thead th {\n",
       "        text-align: right;\n",
       "    }\n",
       "</style>\n",
       "<table border=\"1\" class=\"dataframe\">\n",
       "  <thead>\n",
       "    <tr style=\"text-align: right;\">\n",
       "      <th></th>\n",
       "      <th>a</th>\n",
       "      <th>b</th>\n",
       "    </tr>\n",
       "  </thead>\n",
       "  <tbody>\n",
       "    <tr>\n",
       "      <th>8</th>\n",
       "      <td>description</td>\n",
       "      <td>30.298343</td>\n",
       "    </tr>\n",
       "    <tr>\n",
       "      <th>7</th>\n",
       "      <td>facing</td>\n",
       "      <td>13.016575</td>\n",
       "    </tr>\n",
       "    <tr>\n",
       "      <th>9</th>\n",
       "      <td>price_per_sqft</td>\n",
       "      <td>8.132597</td>\n",
       "    </tr>\n",
       "    <tr>\n",
       "      <th>6</th>\n",
       "      <td>furnishing</td>\n",
       "      <td>7.513812</td>\n",
       "    </tr>\n",
       "    <tr>\n",
       "      <th>3</th>\n",
       "      <td>transaction</td>\n",
       "      <td>2.298343</td>\n",
       "    </tr>\n",
       "    <tr>\n",
       "      <th>5</th>\n",
       "      <td>floor</td>\n",
       "      <td>0.994475</td>\n",
       "    </tr>\n",
       "    <tr>\n",
       "      <th>4</th>\n",
       "      <td>status</td>\n",
       "      <td>0.022099</td>\n",
       "    </tr>\n",
       "    <tr>\n",
       "      <th>0</th>\n",
       "      <td>property_name</td>\n",
       "      <td>0.0</td>\n",
       "    </tr>\n",
       "    <tr>\n",
       "      <th>1</th>\n",
       "      <td>areaWithType</td>\n",
       "      <td>0.0</td>\n",
       "    </tr>\n",
       "    <tr>\n",
       "      <th>2</th>\n",
       "      <td>square_feet</td>\n",
       "      <td>0.0</td>\n",
       "    </tr>\n",
       "    <tr>\n",
       "      <th>10</th>\n",
       "      <td>price</td>\n",
       "      <td>0.0</td>\n",
       "    </tr>\n",
       "  </tbody>\n",
       "</table>\n",
       "</div>"
      ],
      "text/plain": [
       "                 a          b\n",
       "8      description  30.298343\n",
       "7           facing  13.016575\n",
       "9   price_per_sqft   8.132597\n",
       "6       furnishing   7.513812\n",
       "3      transaction   2.298343\n",
       "5            floor   0.994475\n",
       "4           status   0.022099\n",
       "0    property_name        0.0\n",
       "1     areaWithType        0.0\n",
       "2      square_feet        0.0\n",
       "10           price        0.0"
      ]
     },
     "execution_count": 165,
     "metadata": {},
     "output_type": "execute_result"
    }
   ],
   "source": [
    "# Create DF for that percentage\n",
    "percentage_df = pd.DataFrame(data=[percentage.index, percentage.values]).T\n",
    "\n",
    "percentage_df.columns = [\"a\", \"b\"]\n",
    "\n",
    "percentage_df.sort_values(by=\"b\", ascending=False)"
   ]
  },
  {
   "cell_type": "code",
   "execution_count": 166,
   "id": "3bad73a7",
   "metadata": {},
   "outputs": [],
   "source": [
    "# dropping column description because high percentage of missing value and it is texture column not doing anything\n",
    "# axis = 1 because removing column\n",
    "# drop column depend on each case\n",
    "\n",
    "df = df.drop('description', axis=1)"
   ]
  },
  {
   "cell_type": "code",
   "execution_count": 167,
   "id": "a4d0fe0f",
   "metadata": {},
   "outputs": [],
   "source": [
    "# contains many inconsistent values\n",
    "df = df.drop('status', axis=1)"
   ]
  },
  {
   "cell_type": "code",
   "execution_count": 168,
   "id": "1765dc44",
   "metadata": {},
   "outputs": [
    {
     "data": {
      "text/html": [
       "<div>\n",
       "<style scoped>\n",
       "    .dataframe tbody tr th:only-of-type {\n",
       "        vertical-align: middle;\n",
       "    }\n",
       "\n",
       "    .dataframe tbody tr th {\n",
       "        vertical-align: top;\n",
       "    }\n",
       "\n",
       "    .dataframe thead th {\n",
       "        text-align: right;\n",
       "    }\n",
       "</style>\n",
       "<table border=\"1\" class=\"dataframe\">\n",
       "  <thead>\n",
       "    <tr style=\"text-align: right;\">\n",
       "      <th></th>\n",
       "      <th>property_name</th>\n",
       "      <th>areaWithType</th>\n",
       "      <th>square_feet</th>\n",
       "      <th>transaction</th>\n",
       "      <th>floor</th>\n",
       "      <th>furnishing</th>\n",
       "      <th>facing</th>\n",
       "      <th>price_per_sqft</th>\n",
       "      <th>price</th>\n",
       "    </tr>\n",
       "  </thead>\n",
       "  <tbody>\n",
       "    <tr>\n",
       "      <th>0</th>\n",
       "      <td>2 BHK Apartment for Sale in Dindoli Surat</td>\n",
       "      <td>Carpet Area</td>\n",
       "      <td>644 sqft</td>\n",
       "      <td>New Property</td>\n",
       "      <td>5 out of 10</td>\n",
       "      <td>Unfurnished</td>\n",
       "      <td>West</td>\n",
       "      <td>₹2,891 per sqft</td>\n",
       "      <td>₹33.8 Lac</td>\n",
       "    </tr>\n",
       "    <tr>\n",
       "      <th>1</th>\n",
       "      <td>2 BHK Apartment for Sale in Althan Surat</td>\n",
       "      <td>Super Area</td>\n",
       "      <td>1278 sqft</td>\n",
       "      <td>New Property</td>\n",
       "      <td>6 out of 14</td>\n",
       "      <td>Unfurnished</td>\n",
       "      <td>South -West</td>\n",
       "      <td>₹3,551 per sqft</td>\n",
       "      <td>₹45.4 Lac</td>\n",
       "    </tr>\n",
       "  </tbody>\n",
       "</table>\n",
       "</div>"
      ],
      "text/plain": [
       "                               property_name areaWithType square_feet  \\\n",
       "0  2 BHK Apartment for Sale in Dindoli Surat  Carpet Area    644 sqft   \n",
       "1   2 BHK Apartment for Sale in Althan Surat   Super Area   1278 sqft   \n",
       "\n",
       "    transaction        floor   furnishing       facing    price_per_sqft  \\\n",
       "0  New Property  5 out of 10  Unfurnished         West  ₹2,891 per sqft    \n",
       "1  New Property  6 out of 14  Unfurnished  South -West  ₹3,551 per sqft    \n",
       "\n",
       "        price  \n",
       "0  ₹33.8 Lac   \n",
       "1  ₹45.4 Lac   "
      ]
     },
     "execution_count": 168,
     "metadata": {},
     "output_type": "execute_result"
    }
   ],
   "source": [
    "df.head(2)"
   ]
  },
  {
   "cell_type": "code",
   "execution_count": 169,
   "id": "27be3662",
   "metadata": {},
   "outputs": [
    {
     "data": {
      "text/html": [
       "<div>\n",
       "<style scoped>\n",
       "    .dataframe tbody tr th:only-of-type {\n",
       "        vertical-align: middle;\n",
       "    }\n",
       "\n",
       "    .dataframe tbody tr th {\n",
       "        vertical-align: top;\n",
       "    }\n",
       "\n",
       "    .dataframe thead th {\n",
       "        text-align: right;\n",
       "    }\n",
       "</style>\n",
       "<table border=\"1\" class=\"dataframe\">\n",
       "  <thead>\n",
       "    <tr style=\"text-align: right;\">\n",
       "      <th></th>\n",
       "      <th>property_name</th>\n",
       "      <th>areaWithType</th>\n",
       "      <th>square_feet</th>\n",
       "      <th>transaction</th>\n",
       "      <th>floor</th>\n",
       "      <th>furnishing</th>\n",
       "      <th>facing</th>\n",
       "      <th>price_per_sqft</th>\n",
       "      <th>price</th>\n",
       "      <th>floor_num</th>\n",
       "      <th>total_floors</th>\n",
       "    </tr>\n",
       "  </thead>\n",
       "  <tbody>\n",
       "    <tr>\n",
       "      <th>0</th>\n",
       "      <td>2 BHK Apartment for Sale in Dindoli Surat</td>\n",
       "      <td>Carpet Area</td>\n",
       "      <td>644 sqft</td>\n",
       "      <td>New Property</td>\n",
       "      <td>5 out of 10</td>\n",
       "      <td>Unfurnished</td>\n",
       "      <td>West</td>\n",
       "      <td>₹2,891 per sqft</td>\n",
       "      <td>₹33.8 Lac</td>\n",
       "      <td>5</td>\n",
       "      <td>10</td>\n",
       "    </tr>\n",
       "    <tr>\n",
       "      <th>1</th>\n",
       "      <td>2 BHK Apartment for Sale in Althan Surat</td>\n",
       "      <td>Super Area</td>\n",
       "      <td>1278 sqft</td>\n",
       "      <td>New Property</td>\n",
       "      <td>6 out of 14</td>\n",
       "      <td>Unfurnished</td>\n",
       "      <td>South -West</td>\n",
       "      <td>₹3,551 per sqft</td>\n",
       "      <td>₹45.4 Lac</td>\n",
       "      <td>6</td>\n",
       "      <td>14</td>\n",
       "    </tr>\n",
       "  </tbody>\n",
       "</table>\n",
       "</div>"
      ],
      "text/plain": [
       "                               property_name areaWithType square_feet  \\\n",
       "0  2 BHK Apartment for Sale in Dindoli Surat  Carpet Area    644 sqft   \n",
       "1   2 BHK Apartment for Sale in Althan Surat   Super Area   1278 sqft   \n",
       "\n",
       "    transaction        floor   furnishing       facing    price_per_sqft  \\\n",
       "0  New Property  5 out of 10  Unfurnished         West  ₹2,891 per sqft    \n",
       "1  New Property  6 out of 14  Unfurnished  South -West  ₹3,551 per sqft    \n",
       "\n",
       "        price floor_num total_floors  \n",
       "0  ₹33.8 Lac          5           10  \n",
       "1  ₹45.4 Lac          6           14  "
      ]
     },
     "execution_count": 169,
     "metadata": {},
     "output_type": "execute_result"
    }
   ],
   "source": [
    "df[['floor_num', 'total_floors']] = df['floor'].str.split(' out of ', expand = True)\n",
    "\n",
    "df.head(2)"
   ]
  },
  {
   "cell_type": "code",
   "execution_count": 170,
   "id": "c7540966",
   "metadata": {},
   "outputs": [],
   "source": [
    "df = df.dropna(subset=['floor_num', 'total_floors'])"
   ]
  },
  {
   "cell_type": "code",
   "execution_count": 171,
   "id": "73b6ed7d",
   "metadata": {},
   "outputs": [
    {
     "data": {
      "text/html": [
       "<div>\n",
       "<style scoped>\n",
       "    .dataframe tbody tr th:only-of-type {\n",
       "        vertical-align: middle;\n",
       "    }\n",
       "\n",
       "    .dataframe tbody tr th {\n",
       "        vertical-align: top;\n",
       "    }\n",
       "\n",
       "    .dataframe thead th {\n",
       "        text-align: right;\n",
       "    }\n",
       "</style>\n",
       "<table border=\"1\" class=\"dataframe\">\n",
       "  <thead>\n",
       "    <tr style=\"text-align: right;\">\n",
       "      <th></th>\n",
       "      <th>property_name</th>\n",
       "      <th>areaWithType</th>\n",
       "      <th>square_feet</th>\n",
       "      <th>transaction</th>\n",
       "      <th>floor</th>\n",
       "      <th>furnishing</th>\n",
       "      <th>facing</th>\n",
       "      <th>price_per_sqft</th>\n",
       "      <th>price</th>\n",
       "      <th>floor_num</th>\n",
       "      <th>total_floors</th>\n",
       "    </tr>\n",
       "  </thead>\n",
       "  <tbody>\n",
       "    <tr>\n",
       "      <th>0</th>\n",
       "      <td>2 BHK Apartment for Sale in Dindoli Surat</td>\n",
       "      <td>Carpet Area</td>\n",
       "      <td>644 sqft</td>\n",
       "      <td>New Property</td>\n",
       "      <td>5 out of 10</td>\n",
       "      <td>Unfurnished</td>\n",
       "      <td>West</td>\n",
       "      <td>₹2,891 per sqft</td>\n",
       "      <td>₹33.8 Lac</td>\n",
       "      <td>5</td>\n",
       "      <td>10</td>\n",
       "    </tr>\n",
       "    <tr>\n",
       "      <th>1</th>\n",
       "      <td>2 BHK Apartment for Sale in Althan Surat</td>\n",
       "      <td>Super Area</td>\n",
       "      <td>1278 sqft</td>\n",
       "      <td>New Property</td>\n",
       "      <td>6 out of 14</td>\n",
       "      <td>Unfurnished</td>\n",
       "      <td>South -West</td>\n",
       "      <td>₹3,551 per sqft</td>\n",
       "      <td>₹45.4 Lac</td>\n",
       "      <td>6</td>\n",
       "      <td>14</td>\n",
       "    </tr>\n",
       "  </tbody>\n",
       "</table>\n",
       "</div>"
      ],
      "text/plain": [
       "                               property_name areaWithType square_feet  \\\n",
       "0  2 BHK Apartment for Sale in Dindoli Surat  Carpet Area    644 sqft   \n",
       "1   2 BHK Apartment for Sale in Althan Surat   Super Area   1278 sqft   \n",
       "\n",
       "    transaction        floor   furnishing       facing    price_per_sqft  \\\n",
       "0  New Property  5 out of 10  Unfurnished         West  ₹2,891 per sqft    \n",
       "1  New Property  6 out of 14  Unfurnished  South -West  ₹3,551 per sqft    \n",
       "\n",
       "        price floor_num total_floors  \n",
       "0  ₹33.8 Lac          5           10  \n",
       "1  ₹45.4 Lac          6           14  "
      ]
     },
     "execution_count": 171,
     "metadata": {},
     "output_type": "execute_result"
    }
   ],
   "source": [
    "df.head(2)"
   ]
  },
  {
   "cell_type": "code",
   "execution_count": 172,
   "id": "b8e3130f",
   "metadata": {},
   "outputs": [],
   "source": [
    "df.loc[df['floor_num'] == 'Lower Basement', 'floor_num'] = '-2' \n",
    "df.loc[df['floor_num'] == 'Upper Basement', 'floor_num'] = '-1' \n",
    "df.loc[df['floor_num'] == 'Ground', 'floor_num'] = '0'"
   ]
  },
  {
   "cell_type": "code",
   "execution_count": 173,
   "id": "e01c0f37",
   "metadata": {},
   "outputs": [
    {
     "data": {
      "text/html": [
       "<div>\n",
       "<style scoped>\n",
       "    .dataframe tbody tr th:only-of-type {\n",
       "        vertical-align: middle;\n",
       "    }\n",
       "\n",
       "    .dataframe tbody tr th {\n",
       "        vertical-align: top;\n",
       "    }\n",
       "\n",
       "    .dataframe thead th {\n",
       "        text-align: right;\n",
       "    }\n",
       "</style>\n",
       "<table border=\"1\" class=\"dataframe\">\n",
       "  <thead>\n",
       "    <tr style=\"text-align: right;\">\n",
       "      <th></th>\n",
       "      <th>property_name</th>\n",
       "      <th>areaWithType</th>\n",
       "      <th>square_feet</th>\n",
       "      <th>transaction</th>\n",
       "      <th>furnishing</th>\n",
       "      <th>facing</th>\n",
       "      <th>price_per_sqft</th>\n",
       "      <th>price</th>\n",
       "      <th>floor_num</th>\n",
       "      <th>total_floors</th>\n",
       "    </tr>\n",
       "  </thead>\n",
       "  <tbody>\n",
       "    <tr>\n",
       "      <th>0</th>\n",
       "      <td>2 BHK Apartment for Sale in Dindoli Surat</td>\n",
       "      <td>Carpet Area</td>\n",
       "      <td>644 sqft</td>\n",
       "      <td>New Property</td>\n",
       "      <td>Unfurnished</td>\n",
       "      <td>West</td>\n",
       "      <td>₹2,891 per sqft</td>\n",
       "      <td>₹33.8 Lac</td>\n",
       "      <td>5</td>\n",
       "      <td>10</td>\n",
       "    </tr>\n",
       "    <tr>\n",
       "      <th>1</th>\n",
       "      <td>2 BHK Apartment for Sale in Althan Surat</td>\n",
       "      <td>Super Area</td>\n",
       "      <td>1278 sqft</td>\n",
       "      <td>New Property</td>\n",
       "      <td>Unfurnished</td>\n",
       "      <td>South -West</td>\n",
       "      <td>₹3,551 per sqft</td>\n",
       "      <td>₹45.4 Lac</td>\n",
       "      <td>6</td>\n",
       "      <td>14</td>\n",
       "    </tr>\n",
       "  </tbody>\n",
       "</table>\n",
       "</div>"
      ],
      "text/plain": [
       "                               property_name areaWithType square_feet  \\\n",
       "0  2 BHK Apartment for Sale in Dindoli Surat  Carpet Area    644 sqft   \n",
       "1   2 BHK Apartment for Sale in Althan Surat   Super Area   1278 sqft   \n",
       "\n",
       "    transaction   furnishing       facing    price_per_sqft       price  \\\n",
       "0  New Property  Unfurnished         West  ₹2,891 per sqft   ₹33.8 Lac    \n",
       "1  New Property  Unfurnished  South -West  ₹3,551 per sqft   ₹45.4 Lac    \n",
       "\n",
       "   floor_num  total_floors  \n",
       "0          5            10  \n",
       "1          6            14  "
      ]
     },
     "execution_count": 173,
     "metadata": {},
     "output_type": "execute_result"
    }
   ],
   "source": [
    "df.loc[:, 'floor_num']  = df['floor_num'].apply(lambda x: int(x) if x.isnumeric() else None)\n",
    "df.loc[:, 'total_floors']  = df['total_floors'].apply(lambda x: int(x) if x.isnumeric() else None)\n",
    "\n",
    "df = df.dropna(subset=['floor_num', 'total_floors'])\n",
    "df=  df.drop('floor', axis=1)\n",
    "\n",
    "df[['floor_num', 'total_floors']] = df[['floor_num', 'total_floors']].astype(int)\n",
    "\n",
    "df.head(2)"
   ]
  },
  {
   "cell_type": "code",
   "execution_count": 174,
   "id": "55d1f762",
   "metadata": {},
   "outputs": [
    {
     "data": {
      "text/plain": [
       "furnishing\n",
       "Unfurnished                2313\n",
       "Semi-Furnished              488\n",
       "Furnished                   453\n",
       "1                            88\n",
       "1 Covered                    24\n",
       "2                            20\n",
       "1 Open                       14\n",
       "2 Covered                     8\n",
       "3                             8\n",
       "1 Covered,                    6\n",
       "4                             5\n",
       "2 Covered,                    5\n",
       "2 Open                        4\n",
       "100 Covered                   2\n",
       "6                             2\n",
       "> 10                          2\n",
       "3 Covered                     2\n",
       "26 Covered                    1\n",
       "5 Covered,                    1\n",
       "10 Open                       1\n",
       "Vaishnodevi Ideal Homes       1\n",
       "50 Covered,                   1\n",
       "Vinayak Enclave               1\n",
       "West                          1\n",
       "50 Open                       1\n",
       "5 Covered                     1\n",
       "20 Open                       1\n",
       "10 Covered,                   1\n",
       "Name: count, dtype: int64"
      ]
     },
     "execution_count": 174,
     "metadata": {},
     "output_type": "execute_result"
    }
   ],
   "source": [
    "df['furnishing'].value_counts()"
   ]
  },
  {
   "cell_type": "code",
   "execution_count": 175,
   "id": "17197c98",
   "metadata": {},
   "outputs": [],
   "source": [
    "# Keep values that have more data that can effect the analysis (the majority of the dataset)\n",
    "df = df[df['furnishing'].isin(['Unfurnished', 'Semi-Furnished', 'Furnished'])]"
   ]
  },
  {
   "cell_type": "code",
   "execution_count": 176,
   "id": "f9b4c96b",
   "metadata": {},
   "outputs": [
    {
     "data": {
      "text/plain": [
       "Index(['East', 'South -West', 'North - East', '2', '1', '3', 'North', 'West',\n",
       "       'South - East', 'Main Road',\n",
       "       ...\n",
       "       'Atithi Western Oasis', 'Aagam Paramount', 'Cellestial Dreams',\n",
       "       'Nandanvan III', 'Samarth Enclave', 'Happy Home Capital Greens',\n",
       "       'Shaligram The Emerald', '135 X', '131 X', 'Vesu Point'],\n",
       "      dtype='object', name='facing', length=147)"
      ]
     },
     "execution_count": 176,
     "metadata": {},
     "output_type": "execute_result"
    }
   ],
   "source": [
    "# handle the facing column\n",
    "df['facing'].value_counts().index\n",
    "\n",
    "# In this situation, if dropping many row the can cause removing the nessesary data then we can create new category name \"Others\" and store all other data"
   ]
  },
  {
   "cell_type": "code",
   "execution_count": 177,
   "id": "84b39d2b",
   "metadata": {},
   "outputs": [],
   "source": [
    "# or can drop that column\n",
    "df = df.drop('facing', axis=1)"
   ]
  },
  {
   "cell_type": "code",
   "execution_count": 178,
   "id": "fec0816e",
   "metadata": {},
   "outputs": [
    {
     "data": {
      "text/html": [
       "<div>\n",
       "<style scoped>\n",
       "    .dataframe tbody tr th:only-of-type {\n",
       "        vertical-align: middle;\n",
       "    }\n",
       "\n",
       "    .dataframe tbody tr th {\n",
       "        vertical-align: top;\n",
       "    }\n",
       "\n",
       "    .dataframe thead th {\n",
       "        text-align: right;\n",
       "    }\n",
       "</style>\n",
       "<table border=\"1\" class=\"dataframe\">\n",
       "  <thead>\n",
       "    <tr style=\"text-align: right;\">\n",
       "      <th></th>\n",
       "      <th>property_name</th>\n",
       "      <th>areaWithType</th>\n",
       "      <th>square_feet</th>\n",
       "      <th>transaction</th>\n",
       "      <th>furnishing</th>\n",
       "      <th>price_per_sqft</th>\n",
       "      <th>price</th>\n",
       "      <th>floor_num</th>\n",
       "      <th>total_floors</th>\n",
       "    </tr>\n",
       "  </thead>\n",
       "  <tbody>\n",
       "    <tr>\n",
       "      <th>0</th>\n",
       "      <td>2 BHK Apartment for Sale in Dindoli Surat</td>\n",
       "      <td>Carpet Area</td>\n",
       "      <td>644 sqft</td>\n",
       "      <td>New Property</td>\n",
       "      <td>Unfurnished</td>\n",
       "      <td>₹2,891 per sqft</td>\n",
       "      <td>₹33.8 Lac</td>\n",
       "      <td>5</td>\n",
       "      <td>10</td>\n",
       "    </tr>\n",
       "    <tr>\n",
       "      <th>1</th>\n",
       "      <td>2 BHK Apartment for Sale in Althan Surat</td>\n",
       "      <td>Super Area</td>\n",
       "      <td>1278 sqft</td>\n",
       "      <td>New Property</td>\n",
       "      <td>Unfurnished</td>\n",
       "      <td>₹3,551 per sqft</td>\n",
       "      <td>₹45.4 Lac</td>\n",
       "      <td>6</td>\n",
       "      <td>14</td>\n",
       "    </tr>\n",
       "  </tbody>\n",
       "</table>\n",
       "</div>"
      ],
      "text/plain": [
       "                               property_name areaWithType square_feet  \\\n",
       "0  2 BHK Apartment for Sale in Dindoli Surat  Carpet Area    644 sqft   \n",
       "1   2 BHK Apartment for Sale in Althan Surat   Super Area   1278 sqft   \n",
       "\n",
       "    transaction   furnishing    price_per_sqft       price  floor_num  \\\n",
       "0  New Property  Unfurnished  ₹2,891 per sqft   ₹33.8 Lac           5   \n",
       "1  New Property  Unfurnished  ₹3,551 per sqft   ₹45.4 Lac           6   \n",
       "\n",
       "   total_floors  \n",
       "0            10  \n",
       "1            14  "
      ]
     },
     "execution_count": 178,
     "metadata": {},
     "output_type": "execute_result"
    }
   ],
   "source": [
    "df.head(2)"
   ]
  },
  {
   "cell_type": "code",
   "execution_count": 179,
   "id": "23382dcb",
   "metadata": {},
   "outputs": [],
   "source": [
    "df = df.dropna(subset=['price_per_sqft'])"
   ]
  },
  {
   "cell_type": "code",
   "execution_count": 180,
   "id": "0faacd59",
   "metadata": {},
   "outputs": [],
   "source": [
    "df['square_feet'] = df['square_feet'].apply(lambda x: int(x.split(' ')[0].replace(',','')))"
   ]
  },
  {
   "cell_type": "code",
   "execution_count": 181,
   "id": "092537d4",
   "metadata": {},
   "outputs": [],
   "source": [
    "df['price_in_lakhs'] = df['price'].apply(lambda x: float(x.split(' ')[0].replace('₹','')))"
   ]
  },
  {
   "cell_type": "code",
   "execution_count": 182,
   "id": "2c4cb0c8",
   "metadata": {},
   "outputs": [
    {
     "data": {
      "text/html": [
       "<div>\n",
       "<style scoped>\n",
       "    .dataframe tbody tr th:only-of-type {\n",
       "        vertical-align: middle;\n",
       "    }\n",
       "\n",
       "    .dataframe tbody tr th {\n",
       "        vertical-align: top;\n",
       "    }\n",
       "\n",
       "    .dataframe thead th {\n",
       "        text-align: right;\n",
       "    }\n",
       "</style>\n",
       "<table border=\"1\" class=\"dataframe\">\n",
       "  <thead>\n",
       "    <tr style=\"text-align: right;\">\n",
       "      <th></th>\n",
       "      <th>property_name</th>\n",
       "      <th>areaWithType</th>\n",
       "      <th>square_feet</th>\n",
       "      <th>transaction</th>\n",
       "      <th>furnishing</th>\n",
       "      <th>price_per_sqft</th>\n",
       "      <th>price</th>\n",
       "      <th>floor_num</th>\n",
       "      <th>total_floors</th>\n",
       "      <th>price_in_lakhs</th>\n",
       "    </tr>\n",
       "  </thead>\n",
       "  <tbody>\n",
       "    <tr>\n",
       "      <th>0</th>\n",
       "      <td>2 BHK Apartment for Sale in Dindoli Surat</td>\n",
       "      <td>Carpet Area</td>\n",
       "      <td>644</td>\n",
       "      <td>New Property</td>\n",
       "      <td>Unfurnished</td>\n",
       "      <td>₹2,891 per sqft</td>\n",
       "      <td>₹33.8 Lac</td>\n",
       "      <td>5</td>\n",
       "      <td>10</td>\n",
       "      <td>33.8</td>\n",
       "    </tr>\n",
       "    <tr>\n",
       "      <th>1</th>\n",
       "      <td>2 BHK Apartment for Sale in Althan Surat</td>\n",
       "      <td>Super Area</td>\n",
       "      <td>1278</td>\n",
       "      <td>New Property</td>\n",
       "      <td>Unfurnished</td>\n",
       "      <td>₹3,551 per sqft</td>\n",
       "      <td>₹45.4 Lac</td>\n",
       "      <td>6</td>\n",
       "      <td>14</td>\n",
       "      <td>45.4</td>\n",
       "    </tr>\n",
       "  </tbody>\n",
       "</table>\n",
       "</div>"
      ],
      "text/plain": [
       "                               property_name areaWithType  square_feet  \\\n",
       "0  2 BHK Apartment for Sale in Dindoli Surat  Carpet Area          644   \n",
       "1   2 BHK Apartment for Sale in Althan Surat   Super Area         1278   \n",
       "\n",
       "    transaction   furnishing    price_per_sqft       price  floor_num  \\\n",
       "0  New Property  Unfurnished  ₹2,891 per sqft   ₹33.8 Lac           5   \n",
       "1  New Property  Unfurnished  ₹3,551 per sqft   ₹45.4 Lac           6   \n",
       "\n",
       "   total_floors  price_in_lakhs  \n",
       "0            10            33.8  \n",
       "1            14            45.4  "
      ]
     },
     "execution_count": 182,
     "metadata": {},
     "output_type": "execute_result"
    }
   ],
   "source": [
    "df.head(2)"
   ]
  },
  {
   "cell_type": "code",
   "execution_count": 183,
   "id": "b6a1643b",
   "metadata": {},
   "outputs": [],
   "source": [
    "df = df.drop('price', axis=1)"
   ]
  },
  {
   "cell_type": "markdown",
   "id": "9c2c7794",
   "metadata": {},
   "source": [
    "# Visualization"
   ]
  },
  {
   "cell_type": "code",
   "execution_count": 184,
   "id": "31424c59",
   "metadata": {},
   "outputs": [
    {
     "data": {
      "image/png": "[encoded data removed]",
      "text/plain": [
       "<Figure size 640x480 with 1 Axes>"
      ]
     },
     "metadata": {},
     "output_type": "display_data"
    }
   ],
   "source": [
    "plt.Figure(figsize=(6, 4))\n",
    "sns.histplot(df[\"price_in_lakhs\"], bins=[0, 5, 10, 20, 50, 100, 200])\n",
    "plt.title('Distribution')\n",
    "plt.show()"
   ]
  },
  {
   "cell_type": "code",
   "execution_count": 185,
   "id": "ecd092a6",
   "metadata": {},
   "outputs": [
    {
     "data": {
      "image/png": "[encoded data removed]",
      "text/plain": [
       "<Figure size 640x480 with 1 Axes>"
      ]
     },
     "metadata": {},
     "output_type": "display_data"
    }
   ],
   "source": [
    "plt.Figure(figsize=(6, 4))\n",
    "sns.histplot(df[\"square_feet\"], bins=[0, 100, 500, 1000, 3000, 5000])\n",
    "plt.title('Distribution')\n",
    "plt.show()"
   ]
  },
  {
   "cell_type": "code",
   "execution_count": 186,
   "id": "b565c6be",
   "metadata": {},
   "outputs": [
    {
     "data": {
      "image/png": "[encoded data removed]",
      "text/plain": [
       "<Figure size 600x400 with 1 Axes>"
      ]
     },
     "metadata": {},
     "output_type": "display_data"
    }
   ],
   "source": [
    "plt.figure(figsize = (6, 4)) \n",
    "sns.scatterplot(data = df, x = 'price_in_lakhs', y = 'square_feet') \n",
    "plt.title('Property price by square footage') \n",
    "plt.xlabel('Price (in lakhs of rupees)') \n",
    "plt.ylabel('Area (in square feet)') \n",
    "plt.show()"
   ]
  },
  {
   "cell_type": "code",
   "execution_count": 187,
   "id": "98e8ff46",
   "metadata": {},
   "outputs": [],
   "source": [
    "df1 = df.loc[df['square_feet'] < 5000, :]"
   ]
  },
  {
   "cell_type": "code",
   "execution_count": 188,
   "id": "584aad91",
   "metadata": {},
   "outputs": [
    {
     "data": {
      "image/png": "[encoded data removed]",
      "text/plain": [
       "<Figure size 600x400 with 1 Axes>"
      ]
     },
     "metadata": {},
     "output_type": "display_data"
    }
   ],
   "source": [
    "plt.figure(figsize = (6, 4)) \n",
    "sns.scatterplot(data = df1, x = 'price_in_lakhs', y = 'square_feet') \n",
    "plt.title('Property price by square footage') \n",
    "plt.xlabel('Price (in lakhs of rupees)') \n",
    "plt.ylabel('Area (in square feet)') \n",
    "plt.show()"
   ]
  },
  {
   "cell_type": "code",
   "execution_count": 189,
   "id": "145d1bb5",
   "metadata": {},
   "outputs": [
    {
     "data": {
      "image/png": "[encoded data removed]",
      "text/plain": [
       "<Figure size 640x480 with 1 Axes>"
      ]
     },
     "metadata": {},
     "output_type": "display_data"
    }
   ],
   "source": [
    "sns.countplot(df['furnishing'])\n",
    "plt.show()"
   ]
  },
  {
   "cell_type": "code",
   "execution_count": 190,
   "id": "cc8cb898",
   "metadata": {},
   "outputs": [
    {
     "data": {
      "text/html": [
       "<div>\n",
       "<style scoped>\n",
       "    .dataframe tbody tr th:only-of-type {\n",
       "        vertical-align: middle;\n",
       "    }\n",
       "\n",
       "    .dataframe tbody tr th {\n",
       "        vertical-align: top;\n",
       "    }\n",
       "\n",
       "    .dataframe thead th {\n",
       "        text-align: right;\n",
       "    }\n",
       "</style>\n",
       "<table border=\"1\" class=\"dataframe\">\n",
       "  <thead>\n",
       "    <tr style=\"text-align: right;\">\n",
       "      <th></th>\n",
       "      <th>property_name</th>\n",
       "      <th>areaWithType</th>\n",
       "      <th>square_feet</th>\n",
       "      <th>transaction</th>\n",
       "      <th>furnishing</th>\n",
       "      <th>price_per_sqft</th>\n",
       "      <th>floor_num</th>\n",
       "      <th>total_floors</th>\n",
       "      <th>price_in_lakhs</th>\n",
       "    </tr>\n",
       "  </thead>\n",
       "  <tbody>\n",
       "    <tr>\n",
       "      <th>0</th>\n",
       "      <td>2 BHK Apartment for Sale in Dindoli Surat</td>\n",
       "      <td>Carpet Area</td>\n",
       "      <td>644</td>\n",
       "      <td>New Property</td>\n",
       "      <td>Unfurnished</td>\n",
       "      <td>₹2,891 per sqft</td>\n",
       "      <td>5</td>\n",
       "      <td>10</td>\n",
       "      <td>33.8</td>\n",
       "    </tr>\n",
       "    <tr>\n",
       "      <th>1</th>\n",
       "      <td>2 BHK Apartment for Sale in Althan Surat</td>\n",
       "      <td>Super Area</td>\n",
       "      <td>1278</td>\n",
       "      <td>New Property</td>\n",
       "      <td>Unfurnished</td>\n",
       "      <td>₹3,551 per sqft</td>\n",
       "      <td>6</td>\n",
       "      <td>14</td>\n",
       "      <td>45.4</td>\n",
       "    </tr>\n",
       "  </tbody>\n",
       "</table>\n",
       "</div>"
      ],
      "text/plain": [
       "                               property_name areaWithType  square_feet  \\\n",
       "0  2 BHK Apartment for Sale in Dindoli Surat  Carpet Area          644   \n",
       "1   2 BHK Apartment for Sale in Althan Surat   Super Area         1278   \n",
       "\n",
       "    transaction   furnishing    price_per_sqft  floor_num  total_floors  \\\n",
       "0  New Property  Unfurnished  ₹2,891 per sqft           5            10   \n",
       "1  New Property  Unfurnished  ₹3,551 per sqft           6            14   \n",
       "\n",
       "   price_in_lakhs  \n",
       "0            33.8  \n",
       "1            45.4  "
      ]
     },
     "execution_count": 190,
     "metadata": {},
     "output_type": "execute_result"
    }
   ],
   "source": [
    "df.head(2)"
   ]
  },
  {
   "cell_type": "code",
   "execution_count": 196,
   "id": "e2758676",
   "metadata": {},
   "outputs": [
    {
     "data": {
      "text/plain": [
       "array(['₹2,891 per sqft ', '₹3,551 per sqft ', '₹3,800 per sqft ',\n",
       "       '₹3,966 per sqft ', '₹3,200 per sqft ', '₹3,235 per sqft ',\n",
       "       '₹2,315 per sqft ', '₹3,125 per sqft ', '₹5,903 per sqft ',\n",
       "       '₹2,368 per sqft ', '₹3,185 per sqft ', '₹2,736 per sqft ',\n",
       "       '₹2,829 per sqft ', '₹3,009 per sqft ', '₹2,857 per sqft ',\n",
       "       '₹3,325 per sqft ', '₹3,842 per sqft ', '₹3,678 per sqft ',\n",
       "       '₹3,488 per sqft ', '₹3,282 per sqft '], dtype=object)"
      ]
     },
     "execution_count": 196,
     "metadata": {},
     "output_type": "execute_result"
    }
   ],
   "source": [
    "df['price_per_sqft'].unique()[:20]"
   ]
  },
  {
   "cell_type": "code",
   "execution_count": 198,
   "id": "8643d167",
   "metadata": {},
   "outputs": [],
   "source": [
    "# Q1: clean price_per_sqft to make it consume for analysis\n",
    "df['price_per_sqft'] = df['price_per_sqft'].apply(lambda x: int(x.split(' ')[0].replace('₹', '').replace(',','')))"
   ]
  },
  {
   "cell_type": "code",
   "execution_count": 202,
   "id": "71a02c41",
   "metadata": {},
   "outputs": [
    {
     "data": {
      "text/plain": [
       "Index([5000, 4500, 6000, 5500, 6500, 4000, 3333, 4251, 3500, 7500], dtype='int64', name='price_per_sqft')"
      ]
     },
     "execution_count": 202,
     "metadata": {},
     "output_type": "execute_result"
    }
   ],
   "source": [
    "df['price_per_sqft'].value_counts().iloc[:10].index"
   ]
  },
  {
   "cell_type": "code",
   "execution_count": 207,
   "id": "a4abe628",
   "metadata": {},
   "outputs": [],
   "source": [
    "df = df[(df[\"price_per_sqft\"].isin(df['price_per_sqft'].value_counts().iloc[:10].index))]"
   ]
  },
  {
   "cell_type": "code",
   "execution_count": 209,
   "id": "86cd3650",
   "metadata": {},
   "outputs": [
    {
     "data": {
      "image/png": "[encoded data removed]",
      "text/plain": [
       "<Figure size 640x480 with 1 Axes>"
      ]
     },
     "metadata": {},
     "output_type": "display_data"
    }
   ],
   "source": [
    "# Q2: analyse price_per_sqft using histplot and scatter with price of the house\n",
    "plt.Figure(figsize=(6,4))\n",
    "sns.histplot(df, x='price_per_sqft', bins=[2000,3000,4000,5000,6000,7000,10000,12000])\n",
    "plt.show()"
   ]
  },
  {
   "cell_type": "code",
   "execution_count": null,
   "id": "f409ba71",
   "metadata": {},
   "outputs": [],
   "source": []
  }
 ],
 "metadata": {
  "kernelspec": {
   "display_name": "Python 3",
   "language": "python",
   "name": "python3"
  },
  "language_info": {
   "codemirror_mode": {
    "name": "ipython",
    "version": 3
   },
   "file_extension": ".py",
   "mimetype": "text/x-python",
   "name": "python",
   "nbconvert_exporter": "python",
   "pygments_lexer": "ipython3",
   "version": "3.13.3"
  }
 },
 "nbformat": 4,
 "nbformat_minor": 5
}
