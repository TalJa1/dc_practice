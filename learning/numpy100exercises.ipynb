{
 "cells": [
  {
   "cell_type": "markdown",
   "metadata": {},
   "source": [
    "# 100 exercises Numpy"
   ]
  },
  {
   "cell_type": "code",
   "execution_count": 3,
   "metadata": {},
   "outputs": [],
   "source": [
    "import numpy as np"
   ]
  },
  {
   "cell_type": "code",
   "execution_count": 4,
   "metadata": {},
   "outputs": [
    {
     "name": "stdout",
     "output_type": "stream",
     "text": [
      "2.2.2\n"
     ]
    }
   ],
   "source": [
    "# Print the numpy version and the configuration\n",
    "\n",
    "print(np.__version__)"
   ]
  },
  {
   "cell_type": "code",
   "execution_count": 5,
   "metadata": {},
   "outputs": [
    {
     "data": {
      "text/plain": [
       "array([0., 0., 0., 0., 0., 0., 0., 0., 0., 0.])"
      ]
     },
     "execution_count": 5,
     "metadata": {},
     "output_type": "execute_result"
    }
   ],
   "source": [
    "# Create a null vector of size 10\n",
    "\n",
    "null_vector = np.zeros(10)\n",
    "null_vector"
   ]
  },
  {
   "cell_type": "code",
   "execution_count": 6,
   "metadata": {},
   "outputs": [
    {
     "data": {
      "text/plain": [
       "80"
      ]
     },
     "execution_count": 6,
     "metadata": {},
     "output_type": "execute_result"
    }
   ],
   "source": [
    "# How to find the memory size of any array\n",
    "\n",
    "# method 1\n",
    "memory_size = null_vector.size * null_vector.itemsize\n",
    "\n",
    "# method 2\n",
    "# memory_size = null_vector.nbytes\n",
    "\n",
    "memory_size"
   ]
  },
  {
   "cell_type": "code",
   "execution_count": 7,
   "metadata": {},
   "outputs": [
    {
     "name": "stdout",
     "output_type": "stream",
     "text": [
      "Help on ufunc in module numpy:\n",
      "\n",
      "add = <ufunc 'add'>\n",
      "    add(x1, x2, /, out=None, *, where=True, casting='same_kind', order='K', dtype=None, subok=True[, signature])\n",
      "\n",
      "    Add arguments element-wise.\n",
      "\n",
      "    Parameters\n",
      "    ----------\n",
      "    x1, x2 : array_like\n",
      "        The arrays to be added.\n",
      "        If ``x1.shape != x2.shape``, they must be broadcastable to a common\n",
      "        shape (which becomes the shape of the output).\n",
      "    out : ndarray, None, or tuple of ndarray and None, optional\n",
      "        A location into which the result is stored. If provided, it must have\n",
      "        a shape that the inputs broadcast to. If not provided or None,\n",
      "        a freshly-allocated array is returned. A tuple (possible only as a\n",
      "        keyword argument) must have length equal to the number of outputs.\n",
      "    where : array_like, optional\n",
      "        This condition is broadcast over the input. At locations where the\n",
      "        condition is True, the `out` array will be set to the ufunc result.\n",
      "        Elsewhere, the `out` array will retain its original value.\n",
      "        Note that if an uninitialized `out` array is created via the default\n",
      "        ``out=None``, locations within it where the condition is False will\n",
      "        remain uninitialized.\n",
      "    **kwargs\n",
      "        For other keyword-only arguments, see the\n",
      "        :ref:`ufunc docs <ufuncs.kwargs>`.\n",
      "\n",
      "    Returns\n",
      "    -------\n",
      "    add : ndarray or scalar\n",
      "        The sum of `x1` and `x2`, element-wise.\n",
      "        This is a scalar if both `x1` and `x2` are scalars.\n",
      "\n",
      "    Notes\n",
      "    -----\n",
      "    Equivalent to `x1` + `x2` in terms of array broadcasting.\n",
      "\n",
      "    Examples\n",
      "    --------\n",
      "    >>> import numpy as np\n",
      "    >>> np.add(1.0, 4.0)\n",
      "    5.0\n",
      "    >>> x1 = np.arange(9.0).reshape((3, 3))\n",
      "    >>> x2 = np.arange(3.0)\n",
      "    >>> np.add(x1, x2)\n",
      "    array([[  0.,   2.,   4.],\n",
      "           [  3.,   5.,   7.],\n",
      "           [  6.,   8.,  10.]])\n",
      "\n",
      "    The ``+`` operator can be used as a shorthand for ``np.add`` on ndarrays.\n",
      "\n",
      "    >>> x1 = np.arange(9.0).reshape((3, 3))\n",
      "    >>> x2 = np.arange(3.0)\n",
      "    >>> x1 + x2\n",
      "    array([[ 0.,  2.,  4.],\n",
      "           [ 3.,  5.,  7.],\n",
      "           [ 6.,  8., 10.]])\n",
      "\n"
     ]
    }
   ],
   "source": [
    "# How to get the documentation of the numpy add function from the command line?\n",
    "\n",
    "help(np.add)\n",
    "\n",
    "# print(np.info(np.add))\n",
    "\n",
    "# print(np.add.__doc__)"
   ]
  },
  {
   "cell_type": "code",
   "execution_count": 8,
   "metadata": {},
   "outputs": [
    {
     "data": {
      "text/plain": [
       "array([0., 0., 0., 0., 1., 0., 0., 0., 0., 0.])"
      ]
     },
     "execution_count": 8,
     "metadata": {},
     "output_type": "execute_result"
    }
   ],
   "source": [
    "# Create a null vector of size 10 but the fifth value which is 1\n",
    "\n",
    "null_vector = np.zeros(10)\n",
    "null_vector[4] = 1\n",
    "null_vector"
   ]
  },
  {
   "cell_type": "code",
   "execution_count": 9,
   "metadata": {},
   "outputs": [
    {
     "data": {
      "text/plain": [
       "array([10, 11, 12, 13, 14, 15, 16, 17, 18, 19, 20, 21, 22, 23, 24, 25, 26,\n",
       "       27, 28, 29, 30, 31, 32, 33, 34, 35, 36, 37, 38, 39, 40, 41, 42, 43,\n",
       "       44, 45, 46, 47, 48, 49])"
      ]
     },
     "execution_count": 9,
     "metadata": {},
     "output_type": "execute_result"
    }
   ],
   "source": [
    "# Create a vector with values ranging from 10 to 49\n",
    "\n",
    "vector = np.arange(10, 50)\n",
    "vector"
   ]
  },
  {
   "cell_type": "code",
   "execution_count": 10,
   "metadata": {},
   "outputs": [
    {
     "data": {
      "text/plain": [
       "array([49, 48, 47, 46, 45, 44, 43, 42, 41, 40, 39, 38, 37, 36, 35, 34, 33,\n",
       "       32, 31, 30, 29, 28, 27, 26, 25, 24, 23, 22, 21, 20, 19, 18, 17, 16,\n",
       "       15, 14, 13, 12, 11, 10])"
      ]
     },
     "execution_count": 10,
     "metadata": {},
     "output_type": "execute_result"
    }
   ],
   "source": [
    "# Reverse vertor\n",
    "\n",
    "# method 1: using slicing\n",
    "vector = vector[::-1]\n",
    "\n",
    "# method 2: using flip\n",
    "# vector = np.flip(vector)\n",
    "\n",
    "# method 3: using flipud\n",
    "# vector = np.flipud(vector)\n",
    "vector"
   ]
  },
  {
   "cell_type": "code",
   "execution_count": 11,
   "metadata": {},
   "outputs": [
    {
     "data": {
      "text/plain": [
       "array([[0, 1, 2],\n",
       "       [3, 4, 5],\n",
       "       [6, 7, 8]])"
      ]
     },
     "execution_count": 11,
     "metadata": {},
     "output_type": "execute_result"
    }
   ],
   "source": [
    "#  Create a 3x3 matrix with values ranging from 0 to 8\n",
    "\n",
    "# method 1\n",
    "new = np.arange(9).reshape(3, 3)\n",
    "\n",
    "# method 2\n",
    "# new = np.array([[0, 1, 2], [3, 4, 5], [6, 7, 8]])\n",
    "\n",
    "# method 3\n",
    "# new = np.array([range(3), range(3, 6), range(6, 9)])\n",
    "new"
   ]
  },
  {
   "cell_type": "code",
   "execution_count": 12,
   "metadata": {},
   "outputs": [
    {
     "data": {
      "text/plain": [
       "(array([0, 1, 4]),)"
      ]
     },
     "execution_count": 12,
     "metadata": {},
     "output_type": "execute_result"
    }
   ],
   "source": [
    "# Find indices of non-zero elements from [1,2,0,0,4,0]\n",
    "\n",
    "# # method 1\n",
    "non_zero = np.nonzero([1, 2, 0, 0, 4, 0])\n",
    "\n",
    "# method 2\n",
    "# non_zero = np.where([1, 2, 0, 0, 4, 0])\n",
    "\n",
    "# method 3\n",
    "# non_zero = np.array([i for i, x in enumerate([1, 2, 0, 0, 4, 0]) if x != 0])\n",
    "non_zero"
   ]
  },
  {
   "cell_type": "code",
   "execution_count": 13,
   "metadata": {},
   "outputs": [
    {
     "data": {
      "text/plain": [
       "array([[1., 0., 0.],\n",
       "       [0., 1., 0.],\n",
       "       [0., 0., 1.]])"
      ]
     },
     "execution_count": 13,
     "metadata": {},
     "output_type": "execute_result"
    }
   ],
   "source": [
    "# Create a 3x3 identity matrix\n",
    "\n",
    "identity_matrix = np.eye(3)\n",
    "identity_matrix"
   ]
  },
  {
   "cell_type": "code",
   "execution_count": 14,
   "metadata": {},
   "outputs": [
    {
     "data": {
      "text/plain": [
       "array([[0.52523496, 0.00831727, 0.73226192],\n",
       "       [0.34760164, 0.56239912, 0.83116689],\n",
       "       [0.47282816, 0.4779573 , 0.41793349]])"
      ]
     },
     "execution_count": 14,
     "metadata": {},
     "output_type": "execute_result"
    }
   ],
   "source": [
    "# Create a 3x3 array with random values\n",
    "\n",
    "# method 1\n",
    "random_matrix = np.random.random((3, 3))\n",
    "\n",
    "# method 2\n",
    "# random_matrix = np.random.rand(3, 3)\n",
    "\n",
    "# method 3\n",
    "# random_matrix = np.random.random_sample((3, 3))\n",
    "random_matrix"
   ]
  },
  {
   "cell_type": "code",
   "execution_count": 15,
   "metadata": {},
   "outputs": [
    {
     "data": {
      "text/plain": [
       "array([[[0.47725765, 0.78887987, 0.88532321],\n",
       "        [0.82177728, 0.54662652, 0.90326921],\n",
       "        [0.16951418, 0.06678301, 0.34366641]],\n",
       "\n",
       "       [[0.17753853, 0.77577612, 0.41939164],\n",
       "        [0.64316395, 0.24503852, 0.37861871],\n",
       "        [0.70029428, 0.17298155, 0.70798299]],\n",
       "\n",
       "       [[0.97331831, 0.52556693, 0.18341319],\n",
       "        [0.18179076, 0.8450511 , 0.37129175],\n",
       "        [0.82606079, 0.46306895, 0.93772377]]])"
      ]
     },
     "execution_count": 15,
     "metadata": {},
     "output_type": "execute_result"
    }
   ],
   "source": [
    "# Create a 3x3x3 array with random values\n",
    "\n",
    "random_array = np.random.random((3, 3, 3))\n",
    "random_array"
   ]
  },
  {
   "cell_type": "code",
   "execution_count": 16,
   "metadata": {},
   "outputs": [
    {
     "data": {
      "text/plain": [
       "(np.float64(0.0009843219049932017), np.float64(0.9826711728015486))"
      ]
     },
     "execution_count": 16,
     "metadata": {},
     "output_type": "execute_result"
    }
   ],
   "source": [
    "# Create a 10x10 array with random values and find the minimum and maximum values\n",
    "\n",
    "# method 1\n",
    "arr = np.random.random((10,10))\n",
    "\n",
    "arr.min(), arr.max()"
   ]
  },
  {
   "cell_type": "code",
   "execution_count": 17,
   "metadata": {},
   "outputs": [
    {
     "data": {
      "text/plain": [
       "np.float64(0.486830245985522)"
      ]
     },
     "execution_count": 17,
     "metadata": {},
     "output_type": "execute_result"
    }
   ],
   "source": [
    "# Create a random vector of size 30 and find the mean value\n",
    "\n",
    "# method 1 \n",
    "arr = np.random.random(30)\n",
    "\n",
    "# method 2\n",
    "# arr = np.random.rand(30)\n",
    "\n",
    "arr.mean()"
   ]
  },
  {
   "cell_type": "code",
   "execution_count": 18,
   "metadata": {},
   "outputs": [
    {
     "data": {
      "text/plain": [
       "array([[1., 1., 1., 1., 1.],\n",
       "       [1., 0., 0., 0., 1.],\n",
       "       [1., 0., 0., 0., 1.],\n",
       "       [1., 0., 0., 0., 1.],\n",
       "       [1., 1., 1., 1., 1.]])"
      ]
     },
     "execution_count": 18,
     "metadata": {},
     "output_type": "execute_result"
    }
   ],
   "source": [
    "# Create a 2d array with 1 on the border and 0 inside\n",
    "\n",
    "# method 1\n",
    "arr = np.ones((5, 5))\n",
    "arr[1:-1, 1:-1] = 0\n",
    "\n",
    "# method 2\n",
    "# arr = np.zeros((5, 5))\n",
    "# arr[0, :] = 1\n",
    "# arr[-1, :] = 1\n",
    "# arr[:, 0] = 1         \n",
    "# arr[:, -1] = 1 \n",
    "\n",
    "arr"
   ]
  },
  {
   "cell_type": "code",
   "execution_count": 19,
   "metadata": {},
   "outputs": [
    {
     "data": {
      "text/plain": [
       "array([[0., 0., 0., 0., 0., 0., 0.],\n",
       "       [0., 1., 1., 1., 1., 1., 0.],\n",
       "       [0., 1., 1., 1., 1., 1., 0.],\n",
       "       [0., 1., 1., 1., 1., 1., 0.],\n",
       "       [0., 1., 1., 1., 1., 1., 0.],\n",
       "       [0., 1., 1., 1., 1., 1., 0.],\n",
       "       [0., 0., 0., 0., 0., 0., 0.]])"
      ]
     },
     "execution_count": 19,
     "metadata": {},
     "output_type": "execute_result"
    }
   ],
   "source": [
    "# How to add a border (filled with 0's) around an existing array?\n",
    "\n",
    "arr = np.ones((5, 5))\n",
    "arr = np.pad(arr, pad_width=1, mode='constant', constant_values=0)\n",
    "\n",
    "arr"
   ]
  },
  {
   "cell_type": "code",
   "execution_count": 20,
   "metadata": {},
   "outputs": [
    {
     "data": {
      "text/plain": [
       "False"
      ]
     },
     "execution_count": 20,
     "metadata": {},
     "output_type": "execute_result"
    }
   ],
   "source": [
    "# What is the result of the following expression?\n",
    "\n",
    "0 * np.nan\n",
    "np.nan == np.nan\n",
    "np.inf > np.nan\n",
    "np.nan - np.nan\n",
    "np.nan in set([np.nan])\n",
    "0.3 == 3 * 0.1"
   ]
  },
  {
   "cell_type": "code",
   "execution_count": 21,
   "metadata": {},
   "outputs": [
    {
     "data": {
      "text/plain": [
       "array([[0, 0, 0, 0, 0],\n",
       "       [1, 0, 0, 0, 0],\n",
       "       [0, 2, 0, 0, 0],\n",
       "       [0, 0, 3, 0, 0],\n",
       "       [0, 0, 0, 4, 0]])"
      ]
     },
     "execution_count": 21,
     "metadata": {},
     "output_type": "execute_result"
    }
   ],
   "source": [
    "# Create a 5x5 matrix with values 1,2,3,4 just below the diagonal\n",
    "\n",
    "# method 1\n",
    "arr = np.diag(1 + np.arange(4), k=-1)\n",
    "\n",
    "arr\n"
   ]
  },
  {
   "cell_type": "code",
   "execution_count": 22,
   "metadata": {},
   "outputs": [
    {
     "data": {
      "text/plain": [
       "array([[0, 1, 0, 1, 0, 1, 0, 1],\n",
       "       [1, 0, 1, 0, 1, 0, 1, 0],\n",
       "       [0, 1, 0, 1, 0, 1, 0, 1],\n",
       "       [1, 0, 1, 0, 1, 0, 1, 0],\n",
       "       [0, 1, 0, 1, 0, 1, 0, 1],\n",
       "       [1, 0, 1, 0, 1, 0, 1, 0],\n",
       "       [0, 1, 0, 1, 0, 1, 0, 1],\n",
       "       [1, 0, 1, 0, 1, 0, 1, 0]])"
      ]
     },
     "execution_count": 22,
     "metadata": {},
     "output_type": "execute_result"
    }
   ],
   "source": [
    "# Create a 8x8 matrix and fill it with a checkerboard pattern\n",
    "\n",
    "# method 1\n",
    "arr = np.zeros((8, 8), dtype=int)\n",
    "arr[1::2, ::2] = 1\n",
    "arr[::2, 1::2] = 1\n",
    "\n",
    "arr"
   ]
  },
  {
   "cell_type": "code",
   "execution_count": 23,
   "metadata": {},
   "outputs": [
    {
     "name": "stdout",
     "output_type": "stream",
     "text": [
      "The index (x, y, z) of the 100th element is: (np.int64(1), np.int64(5), np.int64(4))\n"
     ]
    }
   ],
   "source": [
    "# Consider a (6,7,8) shape array, what is the index (x,y,z) of the 100th element?\n",
    "\n",
    "# method 1\n",
    "import numpy as np\n",
    "\n",
    "# Shape of the array\n",
    "shape = (6, 7, 8)\n",
    "\n",
    "# Element index (0-based index for 100th element is 99)\n",
    "element_index = 100\n",
    "\n",
    "# Find the index (x, y, z) using unravel_index\n",
    "index = np.unravel_index(element_index, shape)\n",
    "\n",
    "print(f\"The index (x, y, z) of the 100th element is: {index}\")\n"
   ]
  },
  {
   "cell_type": "code",
   "execution_count": 24,
   "metadata": {},
   "outputs": [
    {
     "data": {
      "text/plain": [
       "array([[0, 1, 0, 1, 0, 1, 0, 1],\n",
       "       [1, 0, 1, 0, 1, 0, 1, 0],\n",
       "       [0, 1, 0, 1, 0, 1, 0, 1],\n",
       "       [1, 0, 1, 0, 1, 0, 1, 0],\n",
       "       [0, 1, 0, 1, 0, 1, 0, 1],\n",
       "       [1, 0, 1, 0, 1, 0, 1, 0],\n",
       "       [0, 1, 0, 1, 0, 1, 0, 1],\n",
       "       [1, 0, 1, 0, 1, 0, 1, 0]])"
      ]
     },
     "execution_count": 24,
     "metadata": {},
     "output_type": "execute_result"
    }
   ],
   "source": [
    "# Create a checkerboard 8x8 matrix using the tile function\n",
    "\n",
    "# method 1\n",
    "arr = np.tile(np.array([[0, 1], [1, 0]]), (4, 4))\n",
    "\n",
    "arr"
   ]
  },
  {
   "cell_type": "code",
   "execution_count": 25,
   "metadata": {},
   "outputs": [
    {
     "data": {
      "text/plain": [
       "array([[0.18401972, 0.24841528, 0.92592851, 0.83709649, 0.59915849],\n",
       "       [0.60074845, 0.25247306, 0.03351634, 0.86815824, 0.        ],\n",
       "       [0.19913946, 0.961649  , 0.27261668, 0.95747555, 0.15913602],\n",
       "       [0.15656972, 0.61103759, 0.05259863, 0.33999462, 0.55127606],\n",
       "       [0.51866904, 0.1253187 , 0.67586636, 1.        , 0.21719129]])"
      ]
     },
     "execution_count": 25,
     "metadata": {},
     "output_type": "execute_result"
    }
   ],
   "source": [
    "# Normalize a 5x5 random matrix\n",
    "\n",
    "# method 1\n",
    "arr = np.random.random((5, 5))\n",
    "arr_max, arr_min = arr.max(), arr.min()\n",
    "normalize_array = (arr - arr_min)/(arr_max - arr_min)\n",
    "\n",
    "normalize_array"
   ]
  },
  {
   "cell_type": "code",
   "execution_count": 26,
   "metadata": {},
   "outputs": [
    {
     "data": {
      "text/plain": [
       "dtype([('r', 'u1', (1,)), ('g', 'u1', (1,)), ('b', 'u1', (1,)), ('a', 'u1', (1,))])"
      ]
     },
     "execution_count": 26,
     "metadata": {},
     "output_type": "execute_result"
    }
   ],
   "source": [
    "# Create a custom dtype that describes a color as four unsigned bytes (RGBA)\n",
    "\n",
    "# method 1\n",
    "color = np.dtype([(\"r\", np.ubyte, 1),\n",
    "                  (\"g\", np.ubyte, 1),\n",
    "                  (\"b\", np.ubyte, 1),\n",
    "                  (\"a\", np.ubyte, 1)])\n",
    "\n",
    "color"
   ]
  },
  {
   "cell_type": "code",
   "execution_count": 27,
   "metadata": {},
   "outputs": [
    {
     "data": {
      "text/plain": [
       "array([[0.4528047 , 0.64930456],\n",
       "       [0.22480245, 0.54766142],\n",
       "       [0.73999996, 0.98992878],\n",
       "       [0.54106913, 1.28143295],\n",
       "       [0.4061866 , 0.79975855]])"
      ]
     },
     "execution_count": 27,
     "metadata": {},
     "output_type": "execute_result"
    }
   ],
   "source": [
    "# Multiply a 5x3 matrix by a 3x2 matrix (real matrix product)\n",
    "\n",
    "matrix1 = np.random.random((5, 3))\n",
    "matrix2 = np.random.random((2, 3))\n",
    "matrix3 = np.dot(matrix1, matrix2.reshape(3, 2)) # make sure the shape is correct\n",
    "\n",
    "# method 2\n",
    "# matrix3 = matrix1 @ matrix2\n",
    "\n",
    "matrix3"
   ]
  },
  {
   "cell_type": "code",
   "execution_count": 28,
   "metadata": {},
   "outputs": [
    {
     "data": {
      "text/plain": [
       "array([ 0,  1,  2, -3, -4, -5, -6, -7, -8,  9, 10])"
      ]
     },
     "execution_count": 28,
     "metadata": {},
     "output_type": "execute_result"
    }
   ],
   "source": [
    "# Given a 1D array, negate all elements which are between 3 and 8, in place.\n",
    "\n",
    "arr = np.arange(11)\n",
    "arr[(3 <= arr) & (arr <= 8)] *= -1\n",
    "\n",
    "arr"
   ]
  },
  {
   "cell_type": "code",
   "execution_count": 29,
   "metadata": {},
   "outputs": [
    {
     "data": {
      "text/plain": [
       "array([ -1.,  -7.,  -6.,   8.,   3.,  -8., -10.,  -2.,   9.,  -4.])"
      ]
     },
     "execution_count": 29,
     "metadata": {},
     "output_type": "execute_result"
    }
   ],
   "source": [
    "# How to round away from zero a float array ?\n",
    "\n",
    "arr = np.random.uniform(-10, 10, 10)\n",
    "arr = np.copysign(np.ceil(np.abs(arr)), arr)\n",
    "\n",
    "arr"
   ]
  },
  {
   "cell_type": "code",
   "execution_count": 32,
   "metadata": {},
   "outputs": [
    {
     "data": {
      "text/plain": [
       "array([1, 3, 6], dtype=int32)"
      ]
     },
     "execution_count": 32,
     "metadata": {},
     "output_type": "execute_result"
    }
   ],
   "source": [
    "# How to find common values between two arrays?\n",
    "\n",
    "arr1 = np.random.randint(0, 10, 10)\n",
    "arr2 = np.random.randint(0, 10, 6)\n",
    "\n",
    "intersection = np.intersect1d(arr1, arr2)\n",
    "\n",
    "intersection"
   ]
  },
  {
   "cell_type": "code",
   "execution_count": null,
   "metadata": {},
   "outputs": [
    {
     "name": "stdout",
     "output_type": "stream",
     "text": [
      "Yesterday: 2025-03-10\n",
      "Today: 2025-03-11\n",
      "Tomorrow: 2025-03-12\n"
     ]
    }
   ],
   "source": [
    "# How to get the dates of yesterday, today and tomorrow?\n",
    "\n",
    "yesterday = np.datetime64('today', 'D') - np.timedelta64(1, 'D')\n",
    "today = np.datetime64('today', 'D')\n",
    "tomorrow = np.datetime64('today', 'D') + np.timedelta64(1, 'D')\n",
    "\n",
    "print(f\"Yesterday: {yesterday}\\nToday: {today}\\nTomorrow: {tomorrow}\")"
   ]
  },
  {
   "cell_type": "code",
   "execution_count": 35,
   "metadata": {},
   "outputs": [
    {
     "data": {
      "text/plain": [
       "array(['2016-07-01', '2016-07-02', '2016-07-03', '2016-07-04',\n",
       "       '2016-07-05', '2016-07-06', '2016-07-07', '2016-07-08',\n",
       "       '2016-07-09', '2016-07-10', '2016-07-11', '2016-07-12',\n",
       "       '2016-07-13', '2016-07-14', '2016-07-15', '2016-07-16',\n",
       "       '2016-07-17', '2016-07-18', '2016-07-19', '2016-07-20',\n",
       "       '2016-07-21', '2016-07-22', '2016-07-23', '2016-07-24',\n",
       "       '2016-07-25', '2016-07-26', '2016-07-27', '2016-07-28',\n",
       "       '2016-07-29', '2016-07-30', '2016-07-31'], dtype='datetime64[D]')"
      ]
     },
     "execution_count": 35,
     "metadata": {},
     "output_type": "execute_result"
    }
   ],
   "source": [
    "# How to get all the dates corresponding to the month of July 2016?\n",
    "\n",
    "date_for_july_2016 = np.arange('2016-07', '2016-08', dtype='datetime64[D]')\n",
    "\n",
    "date_for_july_2016"
   ]
  },
  {
   "cell_type": "code",
   "execution_count": 37,
   "metadata": {},
   "outputs": [
    {
     "data": {
      "text/plain": [
       "array([-1.5, -1.5, -1.5])"
      ]
     },
     "execution_count": 37,
     "metadata": {},
     "output_type": "execute_result"
    }
   ],
   "source": [
    "# How to compute ((A+B)*(-A/2)) in place (without copy)?\n",
    "\n",
    "A = np.ones(3) * 1\n",
    "B = np.ones(3) * 2\n",
    "\n",
    "np.add(A, B, out=B)\n",
    "np.divide(A, 2, out=A)\n",
    "np.negative(A, out=A)\n",
    "np.multiply(A, B, out=A)\n",
    "\n",
    "A\n",
    "\n",
    "# How to compute ((A+B)*(-A/2)) in place (with copy)?\n",
    "\n",
    "# A = np.ones(3) * 1\n",
    "# B = np.ones(3) * 2\n",
    "\n",
    "# C = np.add(A, B)\n",
    "# D = np.divide(A, 2)\n",
    "# E = np.negative(D)\n",
    "# F = np.multiply(C, E)\n",
    "\n",
    "# F"
   ]
  },
  {
   "cell_type": "code",
   "execution_count": 38,
   "metadata": {},
   "outputs": [
    {
     "name": "stdout",
     "output_type": "stream",
     "text": [
      "Original Array: [1.81890698 4.40709199 1.85873103 5.15355984 1.32231999 6.38671545\n",
      " 6.94174264 4.97819423 2.26979973 8.30223047]\n",
      "Method 1: [1. 4. 1. 5. 1. 6. 6. 4. 2. 8.]\n",
      "Method 2: [1. 4. 1. 5. 1. 6. 6. 4. 2. 8.]\n",
      "Method 3: [1. 4. 1. 5. 1. 6. 6. 4. 2. 8.]\n",
      "Method 4: [1 4 1 5 1 6 6 4 2 8]\n"
     ]
    }
   ],
   "source": [
    "# Extract the integer part of a random array of positive numbers using 4 different methods\n",
    "\n",
    "arr = np.random.uniform(0, 10, 10)\n",
    "\n",
    "# method 1\n",
    "arr1 = arr - arr % 1\n",
    "\n",
    "# method 2\n",
    "arr2 = np.floor(arr)\n",
    "\n",
    "# method 3\n",
    "arr3 = np.ceil(arr) - 1\n",
    "\n",
    "# method 4\n",
    "arr4 = arr.astype(int)\n",
    "\n",
    "print(f\"Original Array: {arr}\\nMethod 1: {arr1}\\nMethod 2: {arr2}\\nMethod 3: {arr3}\\nMethod 4: {arr4}\")\n"
   ]
  },
  {
   "cell_type": "code",
   "execution_count": 46,
   "metadata": {},
   "outputs": [
    {
     "data": {
      "text/plain": [
       "array([[0., 1., 2., 3., 4.],\n",
       "       [0., 1., 2., 3., 4.],\n",
       "       [0., 1., 2., 3., 4.],\n",
       "       [0., 1., 2., 3., 4.],\n",
       "       [0., 1., 2., 3., 4.]])"
      ]
     },
     "execution_count": 46,
     "metadata": {},
     "output_type": "execute_result"
    }
   ],
   "source": [
    "# Create a 5x5 matrix with row values ranging from 0 to 4\n",
    "\n",
    "arr = np.zeros((5, 5))\n",
    "arr += np.arange(5)\n",
    "\n",
    "arr"
   ]
  },
  {
   "cell_type": "code",
   "execution_count": 51,
   "metadata": {},
   "outputs": [
    {
     "data": {
      "text/plain": [
       "array([0., 1., 2., 3., 4., 5., 6., 7., 8., 9.])"
      ]
     },
     "execution_count": 51,
     "metadata": {},
     "output_type": "execute_result"
    }
   ],
   "source": [
    "# Consider a generator function that generates 10 integers and use it to build an array\n",
    "\n",
    "def generate():\n",
    "    for x in range(10):\n",
    "        yield x\n",
    "\n",
    "arr = np.fromiter(generate(), dtype=float, count=-1)\n",
    "\n",
    "arr"
   ]
  },
  {
   "cell_type": "code",
   "execution_count": null,
   "metadata": {},
   "outputs": [
    {
     "data": {
      "text/plain": [
       "array([0.09090909, 0.18181818, 0.27272727, 0.36363636, 0.45454545,\n",
       "       0.54545455, 0.63636364, 0.72727273, 0.81818182, 0.90909091])"
      ]
     },
     "execution_count": 60,
     "metadata": {},
     "output_type": "execute_result"
    }
   ],
   "source": [
    "# Create a vector of size 10 with values ranging from 0 to 1, both excluded\n",
    "\n",
    "arr = np.linspace(0, 1, 12)[1:-1]\n",
    "\n",
    "arr"
   ]
  },
  {
   "cell_type": "code",
   "execution_count": 61,
   "metadata": {},
   "outputs": [
    {
     "data": {
      "text/plain": [
       "array([0.05101792, 0.20958459, 0.4210927 , 0.43396656, 0.60181216,\n",
       "       0.71416569, 0.84585519, 0.88014779, 0.91899306, 0.98263144])"
      ]
     },
     "execution_count": 61,
     "metadata": {},
     "output_type": "execute_result"
    }
   ],
   "source": [
    "# Create a random vector of size 10 and sort it\n",
    "\n",
    "random_arr = np.random.random(10)\n",
    "\n",
    "sort_array = np.sort(random_arr)\n",
    "\n",
    "sort_array"
   ]
  },
  {
   "cell_type": "code",
   "execution_count": null,
   "metadata": {},
   "outputs": [
    {
     "name": "stdout",
     "output_type": "stream",
     "text": [
      "7.96 ns ± 0.0203 ns per loop (mean ± std. dev. of 7 runs, 100,000,000 loops each)\n"
     ]
    }
   ],
   "source": [
    "# How to sum a small array faster than np.sum?\n",
    "\n",
    "arr = np.arange(10)\n",
    "\n",
    "# method 1\n",
    "sum_array = np.add.reduce(arr) # faster than np.sum\n",
    "\n",
    "%timeit sum_array"
   ]
  },
  {
   "cell_type": "code",
   "execution_count": null,
   "metadata": {},
   "outputs": [
    {
     "data": {
      "text/plain": [
       "False"
      ]
     },
     "execution_count": 69,
     "metadata": {},
     "output_type": "execute_result"
    }
   ],
   "source": [
    "# Consider two random array A and B, check if they are equal\n",
    "# is and == are not recommended as they do element-wise comparison\n",
    "# using == will return a boolean array, if you want to check if all elements are equal\n",
    "# .all() is the way to go if you want to check if any of the elements are equal (return just one boolean)\n",
    "# use np.allclose or np.array_equal\n",
    "\n",
    "A = np.random.randint(0, 2, 5)\n",
    "B = np.random.randint(0, 2, 5)\n",
    "\n",
    "# method 1\n",
    "check_equality = np.array_equal(A, B)\n",
    "\n",
    "# method 2\n",
    "# check_equality = np.allclose(A, B)\n",
    "\n",
    "check_equality"
   ]
  },
  {
   "cell_type": "code",
   "execution_count": 70,
   "metadata": {},
   "outputs": [],
   "source": [
    "# Make an array immutable (read-only)\n",
    "\n",
    "arr = np.zeros(10)\n",
    "arr.flags.writeable = False"
   ]
  },
  {
   "cell_type": "code",
   "execution_count": 71,
   "metadata": {},
   "outputs": [
    {
     "name": "stdout",
     "output_type": "stream",
     "text": [
      "Cartesian Coordinates:\n",
      "[[0.31691195 0.87528061]\n",
      " [0.64045991 0.23732503]\n",
      " [0.07017913 0.5418463 ]\n",
      " [0.12652228 0.84190726]\n",
      " [0.54678682 0.86314501]\n",
      " [0.2243881  0.73806516]\n",
      " [0.80503179 0.99331663]\n",
      " [0.32116253 0.77851028]\n",
      " [0.17506066 0.79844445]\n",
      " [0.87424294 0.08660431]]\n",
      "\n",
      "Polar Coordinates:\n",
      "[[0.93088631 1.22341036]\n",
      " [0.68301689 0.35486719]\n",
      " [0.54637214 1.44199483]\n",
      " [0.8513611  1.42163203]\n",
      " [1.0217608  1.00612084]\n",
      " [0.7714209  1.27565366]\n",
      " [1.27857503 0.88971685]\n",
      " [0.84215416 1.17953107]\n",
      " [0.81741041 1.35495946]\n",
      " [0.87852207 0.09873992]]\n"
     ]
    }
   ],
   "source": [
    "# Consider a random 10x2 matrix representing cartesian coordinates, convert them to polar coordinates\n",
    "\n",
    "arr = np.random.random((10, 2))\n",
    "\n",
    "X, Y = arr[:, 0], arr[:, 1]\n",
    "R = np.sqrt(X**2 + Y**2)\n",
    "T = np.arctan2(Y, X)\n",
    "\n",
    "print(f\"Cartesian Coordinates:\\n{arr}\\n\\nPolar Coordinates:\\n{np.column_stack((R, T))}\")"
   ]
  },
  {
   "cell_type": "code",
   "execution_count": 74,
   "metadata": {},
   "outputs": [
    {
     "data": {
      "text/plain": [
       "array([0.34073112, 0.09048205, 0.08243322, 0.        , 0.65584334,\n",
       "       0.17002811, 0.66754041, 0.37495919, 0.71071619, 0.13190236])"
      ]
     },
     "execution_count": 74,
     "metadata": {},
     "output_type": "execute_result"
    }
   ],
   "source": [
    "# Create random vector of size 10 and replace the maximum value by 0\n",
    "\n",
    "arr = np.random.random(10)\n",
    "\n",
    "arr[arr.argmax()] = 0\n",
    "\n",
    "arr"
   ]
  },
  {
   "cell_type": "code",
   "execution_count": 80,
   "metadata": {},
   "outputs": [
    {
     "data": {
      "text/plain": [
       "array([[(0.  , 0.  ), (0.25, 0.  ), (0.5 , 0.  ), (0.75, 0.  ),\n",
       "        (1.  , 0.  )],\n",
       "       [(0.  , 0.25), (0.25, 0.25), (0.5 , 0.25), (0.75, 0.25),\n",
       "        (1.  , 0.25)],\n",
       "       [(0.  , 0.5 ), (0.25, 0.5 ), (0.5 , 0.5 ), (0.75, 0.5 ),\n",
       "        (1.  , 0.5 )],\n",
       "       [(0.  , 0.75), (0.25, 0.75), (0.5 , 0.75), (0.75, 0.75),\n",
       "        (1.  , 0.75)],\n",
       "       [(0.  , 1.  ), (0.25, 1.  ), (0.5 , 1.  ), (0.75, 1.  ),\n",
       "        (1.  , 1.  )]], dtype=[('x', '<f8'), ('y', '<f8')])"
      ]
     },
     "execution_count": 80,
     "metadata": {},
     "output_type": "execute_result"
    }
   ],
   "source": [
    "#  Create a structured array with `x` and `y` coordinates covering the [0,1]x[0,1] area\n",
    "\n",
    "arr = np.zeros((5, 5), [('x', float), ('y', float)])\n",
    "arr['x'], arr['y'] = np.meshgrid(np.linspace(0, 1, 5), np.linspace(0, 1, 5))\n",
    "\n",
    "arr"
   ]
  },
  {
   "cell_type": "code",
   "execution_count": null,
   "metadata": {},
   "outputs": [
    {
     "data": {
      "text/plain": [
       "array([[-2.        , -0.66666667, -0.4       , -0.28571429, -0.22222222,\n",
       "        -0.18181818, -0.15384615, -0.13333333],\n",
       "       [ 2.        , -2.        , -0.66666667, -0.4       , -0.28571429,\n",
       "        -0.22222222, -0.18181818, -0.15384615],\n",
       "       [ 0.66666667,  2.        , -2.        , -0.66666667, -0.4       ,\n",
       "        -0.28571429, -0.22222222, -0.18181818],\n",
       "       [ 0.4       ,  0.66666667,  2.        , -2.        , -0.66666667,\n",
       "        -0.4       , -0.28571429, -0.22222222],\n",
       "       [ 0.28571429,  0.4       ,  0.66666667,  2.        , -2.        ,\n",
       "        -0.66666667, -0.4       , -0.28571429],\n",
       "       [ 0.22222222,  0.28571429,  0.4       ,  0.66666667,  2.        ,\n",
       "        -2.        , -0.66666667, -0.4       ],\n",
       "       [ 0.18181818,  0.22222222,  0.28571429,  0.4       ,  0.66666667,\n",
       "         2.        , -2.        , -0.66666667],\n",
       "       [ 0.15384615,  0.18181818,  0.22222222,  0.28571429,  0.4       ,\n",
       "         0.66666667,  2.        , -2.        ]])"
      ]
     },
     "execution_count": 81,
     "metadata": {},
     "output_type": "execute_result"
    }
   ],
   "source": [
    "# Given two arrays, X and Y, construct the Cauchy matrix C (Cij =1/(xi - yj))\n",
    "\n",
    "X = np.arange(8)\n",
    "Y = X + 0.5\n",
    "C = 1.0 / np.subtract.outer(X, Y) # subtract.outer will give the outer product of two arrays, and X,Y don't have to be the same shape\n",
    "\n",
    "C"
   ]
  },
  {
   "cell_type": "code",
   "execution_count": 83,
   "metadata": {},
   "outputs": [
    {
     "name": "stdout",
     "output_type": "stream",
     "text": [
      "Minimum value of <class 'numpy.int8'> : -128\n",
      "Minimum value of <class 'numpy.int32'> : -2147483648\n",
      "Minimum value of <class 'numpy.int64'> : -9223372036854775808\n",
      "Minimum value of <class 'numpy.float32'> : -3.4028234663852886e+38\n",
      "Minimum value of <class 'numpy.float64'> : -1.7976931348623157e+308\n",
      "Maximum value of <class 'numpy.int8'> : 127\n",
      "Maximum value of <class 'numpy.int32'> : 2147483647\n",
      "Maximum value of <class 'numpy.int64'> : 9223372036854775807\n",
      "Maximum value of <class 'numpy.float32'> : 3.4028234663852886e+38\n",
      "Maximum value of <class 'numpy.float64'> : 1.7976931348623157e+308\n"
     ]
    }
   ],
   "source": [
    "# Print the minimum and maximum representable value for each numpy scalar type\n",
    "\n",
    "for dtype in [np.int8, np.int32, np.int64]:\n",
    "    print(f\"Minimum value of {dtype} : {np.iinfo(dtype).min}\")\n",
    "\n",
    "for dtype in [np.float32, np.float64]:\n",
    "    print(f\"Minimum value of {dtype} : {np.finfo(dtype).min}\")\n",
    "\n",
    "for dtype in [np.int8, np.int32, np.int64]:\n",
    "    print(f\"Maximum value of {dtype} : {np.iinfo(dtype).max}\")\n",
    "\n",
    "for dtype in [np.float32, np.float64]:\n",
    "    print(f\"Maximum value of {dtype} : {np.finfo(dtype).max}\")"
   ]
  },
  {
   "cell_type": "code",
   "execution_count": null,
   "metadata": {},
   "outputs": [
    {
     "name": "stdout",
     "output_type": "stream",
     "text": [
      "[ 0  1  2  3  4  5  6  7  8  9 10 11 12 13 14 15 16 17 18 19 20 21 22 23\n",
      " 24 25 26 27 28 29 30 31 32 33 34 35 36 37 38 39 40 41 42 43 44 45 46 47\n",
      " 48 49 50 51 52 53 54 55 56 57 58 59 60 61 62 63 64 65 66 67 68 69 70 71\n",
      " 72 73 74 75 76 77 78 79 80 81 82 83 84 85 86 87 88 89 90 91 92 93 94 95\n",
      " 96 97 98 99]\n"
     ]
    }
   ],
   "source": [
    "# How to print all the values of an array?\n",
    "\n",
    "arr = np.arange(100)  # Array with values from 0 to 99\n",
    "\n",
    "# Set NumPy to print all elements\n",
    "np.set_printoptions(threshold=np.inf)\n",
    "\n",
    "# Print all values\n",
    "print(arr)"
   ]
  },
  {
   "cell_type": "code",
   "execution_count": null,
   "metadata": {},
   "outputs": [
    {
     "data": {
      "text/plain": [
       "np.int64(9)"
      ]
     },
     "execution_count": 94,
     "metadata": {},
     "output_type": "execute_result"
    }
   ],
   "source": [
    "# How to find the closest value (to a given scalar) in a vector?\n",
    "\n",
    "arr = np.arange(100)\n",
    "\n",
    "# method 1\n",
    "scalar = np.random.uniform(0, 100) # random scalar\n",
    "closest_value = arr[(np.abs(arr - scalar)).argmin()]\n",
    "\n",
    "# method 2\n",
    "# closest_value = arr.flat[np.abs(arr - scalar).argmin()]\n",
    "closest_value"
   ]
  }
 ],
 "metadata": {
  "kernelspec": {
   "display_name": "Python 3",
   "language": "python",
   "name": "python3"
  },
  "language_info": {
   "codemirror_mode": {
    "name": "ipython",
    "version": 3
   },
   "file_extension": ".py",
   "mimetype": "text/x-python",
   "name": "python",
   "nbconvert_exporter": "python",
   "pygments_lexer": "ipython3",
   "version": "3.12.4"
  }
 },
 "nbformat": 4,
 "nbformat_minor": 2
}
