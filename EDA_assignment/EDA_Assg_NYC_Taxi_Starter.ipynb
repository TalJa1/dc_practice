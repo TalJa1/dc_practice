{
 "cells": [
  {
   "cell_type": "markdown",
   "metadata": {
    "id": "ZQl5n2IOuafL"
   },
   "source": [
    "# **New York City Yellow Taxi Data**"
   ]
  },
  {
   "cell_type": "markdown",
   "metadata": {
    "id": "DGQVIB4mEFrZ"
   },
   "source": [
    "## Objective\n",
    "In this case study you will be learning exploratory data analysis (EDA) with the help of a dataset on yellow taxi rides in New York City. This will enable you to understand why EDA is an important step in the process of data science and machine learning."
   ]
  },
  {
   "cell_type": "markdown",
   "metadata": {
    "id": "YJVMenVllLUL"
   },
   "source": [
    "## **Problem Statement**\n",
    "As an analyst at an upcoming taxi operation in NYC, you are tasked to use the 2023 taxi trip data to uncover insights that could help optimise taxi operations. The goal is to analyse patterns in the data that can inform strategic decisions to improve service efficiency, maximise revenue, and enhance passenger experience."
   ]
  },
  {
   "cell_type": "markdown",
   "metadata": {
    "id": "-OVfUMlHFkZD"
   },
   "source": [
    "## Tasks\n",
    "You need to perform the following steps for successfully completing this assignment:\n",
    "1. Data Loading\n",
    "2. Data Cleaning\n",
    "3. Exploratory Analysis: Bivariate and Multivariate\n",
    "4. Creating Visualisations to Support the Analysis\n",
    "5. Deriving Insights and Stating Conclusions"
   ]
  },
  {
   "cell_type": "markdown",
   "metadata": {
    "id": "gTxV-3GJUhWm"
   },
   "source": [
    "---"
   ]
  },
  {
   "cell_type": "markdown",
   "metadata": {
    "id": "ofebI8ITG-Li"
   },
   "source": [
    "**NOTE:** The marks given along with headings and sub-headings are cumulative marks for those particular headings/sub-headings.<br>\n",
    "\n",
    "The actual marks for each task are specified within the tasks themselves.\n",
    "\n",
    "For example, marks given with heading *2* or sub-heading *2.1* are the cumulative marks, for your reference only. <br>\n",
    "\n",
    "The marks you will receive for completing tasks are given with the tasks.\n",
    "\n",
    "Suppose the marks for two tasks are: 3 marks for 2.1.1 and 2 marks for 3.2.2, or\n",
    "* 2.1.1 [3 marks]\n",
    "* 3.2.2 [2 marks]\n",
    "\n",
    "then, you will earn 3 marks for completing task 2.1.1 and 2 marks for completing task 3.2.2.\n"
   ]
  },
  {
   "cell_type": "markdown",
   "metadata": {
    "id": "YdQjht7dUiHt"
   },
   "source": [
    "---"
   ]
  },
  {
   "cell_type": "markdown",
   "metadata": {
    "id": "0eaCZjHIvfuI"
   },
   "source": [
    "## Data Understanding\n",
    "The yellow taxi trip records include fields capturing pick-up and drop-off dates/times, pick-up and drop-off locations, trip distances, itemized fares, rate types, payment types, and driver-reported passenger counts.\n",
    "\n",
    "The data is stored in Parquet format (*.parquet*). The dataset is from 2009 to 2024. However, for this assignment, we will only be using the data from 2023.\n",
    "\n",
    "The data for each month is present in a different parquet file. You will get twelve files for each of the months in 2023.\n",
    "\n",
    "The data was collected and provided to the NYC Taxi and Limousine Commission (TLC) by technology providers like vendors and taxi hailing apps. <br>\n",
    "\n",
    "You can find the link to the TLC trip records page here: https://www.nyc.gov/site/tlc/about/tlc-trip-record-data.page"
   ]
  },
  {
   "cell_type": "markdown",
   "metadata": {
    "id": "LI6qC5IDxZU1"
   },
   "source": [
    "###  Data Description\n",
    "You can find the data description here: [Data Dictionary](https://www.nyc.gov/assets/tlc/downloads/pdf/data_dictionary_trip_records_yellow.pdf)"
   ]
  },
  {
   "cell_type": "markdown",
   "metadata": {
    "id": "FafCzrDuxHg2"
   },
   "source": [
    "**Trip Records**\n",
    "\n",
    "\n",
    "\n",
    "|Field Name       |description |\n",
    "|:----------------|:-----------|\n",
    "| VendorID | A code indicating the TPEP provider that provided the record. <br> 1= Creative Mobile Technologies, LLC; <br> 2= VeriFone Inc. |\n",
    "| tpep_pickup_datetime | The date and time when the meter was engaged.  |\n",
    "| tpep_dropoff_datetime | The date and time when the meter was disengaged.   |\n",
    "| Passenger_count | The number of passengers in the vehicle. <br> This is a driver-entered value. |\n",
    "| Trip_distance | The elapsed trip distance in miles reported by the taximeter. |\n",
    "| PULocationID | TLC Taxi Zone in which the taximeter was engaged |\n",
    "| DOLocationID | TLC Taxi Zone in which the taximeter was disengaged |\n",
    "|RateCodeID |The final rate code in effect at the end of the trip.<br> 1 = Standard rate <br> 2 = JFK <br> 3 = Newark <br>4 = Nassau or Westchester <br>5 = Negotiated fare <br>6 = Group ride |\n",
    "|Store_and_fwd_flag |This flag indicates whether the trip record was held in vehicle memory before sending to the vendor, aka “store and forward,” because the vehicle did not have a connection to the server.  <br>Y= store and forward trip <br>N= not a store and forward trip |\n",
    "|Payment_type| A numeric code signifying how the passenger paid for the trip. <br> 1 = Credit card <br>2 = Cash <br>3 = No charge <br>4 = Dispute <br>5 = Unknown <br>6 = Voided trip |\n",
    "|Fare_amount| The time-and-distance fare calculated by the meter. <br>Extra Miscellaneous extras and surcharges.  Currently, this only includes the 0.50 and 1 USD rush hour and overnight charges. |\n",
    "|MTA_tax |0.50 USD MTA tax that is automatically triggered based on the metered rate in use. |\n",
    "|Improvement_surcharge | 0.30 USD improvement surcharge assessed trips at the flag drop. The improvement surcharge began being levied in 2015. |\n",
    "|Tip_amount |Tip amount – This field is automatically populated for credit card tips. Cash tips are not included. |\n",
    "| Tolls_amount | Total amount of all tolls paid in trip.  |\n",
    "| total_amount | The total amount charged to passengers. Does not include cash tips. |\n",
    "|Congestion_Surcharge |Total amount collected in trip for NYS congestion surcharge. |\n",
    "| Airport_fee | 1.25 USD for pick up only at LaGuardia and John F. Kennedy Airports|\n",
    "\n",
    "Although the amounts of extra charges and taxes applied are specified in the data dictionary, you will see that some cases have different values of these charges in the actual data."
   ]
  },
  {
   "cell_type": "markdown",
   "metadata": {
    "id": "mL-FWYFnVEdE"
   },
   "source": [
    "**Taxi Zones**\n",
    "\n",
    "Each of the trip records contains a field corresponding to the location of the pickup or drop-off of the trip, populated by numbers ranging from 1-263.\n",
    "\n",
    "These numbers correspond to taxi zones, which may be downloaded as a table or map/shapefile and matched to the trip records using a join.\n",
    "\n",
    "This is covered in more detail in later sections."
   ]
  },
  {
   "cell_type": "markdown",
   "metadata": {
    "id": "z66W3s51U0gF"
   },
   "source": [
    "---"
   ]
  },
  {
   "cell_type": "markdown",
   "metadata": {
    "id": "Kw-WRzBfyS7j"
   },
   "source": [
    "## **1** Data Preparation\n",
    "\n",
    "<font color = red>[5 marks]</font> <br>"
   ]
  },
  {
   "cell_type": "markdown",
   "metadata": {
    "id": "nM2X-s6lycvQ"
   },
   "source": [
    "### Import Libraries"
   ]
  },
  {
   "cell_type": "code",
   "execution_count": null,
   "metadata": {
    "id": "juReqsAzEdW3"
   },
   "outputs": [],
   "source": [
    "# Import warnings\n",
    "import warnings"
   ]
  },
  {
   "cell_type": "code",
   "execution_count": null,
   "metadata": {
    "id": "3XZjOlJiy1dr"
   },
   "outputs": [],
   "source": [
    "# Import the libraries you will be using for analysis\n",
    "import numpy as np  # type: ignore\n",
    "import pandas as pd  # type: ignore\n",
    "import matplotlib.pyplot as plt  # type: ignore\n",
    "import seaborn as sns  # type: ignore"
   ]
  },
  {
   "cell_type": "code",
   "execution_count": null,
   "metadata": {
    "id": "NsH5LNrSgW9q"
   },
   "outputs": [],
   "source": [
    "# Recommended versions\n",
    "# numpy version: 1.26.4\n",
    "# pandas version: 2.2.2\n",
    "# matplotlib version: 3.10.0\n",
    "# seaborn version: 0.13.2\n",
    "\n",
    "# Check versions\n",
    "print(\"numpy version:\", np.__version__)\n",
    "print(\"pandas version:\", pd.__version__)\n",
    "print(\"matplotlib version:\", plt.matplotlib.__version__)\n",
    "print(\"seaborn version:\", sns.__version__)"
   ]
  },
  {
   "cell_type": "markdown",
   "metadata": {
    "id": "NgHgbPIepaYl"
   },
   "source": [
    "### **1.1** Load the dataset\n",
    "<font color = red>[5 marks]</font> <br>"
   ]
  },
  {
   "cell_type": "markdown",
   "metadata": {
    "id": "KrGluF_gpeHs"
   },
   "source": [
    "You will see twelve files, one for each month.\n",
    "\n",
    "To read parquet files with Pandas, you have to follow a similar syntax as that for CSV files.\n",
    "\n",
    "`df = pd.read_parquet('file.parquet')`"
   ]
  },
  {
   "cell_type": "code",
   "execution_count": null,
   "metadata": {
    "id": "kIpIsuSSzCp9"
   },
   "outputs": [],
   "source": [
    "# Try loading one file\n",
    "df1 = pd.read_parquet(\n",
    "    r\"C:\\ZTalJaZ\\Storage\\MasterOfDataScience\\Python\\Code\\Practice\\EDA_assignment\\Datasets and Dictionary\\trip_records\\2023-1.parquet\"\n",
    ")\n",
    "df1.info()"
   ]
  },
  {
   "cell_type": "markdown",
   "metadata": {
    "id": "eh-keWIyqcyr"
   },
   "source": [
    "How many rows are there? Do you think handling such a large number of rows is computationally feasible when we have to combine the data for all twelve months into one?\n",
    "\n",
    "To handle this, we need to sample a fraction of data from each of the files. How to go about that? Think of a way to select only some portion of the data from each month's file that accurately represents the trends."
   ]
  },
  {
   "cell_type": "markdown",
   "metadata": {
    "id": "zHx7lh_3QGmj"
   },
   "source": [
    "#### Sampling the Data\n",
    "> One way is to take a small percentage of entries for pickup in every hour of a date. So, for all the days in a month, we can iterate through the hours and select 5% values randomly from those. Use `tpep_pickup_datetime` for this. Separate date and hour from the datetime values and then for each date, select some fraction of trips for each of the 24 hours.\n",
    "\n",
    "To sample data, you can use the `sample()` method. Follow this syntax:\n",
    "\n",
    "```Python\n",
    "# sampled_data is an empty DF to keep appending sampled data of each hour\n",
    "# hour_data is the DF of entries for an hour 'X' on a date 'Y'\n",
    "\n",
    "sample = hour_data.sample(frac = 0.05, random_state = 42)\n",
    "# sample 0.05 of the hour_data\n",
    "# random_state is just a seed for sampling, you can define it yourself\n",
    "\n",
    "sampled_data = pd.concat([sampled_data, sample]) # adding data for this hour to the DF\n",
    "```\n",
    "\n",
    "This *sampled_data* will contain 5% values selected at random from each hour.\n",
    "\n",
    "Note that the code given above is only the part that will be used for sampling and not the complete code required for sampling and combining the data files.\n",
    "\n",
    "Keep in mind that you sample by date AND hour, not just hour. (Why?)"
   ]
  },
  {
   "cell_type": "markdown",
   "metadata": {
    "id": "3zog80nsqvKp"
   },
   "source": [
    "---"
   ]
  },
  {
   "cell_type": "markdown",
   "metadata": {
    "id": "Fp24-wpQrlC5"
   },
   "source": [
    "**1.1.1** <font color = red>[5 marks]</font> <br>\n",
    "Figure out how to sample and combine the files."
   ]
  },
  {
   "cell_type": "markdown",
   "metadata": {
    "id": "vRGOnciGOvq0"
   },
   "source": [
    "**Note:** It is not mandatory to use the method specified above. While sampling, you only need to make sure that your sampled data represents the overall data of all the months accurately."
   ]
  },
  {
   "cell_type": "code",
   "execution_count": null,
   "metadata": {
    "id": "3cpuzPFvP2iC"
   },
   "outputs": [],
   "source": [
    "# Sample the data\n",
    "# It is recommmended to not load all the files at once to avoid memory overload"
   ]
  },
  {
   "cell_type": "code",
   "execution_count": null,
   "metadata": {
    "id": "h3x5bCWmarTO"
   },
   "outputs": [],
   "source": [
    "# from google.colab import drive\n",
    "# drive.mount('/content/drive')"
   ]
  },
  {
   "cell_type": "code",
   "execution_count": null,
   "metadata": {
    "id": "t1EXP0PHzPs0"
   },
   "outputs": [],
   "source": [
    "# Take a small percentage of entries from each hour of every date.\n",
    "# Iterating through the monthly data:\n",
    "#   read a month file -> day -> hour: append sampled data -> move to next hour -> move to next day after 24 hours -> move to next month file\n",
    "# Create a single dataframe for the year combining all the monthly data\n",
    "\n",
    "# Select the folder having data files\n",
    "import os\n",
    "data_directory = r'C:\\ZTalJaZ\\Storage\\MasterOfDataScience\\Python\\Code\\Practice\\EDA_assignment\\Datasets and Dictionary\\trip_records'\n",
    "\n",
    "sampling_fraction = 0.05\n",
    "random_seed = 42\n",
    "\n",
    "if not os.path.isdir(data_directory):\n",
    "    print(f\"Error: Data directory not found: {os.path.abspath(data_directory)}\")\n",
    "    exit()\n",
    "else:\n",
    "    print(f\"Using data directory: {os.path.abspath(data_directory)}\")\n",
    "\n",
    "try:\n",
    "    all_files = os.listdir(data_directory)\n",
    "    file_list = [f for f in all_files if f.endswith('.parquet') and f.startswith('2023-')]\n",
    "    file_list.sort()\n",
    "\n",
    "    if not file_list:\n",
    "        print(f\"Error: No Parquet files starting with '2023-' found in {data_directory}.\")\n",
    "        exit()\n",
    "\n",
    "except Exception as e:\n",
    "    print(f\"Error listing files in directory {data_directory}: {e}\")\n",
    "    exit()\n",
    "\n",
    "final_sampled_df = pd.DataFrame()\n",
    "\n",
    "# Iterate through the list of files\n",
    "for file_name in file_list:\n",
    "    try:\n",
    "        file_path = os.path.join(data_directory, file_name)\n",
    "\n",
    "        df_month = pd.read_parquet(file_path)\n",
    "\n",
    "        pickup_datetime_col = 'tpep_pickup_datetime'\n",
    "        if pickup_datetime_col not in df_month.columns:\n",
    "            print(f\"  Warning: '{pickup_datetime_col}' column not found in {file_name}. Skipping file.\")\n",
    "            continue # Skip to the next file\n",
    "\n",
    "        df_month[pickup_datetime_col] = pd.to_datetime(df_month[pickup_datetime_col], errors='coerce')\n",
    "\n",
    "        original_count = len(df_month)\n",
    "        df_month.dropna(subset=[pickup_datetime_col], inplace=True)\n",
    "        dropped_count = original_count - len(df_month)\n",
    "        if dropped_count > 0:\n",
    "            print(f\"  Dropped {dropped_count:,} rows with invalid datetime values.\")\n",
    "\n",
    "        if df_month.empty:\n",
    "            print(\"  DataFrame is empty after datetime conversion/dropping NaTs. Skipping file.\")\n",
    "            continue\n",
    "\n",
    "        monthly_samples_list = []\n",
    "\n",
    "        # Get unique dates present in this month's data\n",
    "        unique_dates = df_month[pickup_datetime_col].dt.date.unique()\n",
    "        print(f\"  Processing {len(unique_dates)} unique dates in this file...\")\n",
    "\n",
    "        # Loop through each unique date\n",
    "        for single_date in unique_dates:\n",
    "            df_date = df_month[df_month[pickup_datetime_col].dt.date == single_date]\n",
    "\n",
    "            # Iterate through each hour (0 to 23)\n",
    "            for hour in range(24):\n",
    "                # Filter data for the current hour\n",
    "                df_hour = df_date[df_date[pickup_datetime_col].dt.hour == hour]\n",
    "\n",
    "                if not df_hour.empty:\n",
    "                    sampled_hour_data = df_hour.sample(frac=sampling_fraction,\n",
    "                                                       replace=False,\n",
    "                                                       random_state=random_seed)\n",
    "\n",
    "                    if not sampled_hour_data.empty:\n",
    "                        monthly_samples_list.append(sampled_hour_data)\n",
    "\n",
    "        if monthly_samples_list:\n",
    "            sampled_month_df = pd.concat(monthly_samples_list, ignore_index=True)\n",
    "            final_sampled_df = pd.concat([final_sampled_df, sampled_month_df], ignore_index=True)\n",
    "            print(f\"  Sampled {len(sampled_month_df):,} records for this month.\")\n",
    "        else:\n",
    "            print(\"  No data sampled for this month (potentially empty hours or file).\")\n",
    "\n",
    "    except FileNotFoundError:\n",
    "        print(f\"Error: File not found {file_path}. Skipping.\")\n",
    "    except Exception as e:\n",
    "        print(f\"Error processing file {file_name}: {e}\")"
   ]
  },
  {
   "cell_type": "markdown",
   "metadata": {
    "id": "Sej6pZkzw2AK"
   },
   "source": [
    "After combining the data files into one DataFrame, convert the new DataFrame to a CSV or parquet file and store it to use directly.\n",
    "\n",
    "Ideally, you can try keeping the total entries to around 250,000 to 300,000."
   ]
  },
  {
   "cell_type": "code",
   "execution_count": null,
   "metadata": {
    "id": "okaVAsdPxJow"
   },
   "outputs": [],
   "source": [
    "# Store the df in csv/parquet\n",
    "final_sampled_df.to_parquet(r'C:\\ZTalJaZ\\Storage\\MasterOfDataScience\\Python\\Code\\Practice\\EDA_assignment\\Datasets and Dictionary\\store.parquet', index=False)"
   ]
  },
  {
   "cell_type": "markdown",
   "metadata": {
    "id": "QaOS3H9izZ0N"
   },
   "source": [
    "## **2** Data Cleaning\n",
    "<font color = red>[30 marks]</font> <br>"
   ]
  },
  {
   "cell_type": "markdown",
   "metadata": {
    "id": "5y3PKWqhxRA9"
   },
   "source": [
    "Now we can load the new data directly."
   ]
  },
  {
   "cell_type": "code",
   "execution_count": null,
   "metadata": {
    "id": "FOuOL0SDxQHd"
   },
   "outputs": [],
   "source": [
    "# Load the new data file\n",
    "df = pd.read_parquet(\n",
    "    r\"C:\\ZTalJaZ\\Storage\\MasterOfDataScience\\Python\\Code\\Practice\\EDA_assignment\\Datasets and Dictionary\\store.parquet\",\n",
    ")"
   ]
  },
  {
   "cell_type": "code",
   "execution_count": null,
   "metadata": {
    "id": "fbzmFKyn1780"
   },
   "outputs": [],
   "source": [
    "df.head(3)"
   ]
  },
  {
   "cell_type": "code",
   "execution_count": null,
   "metadata": {
    "id": "FH83U4A49ErC"
   },
   "outputs": [],
   "source": [
    "df.info()"
   ]
  },
  {
   "cell_type": "markdown",
   "metadata": {
    "id": "HZvPSwJx0S3K"
   },
   "source": [
    "#### **2.1** Fixing Columns\n",
    "<font color = red>[10 marks]</font> <br>\n",
    "\n",
    "Fix/drop any columns as you seem necessary in the below sections"
   ]
  },
  {
   "cell_type": "markdown",
   "metadata": {
    "id": "358takCd2FiM"
   },
   "source": [
    "**2.1.1** <font color = red>[2 marks]</font> <br>\n",
    "\n",
    "Fix the index and drop unnecessary columns"
   ]
  },
  {
   "cell_type": "code",
   "execution_count": null,
   "metadata": {
    "id": "KHHFyZxa2PEM"
   },
   "outputs": [],
   "source": [
    "# Fix the index and drop any columns that are not needed\n",
    "df.reset_index(drop=True, inplace=True)\n",
    "# Drop the columns that are not needed\n",
    "df.drop(columns=['store_and_fwd_flag'], inplace=True, errors='ignore')\n"
   ]
  },
  {
   "cell_type": "markdown",
   "metadata": {
    "id": "TIFmxvIT2wsn"
   },
   "source": [
    "**2.1.2** <font color = red>[3 marks]</font> <br>\n",
    "There are two airport fee columns. This is possibly an error in naming columns. Let's see whether these can be combined into a single column."
   ]
  },
  {
   "cell_type": "code",
   "execution_count": null,
   "metadata": {
    "id": "rmtgnb1x6TrV"
   },
   "outputs": [],
   "source": [
    "# Combine the two airport fee columns\n",
    "df['airport_fee'] = df['airport_fee'].fillna(0) + df['Airport_fee'].fillna(0)\n",
    "df.drop(columns=['Airport_fee'], inplace=True, errors='ignore')"
   ]
  },
  {
   "cell_type": "markdown",
   "metadata": {
    "id": "1g4AHG7mOYgP"
   },
   "source": [
    "**2.1.3** <font color = red>[5 marks]</font> <br>\n",
    "Fix columns with negative (monetary) values"
   ]
  },
  {
   "cell_type": "code",
   "execution_count": null,
   "metadata": {
    "id": "nBsMT2MII1Hv"
   },
   "outputs": [],
   "source": [
    "# check where values of fare amount are negative\n",
    "display(df[df[\"fare_amount\"] < 0], df[df[\"fare_amount\"] < 0].shape[0])"
   ]
  },
  {
   "cell_type": "markdown",
   "metadata": {
    "id": "JNKpDtTh8awi"
   },
   "source": [
    "Did you notice something different in the `RatecodeID` column for above records?"
   ]
  },
  {
   "cell_type": "code",
   "execution_count": null,
   "metadata": {
    "id": "9eVrrj7c3kjq"
   },
   "outputs": [],
   "source": [
    "# Analyse RatecodeID for the negative fare amounts\n",
    "df[df[\"fare_amount\"] < 0][\"RatecodeID\"].value_counts()"
   ]
  },
  {
   "cell_type": "code",
   "execution_count": null,
   "metadata": {
    "id": "Ruyh2vaCRNxr"
   },
   "outputs": [],
   "source": [
    "# Find which columns have negative values\n",
    "numeric_df = df.select_dtypes(include=np.number)\n",
    "(numeric_df < 0).any()"
   ]
  },
  {
   "cell_type": "code",
   "execution_count": null,
   "metadata": {
    "id": "mPehZ6PJg3_J"
   },
   "outputs": [],
   "source": [
    "# fix these negative values\n",
    "# negative columns are: mta_tax, improvement_surcharge, total_amount, congestion_surcharge, Airport_fee, extra\n",
    "# Set these values to 0, as they are not supposed to be negative\n",
    "df.loc[df[\"mta_tax\"] < 0, \"mta_tax\"] = 0\n",
    "df.loc[df[\"extra\"] < 0, \"extra\"] = 0\n",
    "df.loc[df[\"improvement_surcharge\"] < 0, \"improvement_surcharge\"] = 0\n",
    "df.loc[df[\"total_amount\"] < 0, \"total_amount\"] = 0\n",
    "df.loc[df[\"congestion_surcharge\"] < 0, \"congestion_surcharge\"] = 0\n",
    "df.loc[df[\"airport_fee\"] < 0, \"airport_fee\"] = 0"
   ]
  },
  {
   "cell_type": "markdown",
   "metadata": {
    "id": "x2hakCCy6wXI"
   },
   "source": [
    "### **2.2** Handling Missing Values\n",
    "<font color = red>[10 marks]</font> <br>"
   ]
  },
  {
   "cell_type": "markdown",
   "metadata": {
    "id": "-K-QNPDVVhzR"
   },
   "source": [
    "**2.2.1**  <font color = red>[2 marks]</font> <br>\n",
    "Find the proportion of missing values in each column\n",
    "\n",
    "\n"
   ]
  },
  {
   "cell_type": "code",
   "execution_count": null,
   "metadata": {
    "id": "tfTa9cct6Gec"
   },
   "outputs": [],
   "source": [
    "# Find the proportion of missing values in each column\n",
    "missing_values = df.isnull().mean() * 100\n",
    "\n",
    "missing_values"
   ]
  },
  {
   "cell_type": "markdown",
   "metadata": {
    "id": "-UdUl6AL_-E_"
   },
   "source": [
    "**2.2.2**  <font color = red>[3 marks]</font> <br>\n",
    "Handling missing values in `passenger_count`"
   ]
  },
  {
   "cell_type": "code",
   "execution_count": null,
   "metadata": {
    "id": "JmNmhr4q8Xys"
   },
   "outputs": [],
   "source": [
    "# Display the rows with null values\n",
    "# Impute NaN values in 'passenger_count'\n",
    "# With ~3.4% missing values of passenger_count, we can fill them with the mode of the column\n",
    "mode_value = df['passenger_count'].mode()[0]\n",
    "\n",
    "df['passenger_count'] = df['passenger_count'].fillna(mode_value)"
   ]
  },
  {
   "cell_type": "markdown",
   "metadata": {
    "id": "hIPCyR6UCw0c"
   },
   "source": [
    "Did you find zeroes in passenger_count? Handle these."
   ]
  },
  {
   "cell_type": "markdown",
   "metadata": {
    "id": "IUr4fwkjBUTQ"
   },
   "source": [
    "**2.2.3**  <font color = red>[2 marks]</font> <br>\n",
    "Handle missing values in `RatecodeID`"
   ]
  },
  {
   "cell_type": "code",
   "execution_count": null,
   "metadata": {
    "id": "qEgFxytzBkrB"
   },
   "outputs": [],
   "source": [
    "# Fix missing values in 'RatecodeID'\n",
    "# Impute NaN values in 'RatecodeID' with 0, it doesn't make assumptions and preserves the fact of missingness\n",
    "df['RatecodeID'] = df['RatecodeID'].fillna(0)\n",
    "df['RatecodeID'].isnull().sum()"
   ]
  },
  {
   "cell_type": "markdown",
   "metadata": {
    "id": "0TjHXzuODCUW"
   },
   "source": [
    "**2.2.4**  <font color = red>[3 marks]</font> <br>\n",
    "Impute NaN in `congestion_surcharge`"
   ]
  },
  {
   "cell_type": "code",
   "execution_count": null,
   "metadata": {
    "id": "HqnabUGC3xOA"
   },
   "outputs": [],
   "source": [
    "# handle null values in congestion_surcharge\n",
    "print(\n",
    "    \"Percentage of each value in the column:\",\n",
    "    df[\"congestion_surcharge\"].value_counts(normalize=True) * 100,\n",
    ")\n",
    "# Beacuse ~3.4% is ambiguous and likely not random\n",
    "# Fills with 0.00, which is already a valid and significant value (~7.7%) in your non-missing data, representing trips with no surcharge applicable\n",
    "df[\"congestion_surcharge\"] = df[\"congestion_surcharge\"].fillna(0.00)\n",
    "# Check if there are any null values left in the dataframe\n",
    "df['congestion_surcharge'].isnull().sum()\n"
   ]
  },
  {
   "cell_type": "markdown",
   "metadata": {
    "id": "4FZEdgAgUbPl"
   },
   "source": [
    "Are there missing values in other columns? Did you find NaN values in some other set of columns? Handle those missing values below."
   ]
  },
  {
   "cell_type": "code",
   "execution_count": null,
   "metadata": {
    "id": "iDLpyqCRXa3K"
   },
   "outputs": [],
   "source": [
    "# Handle any remaining missing values\n",
    "# Check for any remaining missing values in the dataframe\n",
    "remaining_missing = df.isnull().sum()\n",
    "print(\"Remaining missing values in each column:\", remaining_missing[remaining_missing > 0])"
   ]
  },
  {
   "cell_type": "markdown",
   "metadata": {
    "id": "2jyQyYIpCztl"
   },
   "source": [
    "### **2.3** Handling Outliers\n",
    "<font color = red>[10 marks]</font> <br>"
   ]
  },
  {
   "cell_type": "markdown",
   "metadata": {
    "id": "ZoVwZzuEMTHB"
   },
   "source": [
    "Before we start fixing outliers, let's perform outlier analysis."
   ]
  },
  {
   "cell_type": "code",
   "execution_count": null,
   "metadata": {
    "id": "zHK5K6uV8XpU"
   },
   "outputs": [],
   "source": [
    "# Describe the data and check if there are any potential outliers present\n",
    "# Check for potential out of place values in various columns\n",
    "df.describe(include='all').T"
   ]
  },
  {
   "cell_type": "markdown",
   "metadata": {
    "id": "4XDuLkufyJ2g"
   },
   "source": [
    "**2.3.1**  <font color = red>[10 marks]</font> <br>\n",
    "Based on the above analysis, it seems that some of the outliers are present due to errors in registering the trips. Fix the outliers.\n",
    "\n",
    "Some points you can look for:\n",
    "- Entries where `trip_distance` is nearly 0 and `fare_amount` is more than 300\n",
    "- Entries where `trip_distance` and `fare_amount` are 0 but the pickup and dropoff zones are different (both distance and fare should not be zero for different zones)\n",
    "- Entries where `trip_distance` is more than 250  miles.\n",
    "- Entries where `payment_type` is 0 (there is no payment_type 0 defined in the data dictionary)\n",
    "\n",
    "These are just some suggestions. You can handle outliers in any way you wish, using the insights from above outlier analysis."
   ]
  },
  {
   "cell_type": "markdown",
   "metadata": {
    "id": "u-YNHI8tea9c"
   },
   "source": [
    "How will you fix each of these values? Which ones will you drop and which ones will you replace?"
   ]
  },
  {
   "cell_type": "markdown",
   "metadata": {
    "id": "Ap4IfwXO4yZe"
   },
   "source": [
    "First, let us remove 7+ passenger counts as there are very less instances."
   ]
  },
  {
   "cell_type": "code",
   "execution_count": null,
   "metadata": {
    "id": "XfsOFY5y9-fA"
   },
   "outputs": [],
   "source": [
    "# remove passenger_count > 6\n",
    "df = df[df['passenger_count'] <= 6]"
   ]
  },
  {
   "cell_type": "code",
   "execution_count": null,
   "metadata": {
    "id": "FCUNe3tu8bie"
   },
   "outputs": [],
   "source": [
    "# Continue with outlier handling\n",
    "# Drop trip_distance = ~0 and fare_amount > 300\n",
    "df = df[(df['trip_distance'] > 0) & (df['fare_amount'] <= 300)]\n",
    "# Drop trip_distance=0, fare_amount=0 AND PULocationID != DOLocationID\n",
    "df = df[~((df['trip_distance'] == 0) & (df['fare_amount'] == 0) & (df['PULocationID'] != df['DOLocationID']))]\n",
    "# Drop payment_type not in 1 to 6\n",
    "df = df[df['payment_type'].isin([1, 2, 3, 4, 5, 6])]\n",
    "# Drop RatecodeID not in 1 to 6\n",
    "df = df[df['RatecodeID'].isin([1, 2, 3, 4, 5, 6])]\n",
    "\n",
    "# Store data of fare_amount that not exceed the Q3 + 1.5*IQR\n",
    "Q1 = df['fare_amount'].quantile(0.25)\n",
    "Q3 = df['fare_amount'].quantile(0.75)\n",
    "IQR = Q3 - Q1\n",
    "lower_bound = Q1 - 1.5 * IQR\n",
    "upper_bound = Q3 + 1.5 * IQR\n",
    "# Remove outliers\n",
    "df = df[(df['fare_amount'] >= lower_bound) & (df['fare_amount'] <= upper_bound)]\n",
    "\n",
    "# Store data of trip_distance that not exceed the Q3 + 1.5*IQR\n",
    "Q1a = df['trip_distance'].quantile(0.25)\n",
    "Q3a = df['trip_distance'].quantile(0.75)\n",
    "IQRa = Q3 - Q1\n",
    "lower_bounda = Q1a - 1.5 * IQRa\n",
    "upper_bounda = Q3a + 1.5 * IQRa\n",
    "# Remove outliers\n",
    "df = df[(df['trip_distance'] >= lower_bounda) & (df['trip_distance'] <= upper_bounda)]\n",
    "\n",
    "# Store data of total_amount that not exceed the Q3 + 1.5*IQR\n",
    "Q1b = df['total_amount'].quantile(0.25)\n",
    "Q3b = df['total_amount'].quantile(0.75)\n",
    "IQRb = Q3b - Q1b\n",
    "lower_boundb = Q1b - 1.5 * IQRb\n",
    "upper_boundb = Q3b + 1.5 * IQRb\n",
    "# Remove outliers\n",
    "df = df[(df['total_amount'] >= lower_boundb) & (df['total_amount'] <= upper_boundb)]"
   ]
  },
  {
   "cell_type": "code",
   "execution_count": null,
   "metadata": {
    "id": "PuzQXfuT8YKV"
   },
   "outputs": [],
   "source": [
    "# Do any columns need standardising?\n",
    "# Correct the column RatecodeID to be an integer\n",
    "df['RatecodeID'] = df['RatecodeID'].astype(int)"
   ]
  },
  {
   "cell_type": "markdown",
   "metadata": {
    "id": "gPpJyFFNffcL"
   },
   "source": [
    "## **3** Exploratory Data Analysis\n",
    "<font color = red>[90 marks]</font> <br>"
   ]
  },
  {
   "cell_type": "code",
   "execution_count": null,
   "metadata": {
    "id": "cl-0PcYTfkqh"
   },
   "outputs": [],
   "source": [
    "df.columns.tolist()"
   ]
  },
  {
   "cell_type": "markdown",
   "metadata": {
    "id": "a4N3PvkSTwcN"
   },
   "source": [
    "#### **3.1** General EDA: Finding Patterns and Trends\n",
    "<font color = red>[40 marks]</font> <br>"
   ]
  },
  {
   "cell_type": "markdown",
   "metadata": {
    "id": "9hwonDfZTJO6"
   },
   "source": [
    "**3.1.1** <font color = red>[3 marks]</font> <br>\n",
    "Categorise the varaibles into Numerical or Categorical.\n",
    "* `VendorID`:\n",
    "* `tpep_pickup_datetime`:\n",
    "* `tpep_dropoff_datetime`:\n",
    "* `passenger_count`:\n",
    "* `trip_distance`:\n",
    "* `RatecodeID`:\n",
    "* `PULocationID`:\n",
    "* `DOLocationID`:\n",
    "* `payment_type`:\n",
    "* `pickup_hour`:\n",
    "* `trip_duration`:\n",
    "\n",
    "\n",
    "The following monetary parameters belong in the same category, is it categorical or numerical?\n",
    "\n",
    "\n",
    "* `fare_amount`\n",
    "* `extra`\n",
    "* `mta_tax`\n",
    "* `tip_amount`\n",
    "* `tolls_amount`\n",
    "* `improvement_surcharge`\n",
    "* `total_amount`\n",
    "* `congestion_surcharge`\n",
    "* `airport_fee`"
   ]
  },
  {
   "cell_type": "markdown",
   "metadata": {
    "id": "MbGMjArkiXjL"
   },
   "source": [
    "##### Temporal Analysis"
   ]
  },
  {
   "cell_type": "markdown",
   "metadata": {
    "id": "ZCCbmQ49s2qj"
   },
   "source": [
    "**3.1.2** <font color = red>[5 marks]</font> <br>\n",
    "Analyse the distribution of taxi pickups by hours, days of the week, and months."
   ]
  },
  {
   "cell_type": "code",
   "execution_count": null,
   "metadata": {
    "id": "RwgWN_MWg0Au"
   },
   "outputs": [],
   "source": [
    "# Find and show the hourly trends in taxi pickups\n",
    "# Convert the pickup datetime to a datetime object\n",
    "df['tpep_pickup_datetime'] = pd.to_datetime(df['tpep_pickup_datetime'])\n",
    "# Extract the hour from the pickup datetime\n",
    "df['pickup_hour'] = df['tpep_pickup_datetime'].dt.hour\n",
    "# Group the data by hour and count the number of pickups\n",
    "hourly_pickups = df.groupby('pickup_hour').size().reset_index(name='pickup_count')\n",
    "# Plot\n",
    "plt.figure(figsize=(12, 6))\n",
    "sns.lineplot(data=hourly_pickups, x='pickup_hour', y='pickup_count', marker='v')\n",
    "plt.title('Hourly Trends In Taxi Pickups')\n",
    "plt.xlabel('Hour of the Day')\n",
    "plt.ylabel('Number of Pickups')\n",
    "plt.xticks(hourly_pickups['pickup_hour'])\n",
    "plt.grid()\n",
    "plt.show()"
   ]
  },
  {
   "cell_type": "code",
   "execution_count": null,
   "metadata": {
    "id": "R64b8zfkG5OK"
   },
   "outputs": [],
   "source": [
    "# Find and show the daily trends in taxi pickups (days of the week)\n",
    "# Extract the day of the week from the pickup datetime\n",
    "df['pickup_day'] = df['tpep_pickup_datetime'].dt.day_name()\n",
    "# Group the data by day of the week and count the number of pickups\n",
    "daily_pickups = df.groupby('pickup_day').size().reset_index(name='pickup_count')\n",
    "# Reorder the days of the week\n",
    "days_order = ['Monday', 'Tuesday', 'Wednesday', 'Thursday', 'Friday', 'Saturday', 'Sunday']\n",
    "daily_pickups['pickup_day'] = pd.Categorical(daily_pickups['pickup_day'], categories=days_order, ordered=True)\n",
    "# Sort the data by day of the week\n",
    "daily_pickups = daily_pickups.sort_values('pickup_day')\n",
    "# Plot\n",
    "plt.figure(figsize=(12, 6))\n",
    "sns.barplot(data=daily_pickups, x='pickup_day', y='pickup_count')\n",
    "plt.title('Daily Trends In Taxi Pickups')\n",
    "plt.xlabel('Day of the Week')\n",
    "plt.ylabel('Number of Pickups')\n",
    "plt.xticks(rotation=45)\n",
    "plt.grid(axis='y')\n",
    "plt.show()"
   ]
  },
  {
   "cell_type": "code",
   "execution_count": null,
   "metadata": {
    "id": "H7V-jmRQG5hJ"
   },
   "outputs": [],
   "source": [
    "# Show the monthly trends in pickups\n",
    "# Extract the month from the pickup datetime\n",
    "df['pickup_month'] = df['tpep_pickup_datetime'].dt.month_name()\n",
    "# Group the data by month and count the number of pickups\n",
    "monthly_pickups = df.groupby('pickup_month').size().reset_index(name='pickup_count')\n",
    "# Reorder the months of the year\n",
    "months_order = ['January', 'February', 'March', 'April', 'May', 'June', 'July', 'August', 'September', 'October', 'November', 'December']\n",
    "monthly_pickups['pickup_month'] = pd.Categorical(monthly_pickups['pickup_month'], categories=months_order, ordered=True)\n",
    "# Sort the data by month\n",
    "monthly_pickups = monthly_pickups.sort_values('pickup_month')\n",
    "# Plot\n",
    "plt.figure(figsize=(12, 6))\n",
    "sns.barplot(data=monthly_pickups, x='pickup_month', y='pickup_count')\n",
    "plt.title('Monthly Trends In Taxi Pickups')\n",
    "plt.xlabel('Month of the Year')\n",
    "plt.ylabel('Number of Pickups')\n",
    "plt.xticks(rotation=45)\n",
    "plt.grid(axis='y')\n",
    "plt.show()"
   ]
  },
  {
   "cell_type": "markdown",
   "metadata": {
    "id": "23IqsgNjHNpJ"
   },
   "source": [
    "##### Financial Analysis"
   ]
  },
  {
   "cell_type": "markdown",
   "metadata": {
    "id": "fRaO-3NqHSM6"
   },
   "source": [
    "Take a look at the financial parameters like `fare_amount`, `tip_amount`, `total_amount`, and also `trip_distance`. Do these contain zero/negative values?"
   ]
  },
  {
   "cell_type": "code",
   "execution_count": null,
   "metadata": {
    "id": "Z7JUnPeRHRqF"
   },
   "outputs": [],
   "source": [
    "# Analyse the above parameters\n",
    "# Check for negative values in fare_amount, tip_amount, total_amount and trip_amount\n",
    "negative_values = df[(df['fare_amount'] < 0) | (df['tip_amount'] < 0) | (df['total_amount'] < 0) | (df['trip_distance'] < 0)]\n",
    "print(\"Number of rows with negative values in fare_amount, tip_amount, total_amount and trip_distance:\", negative_values.shape[0])\n",
    "# Check for zero values in fare_amount, tip_amount, total_amount and trip_distance\n",
    "zero_values = df[(df['fare_amount'] == 0) | (df['tip_amount'] == 0) | (df['total_amount'] == 0) | (df['trip_distance'] == 0)]\n",
    "print(\"Number of rows with zero values in fare_amount, tip_amount, total_amount and trip_distance:\", zero_values.shape[0])"
   ]
  },
  {
   "cell_type": "markdown",
   "metadata": {
    "id": "dbOS_-GDJTyv"
   },
   "source": [
    "Do you think it is beneficial to create a copy DataFrame leaving out the zero values from these?"
   ]
  },
  {
   "cell_type": "markdown",
   "metadata": {
    "id": "YDN14J63o9gV"
   },
   "source": [
    "**3.1.3** <font color = red>[2 marks]</font> <br>\n",
    "Filter out the zero values from the above columns.\n",
    "\n",
    "**Note:** The distance might be 0 in cases where pickup and drop is in the same zone. Do you think it is suitable to drop such cases of zero distance?"
   ]
  },
  {
   "cell_type": "code",
   "execution_count": null,
   "metadata": {
    "id": "5mk7Yp41JqJd"
   },
   "outputs": [],
   "source": [
    "# Create a df with non zero entries for the selected parameters.\n",
    "df_non_zero = df[(df['fare_amount'] > 0) & (df['tip_amount'] > 0) & (df['total_amount'] > 0) & (df['trip_distance'] > 0)]"
   ]
  },
  {
   "cell_type": "markdown",
   "metadata": {
    "id": "kJcgwyrtKivH"
   },
   "source": [
    "**3.1.4** <font color = red>[3 marks]</font> <br>\n",
    "Analyse the monthly revenue (`total_amount`) trend"
   ]
  },
  {
   "cell_type": "code",
   "execution_count": null,
   "metadata": {
    "id": "U_gl8rBD6ZH0"
   },
   "outputs": [],
   "source": [
    "# Group data by month and analyse monthly revenue\n",
    "monthly_revenue = df_non_zero.groupby(df_non_zero['tpep_pickup_datetime'].dt.to_period('M')).agg(\n",
    "    total_fare_amount=('fare_amount', 'sum'),\n",
    "    total_tip_amount=('tip_amount', 'sum'),\n",
    "    total_trip_distance=('trip_distance', 'sum'),\n",
    "    total_revenue=('total_amount', 'sum')\n",
    ").reset_index()\n",
    "\n",
    "# Only get year 2023 data\n",
    "monthly_revenue = monthly_revenue[monthly_revenue['tpep_pickup_datetime'].dt.year == 2023]\n",
    "\n",
    "monthly_revenue"
   ]
  },
  {
   "cell_type": "markdown",
   "metadata": {
    "id": "3vQHosTZLalB"
   },
   "source": [
    "**3.1.5** <font color = red>[3 marks]</font> <br>\n",
    "Show the proportion of each quarter of the year in the revenue"
   ]
  },
  {
   "cell_type": "code",
   "execution_count": null,
   "metadata": {
    "id": "foV9BpFbVTbu"
   },
   "outputs": [],
   "source": [
    "# Calculate proportion of each quarter\n",
    "monthly_revenue['quarter'] = monthly_revenue['tpep_pickup_datetime'].dt.quarter\n",
    "monthly_revenue['quarter'] = monthly_revenue['quarter'].astype(str) + 'Q'\n",
    "monthly_revenue['quarter'] = pd.Categorical(monthly_revenue['quarter'], categories=['1Q', '2Q', '3Q', '4Q'], ordered=True)\n",
    "# Group by quarter and calculate total revenue\n",
    "quarterly_revenue = monthly_revenue.groupby('quarter', observed=True).agg(\n",
    "    total_fare_amount=('total_fare_amount', 'sum'),\n",
    "    total_tip_amount=('total_tip_amount', 'sum'),\n",
    "    total_trip_distance=('total_trip_distance', 'sum'),\n",
    "    total_revenue=('total_revenue', 'sum')\n",
    ").reset_index()\n",
    "# Plot the quarterly revenue\n",
    "plt.figure(figsize=(12, 6))\n",
    "sns.barplot(data=quarterly_revenue, x='quarter', y='total_revenue')\n",
    "plt.title('Quarterly Revenue')\n",
    "plt.xlabel('Quarter')\n",
    "plt.ylabel('Total Revenue')\n",
    "plt.xticks(rotation=45)\n",
    "plt.grid(axis='y')\n",
    "plt.show()"
   ]
  },
  {
   "cell_type": "markdown",
   "metadata": {
    "id": "JncXEPjBLyHp"
   },
   "source": [
    "**3.1.6** <font color = red>[3 marks]</font> <br>\n",
    "Visualise the relationship between `trip_distance` and `fare_amount`. Also find the correlation value for these two.\n",
    "\n",
    "**Hint:** You can leave out the trips with trip_distance = 0"
   ]
  },
  {
   "cell_type": "code",
   "execution_count": null,
   "metadata": {
    "id": "-z8Fegh_P5At"
   },
   "outputs": [],
   "source": [
    "# Show how trip fare is affected by distance\n",
    "# leave out the trips with distance = 0\n",
    "df_non_zero = df_non_zero[df_non_zero['trip_distance'] > 0]\n",
    "# Create a scatter plot of fare_amount vs trip_distance\n",
    "plt.figure(figsize=(12, 6))\n",
    "sns.scatterplot(data=df_non_zero, x='trip_distance', y='fare_amount', alpha=0.5)\n",
    "plt.title('Trip Fare vs Trip Distance')\n",
    "plt.xlabel('Trip Distance (miles)')\n",
    "plt.ylabel('Fare Amount ($)')\n",
    "plt.show()"
   ]
  },
  {
   "cell_type": "markdown",
   "metadata": {
    "id": "-OGNFTX4QdeS"
   },
   "source": [
    "**3.1.7** <font color = red>[5 marks]</font> <br>\n",
    "Find and visualise the correlation between:\n",
    "1. `fare_amount` and trip duration (pickup time to dropoff time)\n",
    "2. `fare_amount` and `passenger_count`\n",
    "3. `tip_amount` and `trip_distance`"
   ]
  },
  {
   "cell_type": "code",
   "execution_count": null,
   "metadata": {
    "id": "EtSNqFw19TB3"
   },
   "outputs": [],
   "source": [
    "# Show relationship between fare and trip duration\n",
    "# Create a new column for trip duration in minutes\n",
    "df_non_zero['trip_duration'] = (df_non_zero['tpep_dropoff_datetime'] - df_non_zero['tpep_pickup_datetime']).dt.total_seconds() / 60.0\n",
    "# Remove trip_duration negative values\n",
    "df_non_zero = df_non_zero[df_non_zero['trip_duration'] > 0]\n",
    "# Plot the relationship between fare_amount and trip_duration\n",
    "plt.figure(figsize=(12, 6))\n",
    "sns.scatterplot(data=df_non_zero, x='trip_duration', y='fare_amount', alpha=0.5)\n",
    "plt.title('Trip Fare vs Trip Duration')\n",
    "plt.xlabel('Trip Duration (minutes)')\n",
    "plt.ylabel('Fare Amount ($)')\n",
    "plt.show()\n",
    "\n",
    "# Another plot for trip duration from 0 to 100 minutes\n",
    "plt.figure(figsize=(12, 6))\n",
    "sns.scatterplot(data=df_non_zero[df_non_zero['trip_duration'] <= 100], x='trip_duration', y='fare_amount', alpha=0.5)\n",
    "plt.title('Trip Fare vs Trip Duration (0-100 minutes)')\n",
    "plt.xlabel('Trip Duration (minutes)')\n",
    "plt.ylabel('Fare Amount ($)')\n",
    "plt.show()\n"
   ]
  },
  {
   "cell_type": "code",
   "execution_count": null,
   "metadata": {
    "id": "oTrlXiBm9TB3"
   },
   "outputs": [],
   "source": [
    "# Show relationship between fare and number of passengers\n",
    "# Get small sample of the data to avoid cluttering the plot\n",
    "df_sample = df_non_zero.sample(frac=0.01, random_state=42)  # Sample 10% of the data\n",
    "df_sample = df_sample[df_sample['passenger_count'].between(1, 6)]\n",
    "# Plot relationship between fare and number of passengers\n",
    "plt.figure(figsize=(12, 6))\n",
    "sns.boxplot(data=df_sample, x='passenger_count', y='fare_amount')\n",
    "plt.title('Trip Fare vs Number of Passengers')\n",
    "plt.xlabel('Number of Passengers')\n",
    "plt.ylabel('Fare Amount ($)')\n",
    "plt.grid(axis='y')\n",
    "plt.show()"
   ]
  },
  {
   "cell_type": "code",
   "execution_count": null,
   "metadata": {
    "id": "Lph7rakc9TB3"
   },
   "outputs": [],
   "source": [
    "# Show relationship between tip and trip distance\n",
    "# Create a scatter plot of tip_amount vs trip_distance\n",
    "plt.figure(figsize=(12, 6))\n",
    "sns.scatterplot(data=df_non_zero, x='trip_distance', y='tip_amount', alpha=0.5)\n",
    "plt.title('Tip Amount vs Trip Distance')\n",
    "plt.xlabel('Trip Distance (miles)')\n",
    "plt.ylabel('Tip Amount ($)')\n",
    "plt.show()"
   ]
  },
  {
   "cell_type": "markdown",
   "metadata": {
    "id": "3EL5CU47QJ5u"
   },
   "source": [
    "**3.1.8** <font color = red>[3 marks]</font> <br>\n",
    "Analyse the distribution of different payment types (`payment_type`)"
   ]
  },
  {
   "cell_type": "code",
   "execution_count": null,
   "metadata": {
    "id": "pknOiYLp9Wnd"
   },
   "outputs": [],
   "source": [
    "# Analyse the distribution of different payment types (payment_type).\n",
    "# Group the data by payment type and count the number of pickups\n",
    "payment_type_counts = df.groupby(\"payment_type\").size().reset_index(name=\"pickup_count\")\n",
    "# Map payment type IDs to their corresponding names\n",
    "payment_type_map = {1: \"Credit Card\", 2: \"Cash\", 3: \"No Charge\", 4: \"Dispute\"}\n",
    "payment_type_counts[\"payment_type\"] = payment_type_counts[\"payment_type\"].map(payment_type_map)\n",
    "#  Plot the distribution\n",
    "plt.figure(figsize=(12, 6))\n",
    "sns.barplot(data=payment_type_counts, x=\"payment_type\", y=\"pickup_count\")\n",
    "plt.title(\"Distribution of Payment Types\")\n",
    "plt.xlabel(\"Payment Type\")\n",
    "plt.ylabel(\"Number of Pickups\")\n",
    "plt.xticks(rotation=45)\n",
    "plt.grid(axis=\"y\")\n",
    "plt.show()"
   ]
  },
  {
   "cell_type": "markdown",
   "metadata": {
    "id": "PxxbUmSZ9Wne"
   },
   "source": [
    "- 1= Credit card\n",
    "- 2= Cash\n",
    "- 3= No charge\n",
    "- 4= Dispute\n",
    "\n"
   ]
  },
  {
   "cell_type": "markdown",
   "metadata": {
    "id": "CVXxcSYHj9sh"
   },
   "source": [
    "##### Geographical Analysis"
   ]
  },
  {
   "cell_type": "markdown",
   "metadata": {
    "id": "tvBXuYW7kEyS"
   },
   "source": [
    "For this, you have to use the *taxi_zones.shp* file from the *taxi_zones* folder.\n",
    "\n",
    "There would be multiple files inside the folder (such as *.shx, .sbx, .sbn* etc). You do not need to import/read any of the files other than the shapefile, *taxi_zones.shp*.\n",
    "\n",
    "Do not change any folder structure - all the files need to be present inside the folder for it to work.\n",
    "\n",
    "The folder structure should look like this:\n",
    "```\n",
    "Taxi Zones\n",
    "|- taxi_zones.shp.xml\n",
    "|- taxi_zones.prj\n",
    "|- taxi_zones.sbn\n",
    "|- taxi_zones.shp\n",
    "|- taxi_zones.dbf\n",
    "|- taxi_zones.shx\n",
    "|- taxi_zones.sbx\n",
    "\n",
    " ```\n",
    "\n",
    " You only need to read the `taxi_zones.shp` file. The *shp* file will utilise the other files by itself."
   ]
  },
  {
   "cell_type": "markdown",
   "metadata": {
    "id": "hR8f8ypXUtxJ"
   },
   "source": [
    "We will use the *GeoPandas* library for geopgraphical analysis\n",
    "```\n",
    "import geopandas as gpd\n",
    "```\n",
    "\n",
    "More about geopandas and shapefiles: [About](https://geopandas.org/en/stable/about.html)\n",
    "\n",
    "\n",
    "Reading the shapefile is very similar to *Pandas*. Use `gpd.read_file()` function to load the data (*taxi_zones.shp*) as a GeoDataFrame. Documentation: [Reading and Writing Files](https://geopandas.org/en/stable/docs/user_guide/io.html)"
   ]
  },
  {
   "cell_type": "code",
   "execution_count": null,
   "metadata": {
    "id": "FJ76QD9IXNz8"
   },
   "outputs": [],
   "source": [
    "# %pip install geopandas"
   ]
  },
  {
   "cell_type": "markdown",
   "metadata": {
    "id": "q_QpZLl_WU-b"
   },
   "source": [
    "**3.1.9** <font color = red>[2 marks]</font> <br>\n",
    "Load the shapefile and display it."
   ]
  },
  {
   "cell_type": "code",
   "execution_count": null,
   "metadata": {
    "id": "hLyVd3TQkCdG"
   },
   "outputs": [],
   "source": [
    "import geopandas as gpd\n",
    "\n",
    "\n",
    "# Read the shapefile using geopandas\n",
    "zones = gpd.read_file(\n",
    "    r\"C:\\ZTalJaZ\\Storage\\MasterOfDataScience\\Python\\Code\\Practice\\EDA_assignment\\Datasets and Dictionary\\taxi_zones\\taxi_zones.shp\"\n",
    ")\n",
    "zones.head()"
   ]
  },
  {
   "cell_type": "markdown",
   "metadata": {
    "id": "8YXJMzRoWxeg"
   },
   "source": [
    "Now, if you look at the DataFrame created, you will see columns like: `OBJECTID`,`Shape_Leng`, `Shape_Area`, `zone`, `LocationID`, `borough`, `geometry`.\n",
    "<br><br>\n",
    "\n",
    "Now, the `locationID` here is also what we are using to mark pickup and drop zones in the trip records.\n",
    "\n",
    "The geometric parameters like shape length, shape area and geometry are used to plot the zones on a map.\n",
    "\n",
    "This can be easily done using the `plot()` method."
   ]
  },
  {
   "cell_type": "code",
   "execution_count": null,
   "metadata": {
    "id": "lTqdZChLYE6H"
   },
   "outputs": [],
   "source": [
    "print(zones.info())\n",
    "zones.plot()"
   ]
  },
  {
   "cell_type": "markdown",
   "metadata": {
    "id": "fBkWokLIY_BH"
   },
   "source": [
    "Now, you have to merge the trip records and zones data using the location IDs.\n",
    "\n"
   ]
  },
  {
   "cell_type": "markdown",
   "metadata": {
    "id": "YzUMLUjqaJLN"
   },
   "source": [
    "**3.1.10** <font color = red>[3 marks]</font> <br>\n",
    "Merge the zones data into trip data using the `locationID` and `PULocationID` columns."
   ]
  },
  {
   "cell_type": "code",
   "execution_count": null,
   "metadata": {
    "id": "A2L8hWMQaYkX"
   },
   "outputs": [],
   "source": [
    "# Merge zones and trip records using locationID and PULocationID\n",
    "df_merged = pd.merge(df, zones, left_on=\"PULocationID\", right_on=\"LocationID\", how=\"left\")\n",
    "# Check the merged dataframe\n",
    "df_merged.head(3)"
   ]
  },
  {
   "cell_type": "markdown",
   "metadata": {
    "id": "9CYc36Weai5-"
   },
   "source": [
    "**3.1.11** <font color = red>[3 marks]</font> <br>\n",
    "Group data by location IDs to find the total number of trips per location ID"
   ]
  },
  {
   "cell_type": "code",
   "execution_count": null,
   "metadata": {
    "id": "XpTIaPSSbwZZ"
   },
   "outputs": [],
   "source": [
    "# Group data by location and calculate the number of trips\n",
    "trips_count = df_merged.groupby(\"zone\").size().reset_index(name=\"trips_count\")\n",
    "# Sort the data by trip count\n",
    "trips_count = trips_count.sort_values(by=\"trips_count\", ascending=False)\n",
    "# Display the top 10 pickup locations\n",
    "trips_count.head(10)"
   ]
  },
  {
   "cell_type": "markdown",
   "metadata": {
    "id": "As0dVJpdcK2_"
   },
   "source": [
    "**3.1.12** <font color = red>[2 marks]</font> <br>\n",
    "Now, use the grouped data to add number of trips to the GeoDataFrame.\n",
    "\n",
    "We will use this to plot a map of zones showing total trips per zone."
   ]
  },
  {
   "cell_type": "code",
   "execution_count": null,
   "metadata": {
    "id": "H9Sheg7vdZ6q"
   },
   "outputs": [],
   "source": [
    "# Merge trip counts back to the zones GeoDataFrame\n",
    "zones = zones.merge(trips_count, left_on=\"zone\", right_on=\"zone\", how=\"left\")\n",
    "# Fill NaN values with 0 for pickup_count\n",
    "zones[\"trips_count\"] = zones[\"trips_count\"].fillna(0)"
   ]
  },
  {
   "cell_type": "markdown",
   "metadata": {
    "id": "DsfomL6Od0_R"
   },
   "source": [
    "The next step is creating a color map (choropleth map) showing zones by the number of trips taken.\n",
    "\n",
    "Again, you can use the `zones.plot()` method for this. [Plot Method GPD](https://geopandas.org/en/stable/docs/reference/api/geopandas.GeoDataFrame.plot.html#geopandas.GeoDataFrame.plot)\n",
    "\n",
    "But first, you need to define the figure and axis for the plot.\n",
    "\n",
    "`fig, ax = plt.subplots(1, 1, figsize = (12, 10))`\n",
    "\n",
    "This function creates a figure (fig) and a single subplot (ax)\n",
    "\n",
    "---"
   ]
  },
  {
   "cell_type": "markdown",
   "metadata": {
    "id": "QgDcw8gUejVk"
   },
   "source": [
    "After setting up the figure and axis, we can proceed to plot the GeoDataFrame on this axis. This is done in the next step where we use the plot method of the GeoDataFrame.\n",
    "\n",
    "You can define the following parameters in the `zones.plot()` method:\n",
    "```\n",
    "column = '',\n",
    "ax = ax,\n",
    "legend = True,\n",
    "legend_kwds = {'label': \"label\", 'orientation': \"<horizontal/vertical>\"}\n",
    "```\n",
    "\n",
    "To display the plot, use `plt.show()`."
   ]
  },
  {
   "cell_type": "markdown",
   "metadata": {
    "id": "xFQmkJipfU1P"
   },
   "source": [
    "**3.1.13** <font color = red>[3 marks]</font> <br>\n",
    "Plot a color-coded map showing zone-wise trips"
   ]
  },
  {
   "cell_type": "code",
   "execution_count": null,
   "metadata": {
    "id": "i506kVTgefM5"
   },
   "outputs": [],
   "source": [
    "# Define figure and axis\n",
    "fig, ax = plt.subplots(figsize=(12, 12))\n",
    "\n",
    "# Plot the map and display it\n",
    "zones.boundary.plot(ax=ax, linewidth=1, color=\"black\")\n",
    "# Plot the pickup counts as a heatmap\n",
    "zones.plot(column=\"trips_count\", ax=ax, legend=True, cmap=\"OrRd\", alpha=0.5)\n",
    "plt.title(\"Pickup Locations Heatmap\")\n",
    "plt.xlabel(\"Longitude\")\n",
    "plt.ylabel(\"Latitude\")\n",
    "plt.grid()\n",
    "plt.show()\n"
   ]
  },
  {
   "cell_type": "code",
   "execution_count": null,
   "metadata": {
    "id": "gwDs7OaBSopP"
   },
   "outputs": [],
   "source": [
    "# can you try displaying the zones DF sorted by the number of trips?\n",
    "zones_sorted = zones.sort_values(by=\"trips_count\", ascending=False)\n",
    "# Display the top 10 zones with the highest number of trips\n",
    "zones_sorted.head(10)\n"
   ]
  },
  {
   "cell_type": "markdown",
   "metadata": {
    "id": "T1bE7-QbgSrZ"
   },
   "source": [
    "Here we have completed the temporal, financial and geographical analysis on the trip records.\n",
    "\n",
    "**Compile your findings from general analysis below:**"
   ]
  },
  {
   "cell_type": "markdown",
   "metadata": {
    "id": "7YiVFIX3gcL3"
   },
   "source": [
    "You can consider the following points:\n",
    "\n",
    "* Busiest hours, days and months\n",
    "* Trends in revenue collected\n",
    "* Trends in quarterly revenue\n",
    "* How fare depends on trip distance, trip duration and passenger counts\n",
    "* How tip amount depends on trip distance\n",
    "* Busiest zones\n"
   ]
  },
  {
   "cell_type": "markdown",
   "metadata": {
    "id": "Rv0oYLcbhOTU"
   },
   "source": [
    "#### **3.2** Detailed EDA: Insights and Strategies\n",
    "<font color = red>[50 marks]</font> <br>"
   ]
  },
  {
   "cell_type": "markdown",
   "metadata": {
    "id": "xWJk-CGihnU1"
   },
   "source": [
    "Having performed basic analyses for finding trends and patterns, we will now move on to some detailed analysis focussed on operational efficiency, pricing strategies, and customer experience."
   ]
  },
  {
   "cell_type": "markdown",
   "metadata": {
    "id": "XBY2Y4Jrz9IQ"
   },
   "source": [
    "##### Operational Efficiency"
   ]
  },
  {
   "cell_type": "markdown",
   "metadata": {
    "id": "BXU8Q3sGjGnE"
   },
   "source": [
    "Analyze variations by time of day and location to identify bottlenecks or inefficiencies in routes"
   ]
  },
  {
   "cell_type": "markdown",
   "metadata": {
    "id": "H97VPqVdq7Lz"
   },
   "source": [
    "**3.2.1** <font color = red>[3 marks]</font> <br>\n",
    "Identify slow routes by calculating the average time taken by cabs to get from one zone to another at different hours of the day."
   ]
  },
  {
   "cell_type": "markdown",
   "metadata": {
    "id": "NzTRZyw2q9IR"
   },
   "source": [
    "Speed on a route *X* for hour *Y* = (*distance of the route X / average trip duration for hour Y*)"
   ]
  },
  {
   "cell_type": "code",
   "execution_count": null,
   "metadata": {
    "id": "Ovf-1vIyhk7E"
   },
   "outputs": [],
   "source": [
    "# Find routes which have the slowest speeds at different times of the day\n",
    "df_non_zero['trip_speed'] = (df_non_zero['trip_distance'] / ((df_non_zero['tpep_dropoff_datetime'] - df_non_zero['tpep_pickup_datetime']).dt.total_seconds() / 3600.0)).round(2)\n",
    "df_non_zero['pickup_hour'] = df_non_zero['tpep_pickup_datetime'].dt.hour\n",
    "hourly_speed = df_non_zero.groupby('pickup_hour')['trip_speed'].mean().reset_index()\n",
    "# Plot the average trip speed by hour\n",
    "plt.figure(figsize=(12, 6))\n",
    "sns.lineplot(data=hourly_speed, x='pickup_hour', y='trip_speed', marker='o')\n",
    "plt.title('Average Trip Speed by Hour of the Day')\n",
    "plt.xlabel('Hour of the Day')\n",
    "plt.ylabel('Average Trip Speed (mph)')\n",
    "plt.xticks(hourly_speed['pickup_hour'])\n",
    "plt.grid()\n",
    "plt.show()\n",
    "\n",
    "# Route from PULocationID to DOLocationID with the slowest speed\n",
    "route_speed = df_non_zero.groupby(['PULocationID', 'DOLocationID'])['trip_speed'].mean().reset_index()\n",
    "route_speed = route_speed.sort_values(by='trip_speed', ascending=True)\n",
    "slowest_routes = route_speed.head(10)\n",
    "slowest_routes = slowest_routes.merge(zones[['LocationID', 'zone']], left_on='PULocationID', right_on='LocationID', how='left')\n",
    "slowest_routes = slowest_routes.merge(zones[['LocationID', 'zone']], left_on='DOLocationID', right_on='LocationID', how='left', suffixes=('_PU', '_DO'))\n",
    "slowest_routes = slowest_routes[['zone_PU', 'zone_DO', 'trip_speed']].rename(columns={'zone_PU': 'Pickup Zone', 'zone_DO': 'Dropoff Zone', 'trip_speed': 'Average Speed (mph)'})\n",
    "slowest_routes.reset_index(drop=True, inplace=True)\n",
    "slowest_routes"
   ]
  },
  {
   "cell_type": "markdown",
   "metadata": {
    "id": "NmRPbH3rm2Ub"
   },
   "source": [
    "How does identifying high-traffic, high-demand routes help us?"
   ]
  },
  {
   "cell_type": "markdown",
   "metadata": {
    "id": "7-w-OCB_nLmb"
   },
   "source": [
    "**3.2.2** <font color = red>[3 marks]</font> <br>\n",
    "Calculate the number of trips at each hour of the day and visualise them. Find the busiest hour and show the number of trips for that hour."
   ]
  },
  {
   "cell_type": "code",
   "execution_count": null,
   "metadata": {
    "id": "BEbRCT31nLUw"
   },
   "outputs": [],
   "source": [
    "# Visualise the number of trips per hour and find the busiest hour\n",
    "# Group the data by hour and count the number of trips\n",
    "hourly_trips = df.groupby(df['tpep_pickup_datetime'].dt.hour).size().reset_index(name='trip_count')\n",
    "# Plot the number of trips per hour\n",
    "plt.figure(figsize=(12, 6))\n",
    "sns.barplot(data=hourly_trips, x='tpep_pickup_datetime', y='trip_count')\n",
    "plt.title('Number of Trips per Hour')\n",
    "plt.xlabel('Hour of the Day')\n",
    "plt.ylabel('Number of Trips')\n",
    "plt.xticks(hourly_trips['tpep_pickup_datetime'])\n",
    "plt.grid(axis='y')\n",
    "plt.show()"
   ]
  },
  {
   "cell_type": "markdown",
   "metadata": {
    "id": "8FuSAA0zn3F4"
   },
   "source": [
    "Remember, we took a fraction of trips. To find the actual number, you have to scale the number up by the sampling ratio."
   ]
  },
  {
   "cell_type": "markdown",
   "metadata": {
    "id": "bapn075QrKaz"
   },
   "source": [
    "**3.2.3** <font color = red>[2 mark]</font> <br>\n",
    "Find the actual number of trips in the five busiest hours"
   ]
  },
  {
   "cell_type": "code",
   "execution_count": null,
   "metadata": {
    "id": "79Hy-YWOoapQ"
   },
   "outputs": [],
   "source": [
    "# Scale up the number of trips\n",
    "\n",
    "# Fill in the value of your sampling fraction and use that to scale up the numbers\n",
    "sample_fraction = 0.05\n",
    "# Scale up the number of trips by dividing by the sampling fraction\n",
    "hourly_trips['scaled_trip_count'] = hourly_trips['trip_count'] / sample_fraction\n",
    "# Display the scaled trip count\n",
    "hourly_trips.sort_values(by='scaled_trip_count', ascending=False, inplace=True)\n",
    "hourly_trips[['tpep_pickup_datetime', 'trip_count', 'scaled_trip_count']].head(5)"
   ]
  },
  {
   "cell_type": "markdown",
   "metadata": {
    "id": "74fhoLxEoaTP"
   },
   "source": [
    "**3.2.4** <font color = red>[3 marks]</font> <br>\n",
    "Compare hourly traffic pattern on weekdays. Also compare for weekend."
   ]
  },
  {
   "cell_type": "code",
   "execution_count": null,
   "metadata": {
    "id": "sYMmCQHwpFRY"
   },
   "outputs": [],
   "source": [
    "# Compare traffic trends for the week days and weekends\n",
    "df['pickup_day'] = df['tpep_pickup_datetime'].dt.day_name()\n",
    "# Create a new column for the weekend (Saturday and Sunday) and weekday (Monday to Friday)\n",
    "df['weekend'] = df['pickup_day'].apply(lambda x: 1 if x in ['Saturday', 'Sunday'] else 0)\n",
    "weekend_trips = df.groupby('weekend').size().reset_index(name='trip_count')\n",
    "weekend_trips['weekend'] = weekend_trips['weekend'].map({0: 'Weekday', 1: 'Weekend'})\n",
    "# Plot the distribution of trips on weekdays and weekends\n",
    "plt.figure(figsize=(12, 6))\n",
    "sns.barplot(data=weekend_trips, x='weekend', y='trip_count')\n",
    "plt.title('Distribution of Trips on Weekdays and Weekends')\n",
    "plt.xlabel('Day Type')\n",
    "plt.ylabel('Number of Trips')\n",
    "plt.xticks(rotation=45)\n",
    "plt.grid(axis='y')\n",
    "plt.show()"
   ]
  },
  {
   "cell_type": "markdown",
   "metadata": {
    "id": "tWeuAulNpSOL"
   },
   "source": [
    "What can you infer from the above patterns? How will finding busy and quiet hours for each day help us?"
   ]
  },
  {
   "cell_type": "markdown",
   "metadata": {
    "id": "-S90VG94rGUm"
   },
   "source": [
    "**3.2.5** <font color = red>[3 marks]</font> <br>\n",
    "Identify top 10 zones with high hourly pickups. Do the same for hourly dropoffs. Show pickup and dropoff trends in these zones."
   ]
  },
  {
   "cell_type": "code",
   "execution_count": null,
   "metadata": {
    "id": "-nJGifJFrslP"
   },
   "outputs": [],
   "source": [
    "# Find top 10 pickup and dropoff zones\n",
    "# Top 10 pickup zones\n",
    "top_pickup_zones = df['PULocationID'].value_counts().head(10).reset_index()\n",
    "top_pickup_zones.columns = ['PULocationID', 'pickup_count']\n",
    "# Merge with the zones dataframe to get the zone names\n",
    "top_pickup_zones = top_pickup_zones.merge(zones[['LocationID', 'zone']], left_on='PULocationID', right_on='LocationID', how='left')\n",
    "top_pickup_zones = top_pickup_zones[['zone', 'pickup_count']].rename(columns={'zone': 'Pickup Zone'})\n",
    "top_pickup_zones.reset_index(drop=True, inplace=True)\n",
    "print(\"Top 10 Pickup Zones:\")\n",
    "print(top_pickup_zones)\n",
    "\n",
    "# Top 10 dropoff zones\n",
    "top_dropoff_zones = df['DOLocationID'].value_counts().head(10).reset_index()\n",
    "top_dropoff_zones.columns = ['DOLocationID', 'dropoff_count']\n",
    "# Merge with the zones dataframe to get the zone names\n",
    "top_dropoff_zones = top_dropoff_zones.merge(zones[['LocationID', 'zone']], left_on='DOLocationID', right_on='LocationID', how='left')\n",
    "top_dropoff_zones = top_dropoff_zones[['zone', 'dropoff_count']].rename(columns={'zone': 'Dropoff Zone'})\n",
    "top_dropoff_zones.reset_index(drop=True, inplace=True)\n",
    "print(\"Top 10 Dropoff Zones:\")\n",
    "print(top_dropoff_zones)"
   ]
  },
  {
   "cell_type": "markdown",
   "metadata": {
    "id": "okkQ17VssMqP"
   },
   "source": [
    "**3.2.6** <font color = red>[3 marks]</font> <br>\n",
    "Find the ratio of pickups and dropoffs in each zone. Display the 10 highest (pickup/drop) and 10 lowest (pickup/drop) ratios."
   ]
  },
  {
   "cell_type": "code",
   "execution_count": null,
   "metadata": {
    "id": "Qbuc8y-KgeDR"
   },
   "outputs": [],
   "source": [
    "# Find the top 10 and bottom 10 pickup/dropoff ratios\n",
    "pickup_counts = df.groupby('PULocationID').size().reset_index(name='pickup_count')\n",
    "dropoff_counts = df.groupby('DOLocationID').size().reset_index(name='dropoff_count')\n",
    "zones_ratio = zones[['LocationID', 'zone', 'borough']].copy()\n",
    "# Merge pickup counts into zones_ratio\n",
    "zones_ratio = zones_ratio.merge(pickup_counts, left_on='LocationID', right_on='PULocationID', how='left')\n",
    "# Merge dropoff counts into zones_ratio\n",
    "zones_ratio = zones_ratio.merge(dropoff_counts, left_on='LocationID', right_on='DOLocationID', how='left')\n",
    "\n",
    "# Fill NaN counts with 0 (zones with no pickups or dropoffs in the sample)\n",
    "zones_ratio['pickup_count'] = zones_ratio['pickup_count'].fillna(0).astype(int)\n",
    "zones_ratio['dropoff_count'] = zones_ratio['dropoff_count'].fillna(0).astype(int)\n",
    "\n",
    "zones_ratio['pickup_dropoff_ratio'] = zones_ratio['pickup_count'] / zones_ratio['dropoff_count']\n",
    "zones_ratio['pickup_dropoff_ratio'] = zones_ratio['pickup_dropoff_ratio'].replace([np.inf, -np.inf], np.nan)\n",
    "\n",
    "zones_ratio = zones_ratio[['zone', 'borough', 'pickup_count', 'dropoff_count', 'pickup_dropoff_ratio']]\n",
    "\n",
    "# Sort the zones by pickup/dropoff ratio in descending order\n",
    "top_pickup_ratio = zones_ratio.sort_values(by='pickup_dropoff_ratio', ascending=False, na_position='last').head(10)\n",
    "print('Top 10 Pickup and Dropoff Ratios:')\n",
    "print(top_pickup_ratio[['zone', 'pickup_dropoff_ratio']])\n",
    "\n",
    "# Sort the zones by pickup/dropoff ratio in ascending order\n",
    "bottom_pickup_ratio = zones_ratio.sort_values(by='pickup_dropoff_ratio', ascending=True, na_position='last').head(10)\n",
    "print('Bottom 10 Pickup and Dropoff Ratios:')\n",
    "print(bottom_pickup_ratio[['zone', 'pickup_dropoff_ratio']])\n"
   ]
  },
  {
   "cell_type": "markdown",
   "metadata": {
    "id": "2j1ukv-rrxny"
   },
   "source": [
    "**3.2.7** <font color = red>[3 marks]</font> <br>\n",
    "Identify zones with high pickup and dropoff traffic during night hours (11PM to 5AM)"
   ]
  },
  {
   "cell_type": "code",
   "execution_count": null,
   "metadata": {
    "id": "ve65f0GltyE_"
   },
   "outputs": [],
   "source": [
    "# During night hours (11pm to 5am) find the top 10 pickup and dropoff zones\n",
    "# Note that the top zones should be of night hours and not the overall top zones\n",
    "night_hours = df[(df['pickup_hour'] >= 23) | (df['pickup_hour'] <= 5)]\n",
    "# Top 10 pickup zones during night hours\n",
    "top_night_pickup_zones = night_hours['PULocationID'].value_counts().head(10).reset_index()\n",
    "top_night_pickup_zones.columns = ['PULocationID', 'pickup_count']\n",
    "top_night_pickup_zones = top_night_pickup_zones.merge(zones[['LocationID', 'zone']], left_on='PULocationID', right_on='LocationID', how='left')\n",
    "top_night_pickup_zones = top_night_pickup_zones[['zone', 'pickup_count']].rename(columns={'zone': 'Pickup Zone'})\n",
    "top_night_pickup_zones.reset_index(drop=True, inplace=True)\n",
    "print(\"Top 10 Night Pickup Zones:\")\n",
    "print(top_night_pickup_zones)\n",
    "# Top 10 dropoff zones during night hours\n",
    "top_night_dropoff_zones = night_hours['DOLocationID'].value_counts().head(10).reset_index()\n",
    "top_night_dropoff_zones.columns = ['DOLocationID', 'dropoff_count']\n",
    "top_night_dropoff_zones = top_night_dropoff_zones.merge(zones[['LocationID', 'zone']], left_on='DOLocationID', right_on='LocationID', how='left')\n",
    "top_night_dropoff_zones = top_night_dropoff_zones[['zone', 'dropoff_count']].rename(columns={'zone': 'Dropoff Zone'})\n",
    "top_night_dropoff_zones.reset_index(drop=True, inplace=True)\n",
    "print(\"Top 10 Night Dropoff Zones:\")\n",
    "print(top_night_dropoff_zones)"
   ]
  },
  {
   "cell_type": "markdown",
   "metadata": {
    "id": "OtPTHyhTNnNL"
   },
   "source": [
    "Now, let us find the revenue share for the night time hours and the day time hours. After this, we will move to deciding a pricing strategy.\n",
    "\n",
    "**3.2.8** <font color = red>[2 marks]</font> <br>\n",
    "Find the revenue share for nighttime and daytime hours."
   ]
  },
  {
   "cell_type": "code",
   "execution_count": null,
   "metadata": {
    "id": "0ohk4curNl3g"
   },
   "outputs": [],
   "source": [
    "# Filter for night hours (11 PM to 5 AM)\n",
    "df['time_of_day'] = df['pickup_hour'].apply(lambda x: 'Night' if (x >= 23 or x <= 5) else 'Day')\n",
    "revenue_share = df.groupby('time_of_day')['total_amount'].sum().reset_index()\n",
    "revenue_share['percentage_share'] = (revenue_share['total_amount'] / revenue_share['total_amount'].sum()) * 100\n",
    "# Plot\n",
    "plt.figure(figsize=(12, 6))\n",
    "sns.barplot(data=revenue_share, x='time_of_day', y='percentage_share')\n",
    "plt.title('Revenue Share for Nighttime and Daytime Hours')\n",
    "plt.xlabel('Time of Day')\n",
    "plt.ylabel('Percentage Share (%)')\n",
    "plt.xticks(rotation=45)\n",
    "plt.grid(axis='y')\n",
    "plt.show()"
   ]
  },
  {
   "cell_type": "markdown",
   "metadata": {
    "id": "nG77smP4tyWu"
   },
   "source": [
    "##### Pricing Strategy"
   ]
  },
  {
   "cell_type": "markdown",
   "metadata": {
    "id": "ciF6eThit5IH"
   },
   "source": [
    "**3.2.9** <font color = red>[2 marks]</font> <br>\n",
    "For the different passenger counts, find the average fare per mile per passenger.\n",
    "\n",
    "For instance, suppose the average fare per mile for trips with 3 passengers is 3 USD/mile, then the fare per mile per passenger will be 1 USD/mile."
   ]
  },
  {
   "cell_type": "code",
   "execution_count": null,
   "metadata": {
    "id": "AO7MIuXd9C16"
   },
   "outputs": [],
   "source": [
    "# Analyse the fare per mile per passenger for different passenger counts\n",
    "df_non_zero = df_non_zero[df_non_zero['passenger_count'] > 0]\n",
    "df_non_zero['fare_per_mile_per_passenger'] = (df_non_zero['fare_amount'] / df_non_zero['trip_distance']) / df_non_zero['passenger_count']\n",
    "fare_per_mile_per_passenger = df_non_zero.groupby('passenger_count')['fare_per_mile_per_passenger'].mean().reset_index()\n",
    "# Plot the average fare per mile per passenger by passenger count\n",
    "plt.figure(figsize=(12, 6))\n",
    "sns.barplot(data=fare_per_mile_per_passenger, x='passenger_count', y='fare_per_mile_per_passenger')\n",
    "plt.title('Average Fare per Mile per Passenger by Passenger Count')\n",
    "plt.xlabel('Passenger Count')\n",
    "plt.ylabel('Average Fare per Mile per Passenger ($)')\n",
    "plt.xticks(rotation=45)\n",
    "plt.grid(axis='y')\n",
    "plt.show()"
   ]
  },
  {
   "cell_type": "markdown",
   "metadata": {
    "id": "WZrN-cxR9DIb"
   },
   "source": [
    "**3.2.10** <font color = red>[3 marks]</font> <br>\n",
    "Find the average fare per mile by hours of the day and by days of the week"
   ]
  },
  {
   "cell_type": "code",
   "execution_count": null,
   "metadata": {
    "id": "hUzCJm2y9SOq"
   },
   "outputs": [],
   "source": [
    "# Compare the average fare per mile for different days and for different times of the day\n",
    "df['fare_per_mile'] = df['fare_amount'] / df['trip_distance']\n",
    "fare_per_mile_by_day = df.groupby('pickup_day')['fare_per_mile'].mean().reset_index()\n",
    "days_order = ['Monday', 'Tuesday', 'Wednesday', 'Thursday', 'Friday', 'Saturday', 'Sunday']\n",
    "fare_per_mile_by_day['pickup_day'] = pd.Categorical(fare_per_mile_by_day['pickup_day'], categories=days_order, ordered=True)\n",
    "# Sort the data by day of the week\n",
    "fare_per_mile_by_day = fare_per_mile_by_day.sort_values('pickup_day')\n",
    "# Plot the average fare per mile by day of the week\n",
    "plt.figure(figsize=(12, 6))\n",
    "sns.barplot(data=fare_per_mile_by_day, x='pickup_day', y='fare_per_mile')\n",
    "plt.title('Average Fare per Mile by Day of the Week')\n",
    "plt.xlabel('Day of the Week')\n",
    "plt.ylabel('Average Fare per Mile ($)')\n",
    "plt.xticks(rotation=45)\n",
    "plt.grid(axis='y')\n",
    "plt.show()"
   ]
  },
  {
   "cell_type": "markdown",
   "metadata": {
    "id": "211WFkhHDUMG"
   },
   "source": [
    "**3.2.11** <font color = red>[3 marks]</font> <br>\n",
    "Analyse the average fare per mile for the different vendors for different hours of the day"
   ]
  },
  {
   "cell_type": "code",
   "execution_count": null,
   "metadata": {
    "id": "my3cGHL1DU04"
   },
   "outputs": [],
   "source": [
    "# Compare fare per mile for different vendors\n",
    "fare_per_mile_by_vendor = df.groupby('VendorID')['fare_per_mile'].mean().reset_index()\n",
    "vendor_map = {1: 'Creative Mobile Technologies', 2: 'VeriFone Inc'}\n",
    "fare_per_mile_by_vendor['VendorID'] = fare_per_mile_by_vendor['VendorID'].map(vendor_map)\n",
    "# Plot the average fare per mile by vendor\n",
    "plt.figure(figsize=(12, 6))\n",
    "sns.barplot(data=fare_per_mile_by_vendor, x='VendorID', y='fare_per_mile')\n",
    "plt.title('Average Fare per Mile by Vendor')\n",
    "plt.xlabel('Vendor')\n",
    "plt.ylabel('Average Fare per Mile ($)')\n",
    "plt.grid(axis='y')\n",
    "plt.show()\n"
   ]
  },
  {
   "cell_type": "markdown",
   "metadata": {
    "id": "FH9YJdodtDk4"
   },
   "source": [
    "**3.2.12** <font color = red>[5 marks]</font> <br>\n",
    "Compare the fare rates of the different vendors in a tiered fashion. Analyse the average fare per mile for distances upto 2 miles. Analyse the fare per mile for distances from 2 to 5 miles. And then for distances more than 5 miles.\n"
   ]
  },
  {
   "cell_type": "code",
   "execution_count": null,
   "metadata": {
    "id": "TFRPgO7mgEeT"
   },
   "outputs": [],
   "source": [
    "# Defining distance tiers\n",
    "def distance_tier(distance):\n",
    "    if distance <= 3:\n",
    "        return '0-2 miles'\n",
    "    elif distance <= 5:\n",
    "        return '2-5 miles'\n",
    "    elif distance <= 10:\n",
    "        return '5-10 miles'\n",
    "    else:\n",
    "        return '>10 miles'\n",
    " \n",
    "df['distance_tier'] = df['trip_distance'].apply(distance_tier)\n",
    "# Group by vendor and distance tier, and calculate average fare per mile\n",
    "fare_per_mile_by_vendor_distance = df.groupby(['VendorID', 'distance_tier'])['fare_per_mile'].mean().reset_index()\n",
    "vendor_map = {1: 'Creative Mobile Technologies', 2: 'VeriFone Inc'}\n",
    "fare_per_mile_by_vendor_distance['VendorID'] = fare_per_mile_by_vendor_distance['VendorID'].map(vendor_map)\n",
    "# Plot the average fare per mile by vendor and distance tier\n",
    "plt.figure(figsize=(12, 6))\n",
    "sns.barplot(data=fare_per_mile_by_vendor_distance, x='distance_tier', y='fare_per_mile', hue='VendorID')\n",
    "plt.title('Average Fare per Mile by Vendor and Distance Tier')\n",
    "plt.xlabel('Distance Tier')\n",
    "plt.ylabel('Average Fare per Mile ($)')\n",
    "plt.legend(title='Vendor')\n",
    "plt.grid(axis='y')\n",
    "plt.show()"
   ]
  },
  {
   "cell_type": "markdown",
   "metadata": {
    "id": "M2o6xY0Yh6Gv"
   },
   "source": [
    "##### Customer Experience and Other Factors"
   ]
  },
  {
   "cell_type": "markdown",
   "metadata": {
    "id": "VSneN-rCh6Gw"
   },
   "source": [
    "**3.2.13** <font color = red>[5 marks]</font> <br>\n",
    "Analyse average tip percentages based on trip distances, passenger counts and time of pickup. What factors lead to low tip percentages?"
   ]
  },
  {
   "cell_type": "code",
   "execution_count": null,
   "metadata": {
    "id": "LO5WazK8h6Gx"
   },
   "outputs": [],
   "source": [
    "#  Analyze tip percentages based on distances, passenger counts and pickup times\n",
    "df['tip_percentage'] = (df['tip_amount'] / df['fare_amount']) * 100\n",
    "# Group by distance tier and calculate average tip percentage\n",
    "tip_percentage_by_distance = df.groupby('distance_tier')['tip_percentage'].mean().reset_index()\n",
    "# Group by passenger count and calculate average tip percentage\n",
    "# passenger_count > 0\n",
    "df = df[df['passenger_count'] > 0]\n",
    "tip_percentage_by_passenger_count = df.groupby('passenger_count')['tip_percentage'].mean().reset_index()\n",
    "# Group by pickup hour and calculate average tip percentage\n",
    "tip_percentage_by_hour = df.groupby('pickup_hour')['tip_percentage'].mean().reset_index()\n",
    "\n",
    "fig, axes = plt.subplots(3, 1, figsize=(12, 18))\n",
    "# Plot tip percentage by distance tier\n",
    "sns.barplot(data=tip_percentage_by_distance, x='distance_tier', y='tip_percentage', ax=axes[0])\n",
    "axes[0].set_title('Average Tip Percentage by Distance Tier')\n",
    "axes[0].set_xlabel('Distance Tier')\n",
    "axes[0].set_ylabel('Average Tip Percentage (%)')\n",
    "axes[0].grid(axis='y')\n",
    "# Plot tip percentage by passenger count\n",
    "sns.barplot(data=tip_percentage_by_passenger_count, x='passenger_count', y='tip_percentage', ax=axes[1])\n",
    "axes[1].set_title('Average Tip Percentage by Passenger Count')\n",
    "axes[1].set_xlabel('Passenger Count')\n",
    "axes[1].set_ylabel('Average Tip Percentage (%)')\n",
    "axes[1].grid(axis='y')\n",
    "# Plot tip percentage by pickup hour\n",
    "sns.barplot(data=tip_percentage_by_hour, x='pickup_hour', y='tip_percentage', ax=axes[2])\n",
    "axes[2].set_title('Average Tip Percentage by Pickup Hour')\n",
    "axes[2].set_xlabel('Pickup Hour')\n",
    "axes[2].set_ylabel('Average Tip Percentage (%)')\n",
    "axes[2].grid(axis='y')\n",
    "plt.tight_layout()\n",
    "plt.show()"
   ]
  },
  {
   "cell_type": "markdown",
   "metadata": {
    "id": "wQAIQsrcLm6X"
   },
   "source": [
    "Additional analysis [optional]: Let's try comparing cases of low tips with cases of high tips to find out if we find a clear aspect that drives up the tipping behaviours"
   ]
  },
  {
   "cell_type": "code",
   "execution_count": null,
   "metadata": {
    "collapsed": true,
    "id": "QYoUed6Dn6YW"
   },
   "outputs": [],
   "source": [
    "# Compare trips with tip percentage < 10% to trips with tip percentage > 25%\n",
    "df[\"tip_percentage_category\"] = pd.cut(\n",
    "    df[\"tip_percentage\"], bins=[-1, 10, 25, 100], labels=[\"<10%\", \"10-25%\", \">25%\"]\n",
    ")\n",
    "fare_per_mile_by_tip_category = (\n",
    "    df.groupby(\"tip_percentage_category\", observed=True)[\"fare_per_mile\"]\n",
    "    .mean()\n",
    "    .reset_index()\n",
    ")\n",
    "# Plot the average fare per mile by tip percentage category\n",
    "plt.figure(figsize=(12, 6))\n",
    "sns.barplot(\n",
    "    data=fare_per_mile_by_tip_category, x=\"tip_percentage_category\", y=\"fare_per_mile\"\n",
    ")\n",
    "plt.title(\"Average Fare per Mile by Tip Percentage Category\")\n",
    "plt.xlabel(\"Tip Percentage Category\")\n",
    "plt.ylabel(\"Average Fare per Mile ($)\")\n",
    "plt.grid(axis=\"y\")\n",
    "plt.show()"
   ]
  },
  {
   "cell_type": "markdown",
   "metadata": {
    "id": "0UjvGTRKh6Gx"
   },
   "source": [
    "**3.2.14** <font color = red>[3 marks]</font> <br>\n",
    "Analyse the variation of passenger count across hours and days of the week."
   ]
  },
  {
   "cell_type": "code",
   "execution_count": null,
   "metadata": {
    "id": "rFP0DNRvh6Gx"
   },
   "outputs": [],
   "source": [
    "# See how passenger count varies across hours and days\n",
    "passenger_count_by_hour_day = df.groupby(['pickup_hour', 'pickup_day'])['passenger_count'].mean().reset_index()\n",
    "days_order = ['Monday', 'Tuesday', 'Wednesday', 'Thursday', 'Friday', 'Saturday', 'Sunday']\n",
    "passenger_count_by_hour_day['pickup_day'] = pd.Categorical(passenger_count_by_hour_day['pickup_day'], categories=days_order, ordered=True)\n",
    "passenger_count_by_hour_day = passenger_count_by_hour_day.sort_values(['pickup_hour', 'pickup_day'])\n",
    "# Create a pivot table for better visualization\n",
    "passenger_count_pivot = passenger_count_by_hour_day.pivot(index='pickup_hour', columns='pickup_day', values='passenger_count')\n",
    "# Plot the heatmap\n",
    "plt.figure(figsize=(12, 6))\n",
    "sns.heatmap(passenger_count_pivot, cmap='YlGnBu', annot=True, fmt=\".1f\", linewidths=.5)\n",
    "plt.title('Average Passenger Count by Hour and Day of the Week')\n",
    "plt.xlabel('Day of the Week')\n",
    "plt.ylabel('Hour of the Day')\n",
    "plt.yticks(rotation=45)\n",
    "plt.show()"
   ]
  },
  {
   "cell_type": "markdown",
   "metadata": {
    "id": "zWKLLlb7h6Gy"
   },
   "source": [
    "**3.2.15** <font color = red>[2 marks]</font> <br>\n",
    "Analyse the variation of passenger counts across zones"
   ]
  },
  {
   "cell_type": "code",
   "execution_count": null,
   "metadata": {
    "id": "30h27Uz2h6Gy"
   },
   "outputs": [],
   "source": [
    "# How does passenger count vary across zones\n",
    "passenger_count_by_zone = df.groupby('PULocationID')['passenger_count'].mean().reset_index()\n",
    "passenger_count_by_zone = passenger_count_by_zone.merge(zones[['LocationID', 'zone']], left_on='PULocationID', right_on='LocationID', how='left')\n",
    "passenger_count_by_zone = passenger_count_by_zone[['zone', 'passenger_count']].rename(columns={'zone': 'Pickup Zone'})\n",
    "passenger_count_by_zone.reset_index(drop=True, inplace=True)\n",
    "print(\"Average Passenger Count by Pickup Zone:\")\n",
    "print(passenger_count_by_zone.sort_values(by='passenger_count', ascending=False).head(10))"
   ]
  },
  {
   "cell_type": "code",
   "execution_count": null,
   "metadata": {
    "id": "C3I0AfOkvBWA"
   },
   "outputs": [],
   "source": [
    "# For a more detailed analysis, we can use the zones_with_trips GeoDataFrame\n",
    "zones_with_trips = zones.merge(passenger_count_by_zone, left_on='zone', right_on='Pickup Zone', how='left')\n",
    "zones_with_trips['passenger_count'] = zones_with_trips['passenger_count'].fillna(0)\n",
    "# Define figure and axis\n",
    "fig, ax = plt.subplots(figsize=(8, 8))\n",
    "# Plot the map and display it\n",
    "zones_with_trips.boundary.plot(ax=ax, linewidth=1, color='black')\n",
    "zones_with_trips.plot(column='passenger_count', ax=ax, legend=True, cmap='OrRd', alpha=0.5)\n",
    "plt.title('Pickup Locations Heatmap with Passenger Count')\n",
    "plt.xlabel('Longitude')\n",
    "plt.ylabel('Latitude')\n",
    "plt.grid()\n",
    "plt.show()\n"
   ]
  },
  {
   "cell_type": "markdown",
   "metadata": {
    "id": "rw0j5Z-1h6Gz"
   },
   "source": [
    "Find out how often surcharges/extra charges are applied to understand their prevalance"
   ]
  },
  {
   "cell_type": "markdown",
   "metadata": {
    "id": "x9IHjHFBx6Ye"
   },
   "source": [
    "**3.2.16** <font color = red>[5 marks]</font> <br>\n",
    "Analyse the pickup/dropoff zones or times when extra charges are applied more frequently"
   ]
  },
  {
   "cell_type": "code",
   "execution_count": null,
   "metadata": {
    "id": "nKbXwZJwh6Gz"
   },
   "outputs": [],
   "source": [
    "# How often is each surcharge applied?\n",
    "# Analyze the pickup and dropoff zones when surcharges are applied more frequently\n",
    "surcharge_counts = df.groupby(['PULocationID', 'DOLocationID'])['congestion_surcharge'].sum().reset_index()\n",
    "surcharge_counts = surcharge_counts[surcharge_counts['congestion_surcharge'] > 0]\n",
    "surcharge_counts = surcharge_counts.merge(zones[['LocationID', 'zone']], left_on='PULocationID', right_on='LocationID', how='left')\n",
    "surcharge_counts = surcharge_counts.merge(zones[['LocationID', 'zone']], left_on='DOLocationID', right_on='LocationID', how='left', suffixes=('_PU', '_DO'))\n",
    "surcharge_counts = surcharge_counts[['zone_PU', 'zone_DO', 'congestion_surcharge']].rename(columns={'zone_PU': 'Pickup Zone', 'zone_DO': 'Dropoff Zone', 'congestion_surcharge': 'Surcharge Count'})\n",
    "surcharge_counts.reset_index(drop=True, inplace=True)\n",
    "print(\"Pickup and Dropoff Zones with Congestion Surcharge:\")\n",
    "print(surcharge_counts.sort_values(by='Surcharge Count', ascending=False).head(10))"
   ]
  },
  {
   "cell_type": "markdown",
   "metadata": {
    "id": "bkyc9q40Cts-"
   },
   "source": [
    "## **4** Conclusion\n",
    "<font color = red>[15 marks]</font> <br>"
   ]
  },
  {
   "cell_type": "markdown",
   "metadata": {
    "id": "Z5yCODI-C6yR"
   },
   "source": [
    "### **4.1** Final Insights and Recommendations\n",
    "<font color = red>[15 marks]</font> <br>\n",
    "\n",
    "Conclude your analyses here. Include all the outcomes you found based on the analysis.\n",
    "\n",
    "Based on the insights, frame a concluding story explaining suitable parameters such as location, time of the day, day of the week etc. to be kept in mind while devising a strategy to meet customer demand and optimise supply."
   ]
  },
  {
   "cell_type": "markdown",
   "metadata": {
    "id": "0dy8J-C8jJjk"
   },
   "source": [
    "**4.1.1** <font color = red>[5 marks]</font> <br>\n",
    "Recommendations to optimize routing and dispatching based on demand patterns and operational inefficiencies"
   ]
  },
  {
   "cell_type": "code",
   "execution_count": null,
   "metadata": {
    "id": "J03px17x_rD9"
   },
   "outputs": [],
   "source": [
    "# Ensure that the date time columns are in the correct format, must use pandas dt to convert to datetime\n",
    "# Create new columns or variables to store the groupby data to avoid overwriting the original data\n",
    "# Use plot for visualization to make it easier to see the trends"
   ]
  },
  {
   "cell_type": "markdown",
   "metadata": {
    "id": "AaLgTWxpjt7h"
   },
   "source": [
    "**4.1.2** <font color = red>[5 marks]</font> <br>\n",
    "\n",
    "Suggestions on strategically positioning cabs across different zones to make best use of insights uncovered by analysing trip trends across time, days and months."
   ]
  },
  {
   "cell_type": "code",
   "execution_count": null,
   "metadata": {
    "id": "c8ZbTIF7_rsN"
   },
   "outputs": [],
   "source": [
    "# With the 2 Vendors, we can see that the average fare per mile is higher for Vendor 2 (VeriFone Inc) than for Vendor 1 (Creative Mobile Technologies). This suggests that customers using VeriFone Inc may be paying more for their rides on average.\n",
    "# This could be due to various factors such as different pricing strategies, service quality, or customer demographics.\n",
    "\n",
    "# Customers often use taxis on daytime hours, we must focus on the daytime hours to get a better understanding of the trends.\n",
    "\n",
    "# Some zones like Upper East North and South have a higher number of pickups and dropoffs\n",
    "\n",
    "# Customers use taxis more on weekdays than weekends\n",
    "\n",
    "# The tips are often higher at evening hours and max at 18 PM"
   ]
  },
  {
   "cell_type": "markdown",
   "metadata": {
    "id": "mUU4mn50jMZy"
   },
   "source": [
    "**4.1.3** <font color = red>[5 marks]</font> <br>\n",
    "Propose data-driven adjustments to the pricing strategy to maximize revenue while maintaining competitive rates with other vendors."
   ]
  },
  {
   "cell_type": "code",
   "execution_count": null,
   "metadata": {
    "id": "SXErHFjx_sGN"
   },
   "outputs": [],
   "source": [
    "# Consider implementing a dynamic pricing model that adjusts fares based on demand, time of day, and distance traveled. This could involve increasing fares during peak hours or in high-demand zones while offering discounts during off-peak times to attract more customers.\n",
    "# Additionally, consider offering loyalty programs or incentives for frequent riders to encourage repeat business. Finally, analyze customer feedback and satisfaction to ensure that any pricing adjustments do not negatively impact the overall customer experience.\n",
    "# This could involve conducting surveys or monitoring social media sentiment to gauge customer reactions to pricing changes."
   ]
  },
  {
   "cell_type": "code",
   "execution_count": null,
   "metadata": {},
   "outputs": [],
   "source": []
  }
 ],
 "metadata": {
  "colab": {
   "collapsed_sections": [
    "-OVfUMlHFkZD",
    "0eaCZjHIvfuI",
    "Kw-WRzBfyS7j",
    "nM2X-s6lycvQ",
    "NgHgbPIepaYl",
    "QaOS3H9izZ0N",
    "HZvPSwJx0S3K",
    "x2hakCCy6wXI",
    "2jyQyYIpCztl",
    "gPpJyFFNffcL",
    "a4N3PvkSTwcN",
    "MbGMjArkiXjL",
    "23IqsgNjHNpJ",
    "CVXxcSYHj9sh",
    "Rv0oYLcbhOTU",
    "XBY2Y4Jrz9IQ",
    "nG77smP4tyWu",
    "M2o6xY0Yh6Gv",
    "bkyc9q40Cts-",
    "Z5yCODI-C6yR"
   ],
   "provenance": [
    {
     "file_id": "1PvYLECban8pmD-aFGV_yoRF2PyRwLntw",
     "timestamp": 1737110016234
    },
    {
     "file_id": "1jppXTxMvUcVsY27R_ckdE5DAnxrROUY1",
     "timestamp": 1732620370544
    }
   ],
   "toc_visible": true
  },
  "kernelspec": {
   "display_name": "Python 3",
   "name": "python3"
  },
  "language_info": {
   "codemirror_mode": {
    "name": "ipython",
    "version": 3
   },
   "file_extension": ".py",
   "mimetype": "text/x-python",
   "name": "python",
   "nbconvert_exporter": "python",
   "pygments_lexer": "ipython3",
   "version": "3.13.3"
  }
 },
 "nbformat": 4,
 "nbformat_minor": 0
}
